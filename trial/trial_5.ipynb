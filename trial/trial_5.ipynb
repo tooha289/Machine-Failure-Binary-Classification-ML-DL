{
 "cells": [
  {
   "cell_type": "markdown",
   "id": "de90a59b",
   "metadata": {},
   "source": [
    "# History"
   ]
  },
  {
   "cell_type": "markdown",
   "id": "c31a323e",
   "metadata": {},
   "source": [
    "### Ver2\n",
    "* VIF 분석을 통해 피처 선택을 수행하고 테스트합니다.\n",
    "* VIF 분석 결과 제거할 피처가 없어 permutation_importance 함수를 사용 후 제거할 피쳐를 선택합니다.\n",
    "* Perform feature selection through VIF analysis and test it.\n",
    "* After conducting the VIF analysis and finding no features to remove, I will now use the permutation_importance function to determine which features to remove."
   ]
  },
  {
   "cell_type": "markdown",
   "id": "a3d5f156",
   "metadata": {},
   "source": [
    "### Ver3\n",
    "* RNF와 Type컬럼을 제거한 데이터에 대해서 모델을 학습하고 튜닝합니다.\n",
    "* Train and fine-tune the model using the data excluding the 'RNF' and 'Type' columns."
   ]
  },
  {
   "cell_type": "markdown",
   "id": "41717973",
   "metadata": {},
   "source": [
    "### Ver5\n",
    "* 버전 4는 기각되고 DL 모델의 구조를 변경하고 다시 튜닝을 시도합니다.\n",
    "* Version 4 is rejected, and we will proceed to alter the structure of the deep learning model and attempt tuning once again."
   ]
  },
  {
   "cell_type": "code",
   "execution_count": 1,
   "id": "d9afa5c2",
   "metadata": {
    "scrolled": true
   },
   "outputs": [],
   "source": [
    "# !pip install git+https://github.com/tooha289/DataAnalysisLibrary.git"
   ]
  },
  {
   "cell_type": "markdown",
   "id": "c651fe29",
   "metadata": {},
   "source": [
    "# 사용 모듈 Import"
   ]
  },
  {
   "cell_type": "code",
   "execution_count": 45,
   "id": "8ab7df23-a954-4d9a-b2af-866ede76290a",
   "metadata": {},
   "outputs": [],
   "source": [
    "import logging\n",
    "import numpy as np\n",
    "import pandas as pd\n",
    "import matplotlib.pyplot as plt\n",
    "import seaborn as sns\n",
    "from DataAnalysis import eda\n",
    "from DataAnalysis import feature_engineering\n",
    "\n",
    "from sklearn.preprocessing import OneHotEncoder, LabelEncoder\n",
    "from sklearn.preprocessing import StandardScaler, MinMaxScaler\n",
    "from sklearn.model_selection import train_test_split\n",
    "from sklearn.model_selection import cross_val_score\n",
    "\n",
    "from sklearn.linear_model import LogisticRegression\n",
    "from sklearn.tree import DecisionTreeClassifier\n",
    "from sklearn.ensemble import VotingClassifier\n",
    "from sklearn.ensemble import RandomForestClassifier\n",
    "from xgboost import XGBClassifier\n",
    "\n",
    "from sklearn.model_selection import StratifiedKFold\n",
    "\n",
    "from tensorflow.keras.callbacks import Callback\n",
    "from tensorflow.keras.callbacks import EarlyStopping\n",
    "\n",
    "from tensorflow.keras.models import Sequential\n",
    "from tensorflow.keras.layers import Dense, Dropout, Activation\n",
    "from tensorflow.keras.layers import BatchNormalization\n",
    "from tensorflow.python.keras.utils import np_utils\n",
    "from tensorflow.keras.optimizers import Adam\n",
    "\n",
    "import optuna\n",
    "\n",
    "from sklearn.metrics import accuracy_score, f1_score, confusion_matrix\n",
    "from sklearn.metrics import roc_auc_score"
   ]
  },
  {
   "cell_type": "markdown",
   "id": "3e2e20e6",
   "metadata": {},
   "source": [
    "# 0. Check GPU"
   ]
  },
  {
   "cell_type": "code",
   "execution_count": 3,
   "id": "84715e07",
   "metadata": {},
   "outputs": [
    {
     "name": "stdout",
     "output_type": "stream",
     "text": [
      "GPU 사용 가능: PhysicalDevice(name='/physical_device:GPU:0', device_type='GPU')\n"
     ]
    }
   ],
   "source": [
    "import tensorflow as tf\n",
    "\n",
    "# GPU 디바이스 목록 가져오기\n",
    "gpu_devices = tf.config.experimental.list_physical_devices('GPU')\n",
    "\n",
    "# GPU 사용 가능한 경우\n",
    "if gpu_devices:\n",
    "    for device in gpu_devices:\n",
    "        print(\"GPU 사용 가능:\", device)\n",
    "else:\n",
    "    print(\"GPU 사용 불가능\")"
   ]
  },
  {
   "cell_type": "markdown",
   "id": "a71799bf",
   "metadata": {},
   "source": [
    "# 1. Load & Check Data"
   ]
  },
  {
   "cell_type": "code",
   "execution_count": 4,
   "id": "352ac381",
   "metadata": {},
   "outputs": [
    {
     "data": {
      "text/html": [
       "<div>\n",
       "<style scoped>\n",
       "    .dataframe tbody tr th:only-of-type {\n",
       "        vertical-align: middle;\n",
       "    }\n",
       "\n",
       "    .dataframe tbody tr th {\n",
       "        vertical-align: top;\n",
       "    }\n",
       "\n",
       "    .dataframe thead th {\n",
       "        text-align: right;\n",
       "    }\n",
       "</style>\n",
       "<table border=\"1\" class=\"dataframe\">\n",
       "  <thead>\n",
       "    <tr style=\"text-align: right;\">\n",
       "      <th></th>\n",
       "      <th>id</th>\n",
       "      <th>Product ID</th>\n",
       "      <th>Type</th>\n",
       "      <th>Air temperature [K]</th>\n",
       "      <th>Process temperature [K]</th>\n",
       "      <th>Rotational speed [rpm]</th>\n",
       "      <th>Torque [Nm]</th>\n",
       "      <th>Tool wear [min]</th>\n",
       "      <th>Machine failure</th>\n",
       "      <th>TWF</th>\n",
       "      <th>HDF</th>\n",
       "      <th>PWF</th>\n",
       "      <th>OSF</th>\n",
       "      <th>RNF</th>\n",
       "    </tr>\n",
       "  </thead>\n",
       "  <tbody>\n",
       "    <tr>\n",
       "      <th>0</th>\n",
       "      <td>0</td>\n",
       "      <td>L50096</td>\n",
       "      <td>L</td>\n",
       "      <td>300.6</td>\n",
       "      <td>309.6</td>\n",
       "      <td>1596</td>\n",
       "      <td>36.1</td>\n",
       "      <td>140</td>\n",
       "      <td>0</td>\n",
       "      <td>0</td>\n",
       "      <td>0</td>\n",
       "      <td>0</td>\n",
       "      <td>0</td>\n",
       "      <td>0</td>\n",
       "    </tr>\n",
       "    <tr>\n",
       "      <th>1</th>\n",
       "      <td>1</td>\n",
       "      <td>M20343</td>\n",
       "      <td>M</td>\n",
       "      <td>302.6</td>\n",
       "      <td>312.1</td>\n",
       "      <td>1759</td>\n",
       "      <td>29.1</td>\n",
       "      <td>200</td>\n",
       "      <td>0</td>\n",
       "      <td>0</td>\n",
       "      <td>0</td>\n",
       "      <td>0</td>\n",
       "      <td>0</td>\n",
       "      <td>0</td>\n",
       "    </tr>\n",
       "    <tr>\n",
       "      <th>2</th>\n",
       "      <td>2</td>\n",
       "      <td>L49454</td>\n",
       "      <td>L</td>\n",
       "      <td>299.3</td>\n",
       "      <td>308.5</td>\n",
       "      <td>1805</td>\n",
       "      <td>26.5</td>\n",
       "      <td>25</td>\n",
       "      <td>0</td>\n",
       "      <td>0</td>\n",
       "      <td>0</td>\n",
       "      <td>0</td>\n",
       "      <td>0</td>\n",
       "      <td>0</td>\n",
       "    </tr>\n",
       "    <tr>\n",
       "      <th>3</th>\n",
       "      <td>3</td>\n",
       "      <td>L53355</td>\n",
       "      <td>L</td>\n",
       "      <td>301.0</td>\n",
       "      <td>310.9</td>\n",
       "      <td>1524</td>\n",
       "      <td>44.3</td>\n",
       "      <td>197</td>\n",
       "      <td>0</td>\n",
       "      <td>0</td>\n",
       "      <td>0</td>\n",
       "      <td>0</td>\n",
       "      <td>0</td>\n",
       "      <td>0</td>\n",
       "    </tr>\n",
       "    <tr>\n",
       "      <th>4</th>\n",
       "      <td>4</td>\n",
       "      <td>M24050</td>\n",
       "      <td>M</td>\n",
       "      <td>298.0</td>\n",
       "      <td>309.0</td>\n",
       "      <td>1641</td>\n",
       "      <td>35.4</td>\n",
       "      <td>34</td>\n",
       "      <td>0</td>\n",
       "      <td>0</td>\n",
       "      <td>0</td>\n",
       "      <td>0</td>\n",
       "      <td>0</td>\n",
       "      <td>0</td>\n",
       "    </tr>\n",
       "    <tr>\n",
       "      <th>...</th>\n",
       "      <td>...</td>\n",
       "      <td>...</td>\n",
       "      <td>...</td>\n",
       "      <td>...</td>\n",
       "      <td>...</td>\n",
       "      <td>...</td>\n",
       "      <td>...</td>\n",
       "      <td>...</td>\n",
       "      <td>...</td>\n",
       "      <td>...</td>\n",
       "      <td>...</td>\n",
       "      <td>...</td>\n",
       "      <td>...</td>\n",
       "      <td>...</td>\n",
       "    </tr>\n",
       "    <tr>\n",
       "      <th>136424</th>\n",
       "      <td>136424</td>\n",
       "      <td>M22284</td>\n",
       "      <td>M</td>\n",
       "      <td>300.1</td>\n",
       "      <td>311.4</td>\n",
       "      <td>1530</td>\n",
       "      <td>37.5</td>\n",
       "      <td>210</td>\n",
       "      <td>0</td>\n",
       "      <td>0</td>\n",
       "      <td>0</td>\n",
       "      <td>0</td>\n",
       "      <td>0</td>\n",
       "      <td>0</td>\n",
       "    </tr>\n",
       "    <tr>\n",
       "      <th>136425</th>\n",
       "      <td>136425</td>\n",
       "      <td>H38017</td>\n",
       "      <td>H</td>\n",
       "      <td>297.5</td>\n",
       "      <td>308.5</td>\n",
       "      <td>1447</td>\n",
       "      <td>49.1</td>\n",
       "      <td>2</td>\n",
       "      <td>0</td>\n",
       "      <td>0</td>\n",
       "      <td>0</td>\n",
       "      <td>0</td>\n",
       "      <td>0</td>\n",
       "      <td>0</td>\n",
       "    </tr>\n",
       "    <tr>\n",
       "      <th>136426</th>\n",
       "      <td>136426</td>\n",
       "      <td>L54690</td>\n",
       "      <td>L</td>\n",
       "      <td>300.5</td>\n",
       "      <td>311.8</td>\n",
       "      <td>1524</td>\n",
       "      <td>38.5</td>\n",
       "      <td>214</td>\n",
       "      <td>0</td>\n",
       "      <td>0</td>\n",
       "      <td>0</td>\n",
       "      <td>0</td>\n",
       "      <td>0</td>\n",
       "      <td>0</td>\n",
       "    </tr>\n",
       "    <tr>\n",
       "      <th>136427</th>\n",
       "      <td>136427</td>\n",
       "      <td>L53876</td>\n",
       "      <td>L</td>\n",
       "      <td>301.7</td>\n",
       "      <td>310.9</td>\n",
       "      <td>1447</td>\n",
       "      <td>46.3</td>\n",
       "      <td>42</td>\n",
       "      <td>0</td>\n",
       "      <td>0</td>\n",
       "      <td>0</td>\n",
       "      <td>0</td>\n",
       "      <td>0</td>\n",
       "      <td>0</td>\n",
       "    </tr>\n",
       "    <tr>\n",
       "      <th>136428</th>\n",
       "      <td>136428</td>\n",
       "      <td>L47937</td>\n",
       "      <td>L</td>\n",
       "      <td>296.9</td>\n",
       "      <td>308.1</td>\n",
       "      <td>1557</td>\n",
       "      <td>39.3</td>\n",
       "      <td>229</td>\n",
       "      <td>0</td>\n",
       "      <td>0</td>\n",
       "      <td>0</td>\n",
       "      <td>0</td>\n",
       "      <td>0</td>\n",
       "      <td>0</td>\n",
       "    </tr>\n",
       "  </tbody>\n",
       "</table>\n",
       "<p>136429 rows × 14 columns</p>\n",
       "</div>"
      ],
      "text/plain": [
       "            id Product ID Type  Air temperature [K]  Process temperature [K]  \\\n",
       "0            0     L50096    L                300.6                    309.6   \n",
       "1            1     M20343    M                302.6                    312.1   \n",
       "2            2     L49454    L                299.3                    308.5   \n",
       "3            3     L53355    L                301.0                    310.9   \n",
       "4            4     M24050    M                298.0                    309.0   \n",
       "...        ...        ...  ...                  ...                      ...   \n",
       "136424  136424     M22284    M                300.1                    311.4   \n",
       "136425  136425     H38017    H                297.5                    308.5   \n",
       "136426  136426     L54690    L                300.5                    311.8   \n",
       "136427  136427     L53876    L                301.7                    310.9   \n",
       "136428  136428     L47937    L                296.9                    308.1   \n",
       "\n",
       "        Rotational speed [rpm]  Torque [Nm]  Tool wear [min]  Machine failure  \\\n",
       "0                         1596         36.1              140                0   \n",
       "1                         1759         29.1              200                0   \n",
       "2                         1805         26.5               25                0   \n",
       "3                         1524         44.3              197                0   \n",
       "4                         1641         35.4               34                0   \n",
       "...                        ...          ...              ...              ...   \n",
       "136424                    1530         37.5              210                0   \n",
       "136425                    1447         49.1                2                0   \n",
       "136426                    1524         38.5              214                0   \n",
       "136427                    1447         46.3               42                0   \n",
       "136428                    1557         39.3              229                0   \n",
       "\n",
       "        TWF  HDF  PWF  OSF  RNF  \n",
       "0         0    0    0    0    0  \n",
       "1         0    0    0    0    0  \n",
       "2         0    0    0    0    0  \n",
       "3         0    0    0    0    0  \n",
       "4         0    0    0    0    0  \n",
       "...     ...  ...  ...  ...  ...  \n",
       "136424    0    0    0    0    0  \n",
       "136425    0    0    0    0    0  \n",
       "136426    0    0    0    0    0  \n",
       "136427    0    0    0    0    0  \n",
       "136428    0    0    0    0    0  \n",
       "\n",
       "[136429 rows x 14 columns]"
      ]
     },
     "execution_count": 4,
     "metadata": {},
     "output_type": "execute_result"
    }
   ],
   "source": [
    "df = pd.read_csv('../data/train.csv')\n",
    "df"
   ]
  },
  {
   "cell_type": "code",
   "execution_count": 5,
   "id": "0a8ed210",
   "metadata": {},
   "outputs": [
    {
     "data": {
      "text/html": [
       "<div>\n",
       "<style scoped>\n",
       "    .dataframe tbody tr th:only-of-type {\n",
       "        vertical-align: middle;\n",
       "    }\n",
       "\n",
       "    .dataframe tbody tr th {\n",
       "        vertical-align: top;\n",
       "    }\n",
       "\n",
       "    .dataframe thead th {\n",
       "        text-align: right;\n",
       "    }\n",
       "</style>\n",
       "<table border=\"1\" class=\"dataframe\">\n",
       "  <thead>\n",
       "    <tr style=\"text-align: right;\">\n",
       "      <th></th>\n",
       "      <th>id</th>\n",
       "      <th>Product ID</th>\n",
       "      <th>Type</th>\n",
       "      <th>Air temperature [K]</th>\n",
       "      <th>Process temperature [K]</th>\n",
       "      <th>Rotational speed [rpm]</th>\n",
       "      <th>Torque [Nm]</th>\n",
       "      <th>Tool wear [min]</th>\n",
       "      <th>TWF</th>\n",
       "      <th>HDF</th>\n",
       "      <th>PWF</th>\n",
       "      <th>OSF</th>\n",
       "      <th>RNF</th>\n",
       "    </tr>\n",
       "  </thead>\n",
       "  <tbody>\n",
       "    <tr>\n",
       "      <th>0</th>\n",
       "      <td>136429</td>\n",
       "      <td>L50896</td>\n",
       "      <td>L</td>\n",
       "      <td>302.3</td>\n",
       "      <td>311.5</td>\n",
       "      <td>1499</td>\n",
       "      <td>38.0</td>\n",
       "      <td>60</td>\n",
       "      <td>0</td>\n",
       "      <td>0</td>\n",
       "      <td>0</td>\n",
       "      <td>0</td>\n",
       "      <td>0</td>\n",
       "    </tr>\n",
       "    <tr>\n",
       "      <th>1</th>\n",
       "      <td>136430</td>\n",
       "      <td>L53866</td>\n",
       "      <td>L</td>\n",
       "      <td>301.7</td>\n",
       "      <td>311.0</td>\n",
       "      <td>1713</td>\n",
       "      <td>28.8</td>\n",
       "      <td>17</td>\n",
       "      <td>0</td>\n",
       "      <td>0</td>\n",
       "      <td>0</td>\n",
       "      <td>0</td>\n",
       "      <td>0</td>\n",
       "    </tr>\n",
       "    <tr>\n",
       "      <th>2</th>\n",
       "      <td>136431</td>\n",
       "      <td>L50498</td>\n",
       "      <td>L</td>\n",
       "      <td>301.3</td>\n",
       "      <td>310.4</td>\n",
       "      <td>1525</td>\n",
       "      <td>37.7</td>\n",
       "      <td>96</td>\n",
       "      <td>0</td>\n",
       "      <td>0</td>\n",
       "      <td>0</td>\n",
       "      <td>0</td>\n",
       "      <td>0</td>\n",
       "    </tr>\n",
       "    <tr>\n",
       "      <th>3</th>\n",
       "      <td>136432</td>\n",
       "      <td>M21232</td>\n",
       "      <td>M</td>\n",
       "      <td>300.1</td>\n",
       "      <td>309.6</td>\n",
       "      <td>1479</td>\n",
       "      <td>47.6</td>\n",
       "      <td>5</td>\n",
       "      <td>0</td>\n",
       "      <td>0</td>\n",
       "      <td>0</td>\n",
       "      <td>0</td>\n",
       "      <td>0</td>\n",
       "    </tr>\n",
       "    <tr>\n",
       "      <th>4</th>\n",
       "      <td>136433</td>\n",
       "      <td>M19751</td>\n",
       "      <td>M</td>\n",
       "      <td>303.4</td>\n",
       "      <td>312.3</td>\n",
       "      <td>1515</td>\n",
       "      <td>41.3</td>\n",
       "      <td>114</td>\n",
       "      <td>0</td>\n",
       "      <td>0</td>\n",
       "      <td>0</td>\n",
       "      <td>0</td>\n",
       "      <td>0</td>\n",
       "    </tr>\n",
       "    <tr>\n",
       "      <th>...</th>\n",
       "      <td>...</td>\n",
       "      <td>...</td>\n",
       "      <td>...</td>\n",
       "      <td>...</td>\n",
       "      <td>...</td>\n",
       "      <td>...</td>\n",
       "      <td>...</td>\n",
       "      <td>...</td>\n",
       "      <td>...</td>\n",
       "      <td>...</td>\n",
       "      <td>...</td>\n",
       "      <td>...</td>\n",
       "      <td>...</td>\n",
       "    </tr>\n",
       "    <tr>\n",
       "      <th>90949</th>\n",
       "      <td>227378</td>\n",
       "      <td>L51130</td>\n",
       "      <td>L</td>\n",
       "      <td>302.3</td>\n",
       "      <td>311.4</td>\n",
       "      <td>1484</td>\n",
       "      <td>40.4</td>\n",
       "      <td>15</td>\n",
       "      <td>0</td>\n",
       "      <td>0</td>\n",
       "      <td>0</td>\n",
       "      <td>0</td>\n",
       "      <td>0</td>\n",
       "    </tr>\n",
       "    <tr>\n",
       "      <th>90950</th>\n",
       "      <td>227379</td>\n",
       "      <td>L47783</td>\n",
       "      <td>L</td>\n",
       "      <td>297.9</td>\n",
       "      <td>309.8</td>\n",
       "      <td>1542</td>\n",
       "      <td>33.8</td>\n",
       "      <td>31</td>\n",
       "      <td>0</td>\n",
       "      <td>0</td>\n",
       "      <td>0</td>\n",
       "      <td>0</td>\n",
       "      <td>0</td>\n",
       "    </tr>\n",
       "    <tr>\n",
       "      <th>90951</th>\n",
       "      <td>227380</td>\n",
       "      <td>L48097</td>\n",
       "      <td>L</td>\n",
       "      <td>295.6</td>\n",
       "      <td>306.2</td>\n",
       "      <td>1501</td>\n",
       "      <td>41.4</td>\n",
       "      <td>187</td>\n",
       "      <td>0</td>\n",
       "      <td>0</td>\n",
       "      <td>0</td>\n",
       "      <td>0</td>\n",
       "      <td>0</td>\n",
       "    </tr>\n",
       "    <tr>\n",
       "      <th>90952</th>\n",
       "      <td>227381</td>\n",
       "      <td>L48969</td>\n",
       "      <td>L</td>\n",
       "      <td>298.1</td>\n",
       "      <td>307.8</td>\n",
       "      <td>1534</td>\n",
       "      <td>40.3</td>\n",
       "      <td>69</td>\n",
       "      <td>0</td>\n",
       "      <td>0</td>\n",
       "      <td>0</td>\n",
       "      <td>0</td>\n",
       "      <td>0</td>\n",
       "    </tr>\n",
       "    <tr>\n",
       "      <th>90953</th>\n",
       "      <td>227382</td>\n",
       "      <td>L52525</td>\n",
       "      <td>L</td>\n",
       "      <td>303.5</td>\n",
       "      <td>312.8</td>\n",
       "      <td>1534</td>\n",
       "      <td>36.1</td>\n",
       "      <td>92</td>\n",
       "      <td>0</td>\n",
       "      <td>0</td>\n",
       "      <td>0</td>\n",
       "      <td>0</td>\n",
       "      <td>0</td>\n",
       "    </tr>\n",
       "  </tbody>\n",
       "</table>\n",
       "<p>90954 rows × 13 columns</p>\n",
       "</div>"
      ],
      "text/plain": [
       "           id Product ID Type  Air temperature [K]  Process temperature [K]  \\\n",
       "0      136429     L50896    L                302.3                    311.5   \n",
       "1      136430     L53866    L                301.7                    311.0   \n",
       "2      136431     L50498    L                301.3                    310.4   \n",
       "3      136432     M21232    M                300.1                    309.6   \n",
       "4      136433     M19751    M                303.4                    312.3   \n",
       "...       ...        ...  ...                  ...                      ...   \n",
       "90949  227378     L51130    L                302.3                    311.4   \n",
       "90950  227379     L47783    L                297.9                    309.8   \n",
       "90951  227380     L48097    L                295.6                    306.2   \n",
       "90952  227381     L48969    L                298.1                    307.8   \n",
       "90953  227382     L52525    L                303.5                    312.8   \n",
       "\n",
       "       Rotational speed [rpm]  Torque [Nm]  Tool wear [min]  TWF  HDF  PWF  \\\n",
       "0                        1499         38.0               60    0    0    0   \n",
       "1                        1713         28.8               17    0    0    0   \n",
       "2                        1525         37.7               96    0    0    0   \n",
       "3                        1479         47.6                5    0    0    0   \n",
       "4                        1515         41.3              114    0    0    0   \n",
       "...                       ...          ...              ...  ...  ...  ...   \n",
       "90949                    1484         40.4               15    0    0    0   \n",
       "90950                    1542         33.8               31    0    0    0   \n",
       "90951                    1501         41.4              187    0    0    0   \n",
       "90952                    1534         40.3               69    0    0    0   \n",
       "90953                    1534         36.1               92    0    0    0   \n",
       "\n",
       "       OSF  RNF  \n",
       "0        0    0  \n",
       "1        0    0  \n",
       "2        0    0  \n",
       "3        0    0  \n",
       "4        0    0  \n",
       "...    ...  ...  \n",
       "90949    0    0  \n",
       "90950    0    0  \n",
       "90951    0    0  \n",
       "90952    0    0  \n",
       "90953    0    0  \n",
       "\n",
       "[90954 rows x 13 columns]"
      ]
     },
     "execution_count": 5,
     "metadata": {},
     "output_type": "execute_result"
    }
   ],
   "source": [
    "test_df = pd.read_csv('../data/test.csv')\n",
    "test_df"
   ]
  },
  {
   "cell_type": "code",
   "execution_count": 6,
   "id": "0cdcd5de-2498-486e-b0d2-5656f25ace79",
   "metadata": {},
   "outputs": [
    {
     "name": "stdout",
     "output_type": "stream",
     "text": [
      "<class 'pandas.core.frame.DataFrame'>\n",
      "RangeIndex: 136429 entries, 0 to 136428\n",
      "Data columns (total 14 columns):\n",
      " #   Column                   Non-Null Count   Dtype  \n",
      "---  ------                   --------------   -----  \n",
      " 0   id                       136429 non-null  int64  \n",
      " 1   Product ID               136429 non-null  object \n",
      " 2   Type                     136429 non-null  object \n",
      " 3   Air temperature [K]      136429 non-null  float64\n",
      " 4   Process temperature [K]  136429 non-null  float64\n",
      " 5   Rotational speed [rpm]   136429 non-null  int64  \n",
      " 6   Torque [Nm]              136429 non-null  float64\n",
      " 7   Tool wear [min]          136429 non-null  int64  \n",
      " 8   Machine failure          136429 non-null  int64  \n",
      " 9   TWF                      136429 non-null  int64  \n",
      " 10  HDF                      136429 non-null  int64  \n",
      " 11  PWF                      136429 non-null  int64  \n",
      " 12  OSF                      136429 non-null  int64  \n",
      " 13  RNF                      136429 non-null  int64  \n",
      "dtypes: float64(3), int64(9), object(2)\n",
      "memory usage: 14.6+ MB\n"
     ]
    }
   ],
   "source": [
    "df.info()"
   ]
  },
  {
   "cell_type": "code",
   "execution_count": 7,
   "id": "261b5b50-e81c-40b5-b844-caa4e5b46e79",
   "metadata": {
    "scrolled": true
   },
   "outputs": [
    {
     "data": {
      "text/html": [
       "<div>\n",
       "<style scoped>\n",
       "    .dataframe tbody tr th:only-of-type {\n",
       "        vertical-align: middle;\n",
       "    }\n",
       "\n",
       "    .dataframe tbody tr th {\n",
       "        vertical-align: top;\n",
       "    }\n",
       "\n",
       "    .dataframe thead th {\n",
       "        text-align: right;\n",
       "    }\n",
       "</style>\n",
       "<table border=\"1\" class=\"dataframe\">\n",
       "  <thead>\n",
       "    <tr style=\"text-align: right;\">\n",
       "      <th></th>\n",
       "      <th>count</th>\n",
       "      <th>unique</th>\n",
       "      <th>top</th>\n",
       "      <th>freq</th>\n",
       "      <th>mean</th>\n",
       "      <th>std</th>\n",
       "      <th>min</th>\n",
       "      <th>25%</th>\n",
       "      <th>50%</th>\n",
       "      <th>75%</th>\n",
       "      <th>max</th>\n",
       "    </tr>\n",
       "  </thead>\n",
       "  <tbody>\n",
       "    <tr>\n",
       "      <th>id</th>\n",
       "      <td>136429.0</td>\n",
       "      <td>NaN</td>\n",
       "      <td>NaN</td>\n",
       "      <td>NaN</td>\n",
       "      <td>68214.0</td>\n",
       "      <td>39383.804275</td>\n",
       "      <td>0.0</td>\n",
       "      <td>34107.0</td>\n",
       "      <td>68214.0</td>\n",
       "      <td>102321.0</td>\n",
       "      <td>136428.0</td>\n",
       "    </tr>\n",
       "    <tr>\n",
       "      <th>Product ID</th>\n",
       "      <td>136429</td>\n",
       "      <td>9976</td>\n",
       "      <td>L53257</td>\n",
       "      <td>139</td>\n",
       "      <td>NaN</td>\n",
       "      <td>NaN</td>\n",
       "      <td>NaN</td>\n",
       "      <td>NaN</td>\n",
       "      <td>NaN</td>\n",
       "      <td>NaN</td>\n",
       "      <td>NaN</td>\n",
       "    </tr>\n",
       "    <tr>\n",
       "      <th>Type</th>\n",
       "      <td>136429</td>\n",
       "      <td>3</td>\n",
       "      <td>L</td>\n",
       "      <td>95354</td>\n",
       "      <td>NaN</td>\n",
       "      <td>NaN</td>\n",
       "      <td>NaN</td>\n",
       "      <td>NaN</td>\n",
       "      <td>NaN</td>\n",
       "      <td>NaN</td>\n",
       "      <td>NaN</td>\n",
       "    </tr>\n",
       "    <tr>\n",
       "      <th>Air temperature [K]</th>\n",
       "      <td>136429.0</td>\n",
       "      <td>NaN</td>\n",
       "      <td>NaN</td>\n",
       "      <td>NaN</td>\n",
       "      <td>299.862776</td>\n",
       "      <td>1.862247</td>\n",
       "      <td>295.3</td>\n",
       "      <td>298.3</td>\n",
       "      <td>300.0</td>\n",
       "      <td>301.2</td>\n",
       "      <td>304.4</td>\n",
       "    </tr>\n",
       "    <tr>\n",
       "      <th>Process temperature [K]</th>\n",
       "      <td>136429.0</td>\n",
       "      <td>NaN</td>\n",
       "      <td>NaN</td>\n",
       "      <td>NaN</td>\n",
       "      <td>309.94107</td>\n",
       "      <td>1.385173</td>\n",
       "      <td>305.8</td>\n",
       "      <td>308.7</td>\n",
       "      <td>310.0</td>\n",
       "      <td>310.9</td>\n",
       "      <td>313.8</td>\n",
       "    </tr>\n",
       "    <tr>\n",
       "      <th>Rotational speed [rpm]</th>\n",
       "      <td>136429.0</td>\n",
       "      <td>NaN</td>\n",
       "      <td>NaN</td>\n",
       "      <td>NaN</td>\n",
       "      <td>1520.33111</td>\n",
       "      <td>138.736632</td>\n",
       "      <td>1181.0</td>\n",
       "      <td>1432.0</td>\n",
       "      <td>1493.0</td>\n",
       "      <td>1580.0</td>\n",
       "      <td>2886.0</td>\n",
       "    </tr>\n",
       "    <tr>\n",
       "      <th>Torque [Nm]</th>\n",
       "      <td>136429.0</td>\n",
       "      <td>NaN</td>\n",
       "      <td>NaN</td>\n",
       "      <td>NaN</td>\n",
       "      <td>40.348643</td>\n",
       "      <td>8.502229</td>\n",
       "      <td>3.8</td>\n",
       "      <td>34.6</td>\n",
       "      <td>40.4</td>\n",
       "      <td>46.1</td>\n",
       "      <td>76.6</td>\n",
       "    </tr>\n",
       "    <tr>\n",
       "      <th>Tool wear [min]</th>\n",
       "      <td>136429.0</td>\n",
       "      <td>NaN</td>\n",
       "      <td>NaN</td>\n",
       "      <td>NaN</td>\n",
       "      <td>104.408901</td>\n",
       "      <td>63.96504</td>\n",
       "      <td>0.0</td>\n",
       "      <td>48.0</td>\n",
       "      <td>106.0</td>\n",
       "      <td>159.0</td>\n",
       "      <td>253.0</td>\n",
       "    </tr>\n",
       "    <tr>\n",
       "      <th>Machine failure</th>\n",
       "      <td>136429.0</td>\n",
       "      <td>NaN</td>\n",
       "      <td>NaN</td>\n",
       "      <td>NaN</td>\n",
       "      <td>0.015744</td>\n",
       "      <td>0.124486</td>\n",
       "      <td>0.0</td>\n",
       "      <td>0.0</td>\n",
       "      <td>0.0</td>\n",
       "      <td>0.0</td>\n",
       "      <td>1.0</td>\n",
       "    </tr>\n",
       "    <tr>\n",
       "      <th>TWF</th>\n",
       "      <td>136429.0</td>\n",
       "      <td>NaN</td>\n",
       "      <td>NaN</td>\n",
       "      <td>NaN</td>\n",
       "      <td>0.001554</td>\n",
       "      <td>0.039389</td>\n",
       "      <td>0.0</td>\n",
       "      <td>0.0</td>\n",
       "      <td>0.0</td>\n",
       "      <td>0.0</td>\n",
       "      <td>1.0</td>\n",
       "    </tr>\n",
       "    <tr>\n",
       "      <th>HDF</th>\n",
       "      <td>136429.0</td>\n",
       "      <td>NaN</td>\n",
       "      <td>NaN</td>\n",
       "      <td>NaN</td>\n",
       "      <td>0.00516</td>\n",
       "      <td>0.071649</td>\n",
       "      <td>0.0</td>\n",
       "      <td>0.0</td>\n",
       "      <td>0.0</td>\n",
       "      <td>0.0</td>\n",
       "      <td>1.0</td>\n",
       "    </tr>\n",
       "    <tr>\n",
       "      <th>PWF</th>\n",
       "      <td>136429.0</td>\n",
       "      <td>NaN</td>\n",
       "      <td>NaN</td>\n",
       "      <td>NaN</td>\n",
       "      <td>0.002397</td>\n",
       "      <td>0.048899</td>\n",
       "      <td>0.0</td>\n",
       "      <td>0.0</td>\n",
       "      <td>0.0</td>\n",
       "      <td>0.0</td>\n",
       "      <td>1.0</td>\n",
       "    </tr>\n",
       "    <tr>\n",
       "      <th>OSF</th>\n",
       "      <td>136429.0</td>\n",
       "      <td>NaN</td>\n",
       "      <td>NaN</td>\n",
       "      <td>NaN</td>\n",
       "      <td>0.003958</td>\n",
       "      <td>0.062789</td>\n",
       "      <td>0.0</td>\n",
       "      <td>0.0</td>\n",
       "      <td>0.0</td>\n",
       "      <td>0.0</td>\n",
       "      <td>1.0</td>\n",
       "    </tr>\n",
       "    <tr>\n",
       "      <th>RNF</th>\n",
       "      <td>136429.0</td>\n",
       "      <td>NaN</td>\n",
       "      <td>NaN</td>\n",
       "      <td>NaN</td>\n",
       "      <td>0.002258</td>\n",
       "      <td>0.047461</td>\n",
       "      <td>0.0</td>\n",
       "      <td>0.0</td>\n",
       "      <td>0.0</td>\n",
       "      <td>0.0</td>\n",
       "      <td>1.0</td>\n",
       "    </tr>\n",
       "  </tbody>\n",
       "</table>\n",
       "</div>"
      ],
      "text/plain": [
       "                            count unique     top   freq        mean  \\\n",
       "id                       136429.0    NaN     NaN    NaN     68214.0   \n",
       "Product ID                 136429   9976  L53257    139         NaN   \n",
       "Type                       136429      3       L  95354         NaN   \n",
       "Air temperature [K]      136429.0    NaN     NaN    NaN  299.862776   \n",
       "Process temperature [K]  136429.0    NaN     NaN    NaN   309.94107   \n",
       "Rotational speed [rpm]   136429.0    NaN     NaN    NaN  1520.33111   \n",
       "Torque [Nm]              136429.0    NaN     NaN    NaN   40.348643   \n",
       "Tool wear [min]          136429.0    NaN     NaN    NaN  104.408901   \n",
       "Machine failure          136429.0    NaN     NaN    NaN    0.015744   \n",
       "TWF                      136429.0    NaN     NaN    NaN    0.001554   \n",
       "HDF                      136429.0    NaN     NaN    NaN     0.00516   \n",
       "PWF                      136429.0    NaN     NaN    NaN    0.002397   \n",
       "OSF                      136429.0    NaN     NaN    NaN    0.003958   \n",
       "RNF                      136429.0    NaN     NaN    NaN    0.002258   \n",
       "\n",
       "                                  std     min      25%      50%       75%  \\\n",
       "id                       39383.804275     0.0  34107.0  68214.0  102321.0   \n",
       "Product ID                        NaN     NaN      NaN      NaN       NaN   \n",
       "Type                              NaN     NaN      NaN      NaN       NaN   \n",
       "Air temperature [K]          1.862247   295.3    298.3    300.0     301.2   \n",
       "Process temperature [K]      1.385173   305.8    308.7    310.0     310.9   \n",
       "Rotational speed [rpm]     138.736632  1181.0   1432.0   1493.0    1580.0   \n",
       "Torque [Nm]                  8.502229     3.8     34.6     40.4      46.1   \n",
       "Tool wear [min]              63.96504     0.0     48.0    106.0     159.0   \n",
       "Machine failure              0.124486     0.0      0.0      0.0       0.0   \n",
       "TWF                          0.039389     0.0      0.0      0.0       0.0   \n",
       "HDF                          0.071649     0.0      0.0      0.0       0.0   \n",
       "PWF                          0.048899     0.0      0.0      0.0       0.0   \n",
       "OSF                          0.062789     0.0      0.0      0.0       0.0   \n",
       "RNF                          0.047461     0.0      0.0      0.0       0.0   \n",
       "\n",
       "                              max  \n",
       "id                       136428.0  \n",
       "Product ID                    NaN  \n",
       "Type                          NaN  \n",
       "Air temperature [K]         304.4  \n",
       "Process temperature [K]     313.8  \n",
       "Rotational speed [rpm]     2886.0  \n",
       "Torque [Nm]                  76.6  \n",
       "Tool wear [min]             253.0  \n",
       "Machine failure               1.0  \n",
       "TWF                           1.0  \n",
       "HDF                           1.0  \n",
       "PWF                           1.0  \n",
       "OSF                           1.0  \n",
       "RNF                           1.0  "
      ]
     },
     "execution_count": 7,
     "metadata": {},
     "output_type": "execute_result"
    }
   ],
   "source": [
    "df.describe(include=\"all\").T"
   ]
  },
  {
   "cell_type": "code",
   "execution_count": 8,
   "id": "d636a663",
   "metadata": {},
   "outputs": [
    {
     "data": {
      "text/plain": [
       "id                         0\n",
       "Product ID                 0\n",
       "Type                       0\n",
       "Air temperature [K]        0\n",
       "Process temperature [K]    0\n",
       "Rotational speed [rpm]     0\n",
       "Torque [Nm]                0\n",
       "Tool wear [min]            0\n",
       "Machine failure            0\n",
       "TWF                        0\n",
       "HDF                        0\n",
       "PWF                        0\n",
       "OSF                        0\n",
       "RNF                        0\n",
       "dtype: int64"
      ]
     },
     "execution_count": 8,
     "metadata": {},
     "output_type": "execute_result"
    }
   ],
   "source": [
    "df.isnull().sum()"
   ]
  },
  {
   "cell_type": "markdown",
   "id": "a04dd94b",
   "metadata": {},
   "source": [
    "# 2. Separate columns"
   ]
  },
  {
   "cell_type": "code",
   "execution_count": 9,
   "id": "cd48da18-d395-49f7-9233-882ceac29451",
   "metadata": {},
   "outputs": [],
   "source": [
    "feature_cols = df.columns.difference(['id', 'Product ID', 'Machine failure'])\n",
    "numeric_cols = df.columns.difference(['id', 'Product ID', 'Machine failure', 'Type'])\n",
    "continuos_cols = feature_cols.difference([\"TWF\", \"HDF\", \"PWF\", \"OSF\", \"RNF\", \"Type\"])\n",
    "discrete_cols = feature_cols.difference(continuos_cols)"
   ]
  },
  {
   "cell_type": "markdown",
   "id": "7d8703e9",
   "metadata": {},
   "source": [
    "# 3. FeatureEngineering"
   ]
  },
  {
   "cell_type": "markdown",
   "id": "9259ff84",
   "metadata": {},
   "source": [
    "## 3.1 Preprocessing"
   ]
  },
  {
   "cell_type": "code",
   "execution_count": 10,
   "id": "c8a388b5",
   "metadata": {},
   "outputs": [],
   "source": [
    "dfp = feature_engineering.DataFramePreprocessor()\n",
    "le = LabelEncoder()\n",
    "stds = StandardScaler()"
   ]
  },
  {
   "cell_type": "markdown",
   "id": "b38f8084",
   "metadata": {},
   "source": [
    "### 3.1.1 Train set"
   ]
  },
  {
   "cell_type": "code",
   "execution_count": 11,
   "id": "9c069810",
   "metadata": {},
   "outputs": [
    {
     "data": {
      "text/html": [
       "<div>\n",
       "<style scoped>\n",
       "    .dataframe tbody tr th:only-of-type {\n",
       "        vertical-align: middle;\n",
       "    }\n",
       "\n",
       "    .dataframe tbody tr th {\n",
       "        vertical-align: top;\n",
       "    }\n",
       "\n",
       "    .dataframe thead th {\n",
       "        text-align: right;\n",
       "    }\n",
       "</style>\n",
       "<table border=\"1\" class=\"dataframe\">\n",
       "  <thead>\n",
       "    <tr style=\"text-align: right;\">\n",
       "      <th></th>\n",
       "      <th>Type</th>\n",
       "      <th>Air temperature [K]</th>\n",
       "      <th>Process temperature [K]</th>\n",
       "      <th>Rotational speed [rpm]</th>\n",
       "      <th>Tool wear [min]</th>\n",
       "      <th>Torque [Nm]</th>\n",
       "      <th>HDF</th>\n",
       "      <th>OSF</th>\n",
       "      <th>PWF</th>\n",
       "      <th>RNF</th>\n",
       "      <th>TWF</th>\n",
       "    </tr>\n",
       "  </thead>\n",
       "  <tbody>\n",
       "    <tr>\n",
       "      <th>0</th>\n",
       "      <td>1</td>\n",
       "      <td>0.395880</td>\n",
       "      <td>-0.246230</td>\n",
       "      <td>0.545416</td>\n",
       "      <td>0.556417</td>\n",
       "      <td>-0.499711</td>\n",
       "      <td>0</td>\n",
       "      <td>0</td>\n",
       "      <td>0</td>\n",
       "      <td>0</td>\n",
       "      <td>0</td>\n",
       "    </tr>\n",
       "    <tr>\n",
       "      <th>1</th>\n",
       "      <td>2</td>\n",
       "      <td>1.469856</td>\n",
       "      <td>1.558605</td>\n",
       "      <td>1.720308</td>\n",
       "      <td>1.494433</td>\n",
       "      <td>-1.323028</td>\n",
       "      <td>0</td>\n",
       "      <td>0</td>\n",
       "      <td>0</td>\n",
       "      <td>0</td>\n",
       "      <td>0</td>\n",
       "    </tr>\n",
       "    <tr>\n",
       "      <th>2</th>\n",
       "      <td>1</td>\n",
       "      <td>-0.302204</td>\n",
       "      <td>-1.040358</td>\n",
       "      <td>2.051873</td>\n",
       "      <td>-1.241447</td>\n",
       "      <td>-1.628831</td>\n",
       "      <td>0</td>\n",
       "      <td>0</td>\n",
       "      <td>0</td>\n",
       "      <td>0</td>\n",
       "      <td>0</td>\n",
       "    </tr>\n",
       "    <tr>\n",
       "      <th>3</th>\n",
       "      <td>1</td>\n",
       "      <td>0.610675</td>\n",
       "      <td>0.692284</td>\n",
       "      <td>0.026445</td>\n",
       "      <td>1.447532</td>\n",
       "      <td>0.464745</td>\n",
       "      <td>0</td>\n",
       "      <td>0</td>\n",
       "      <td>0</td>\n",
       "      <td>0</td>\n",
       "      <td>0</td>\n",
       "    </tr>\n",
       "    <tr>\n",
       "      <th>4</th>\n",
       "      <td>2</td>\n",
       "      <td>-1.000288</td>\n",
       "      <td>-0.679391</td>\n",
       "      <td>0.869773</td>\n",
       "      <td>-1.100744</td>\n",
       "      <td>-0.582043</td>\n",
       "      <td>0</td>\n",
       "      <td>0</td>\n",
       "      <td>0</td>\n",
       "      <td>0</td>\n",
       "      <td>0</td>\n",
       "    </tr>\n",
       "    <tr>\n",
       "      <th>...</th>\n",
       "      <td>...</td>\n",
       "      <td>...</td>\n",
       "      <td>...</td>\n",
       "      <td>...</td>\n",
       "      <td>...</td>\n",
       "      <td>...</td>\n",
       "      <td>...</td>\n",
       "      <td>...</td>\n",
       "      <td>...</td>\n",
       "      <td>...</td>\n",
       "      <td>...</td>\n",
       "    </tr>\n",
       "    <tr>\n",
       "      <th>136424</th>\n",
       "      <td>2</td>\n",
       "      <td>0.127386</td>\n",
       "      <td>1.053251</td>\n",
       "      <td>0.069693</td>\n",
       "      <td>1.650769</td>\n",
       "      <td>-0.335048</td>\n",
       "      <td>0</td>\n",
       "      <td>0</td>\n",
       "      <td>0</td>\n",
       "      <td>0</td>\n",
       "      <td>0</td>\n",
       "    </tr>\n",
       "    <tr>\n",
       "      <th>136425</th>\n",
       "      <td>0</td>\n",
       "      <td>-1.268781</td>\n",
       "      <td>-1.040358</td>\n",
       "      <td>-0.528565</td>\n",
       "      <td>-1.601020</td>\n",
       "      <td>1.029305</td>\n",
       "      <td>0</td>\n",
       "      <td>0</td>\n",
       "      <td>0</td>\n",
       "      <td>0</td>\n",
       "      <td>0</td>\n",
       "    </tr>\n",
       "    <tr>\n",
       "      <th>136426</th>\n",
       "      <td>1</td>\n",
       "      <td>0.342182</td>\n",
       "      <td>1.342025</td>\n",
       "      <td>0.026445</td>\n",
       "      <td>1.713303</td>\n",
       "      <td>-0.217431</td>\n",
       "      <td>0</td>\n",
       "      <td>0</td>\n",
       "      <td>0</td>\n",
       "      <td>0</td>\n",
       "      <td>0</td>\n",
       "    </tr>\n",
       "    <tr>\n",
       "      <th>136427</th>\n",
       "      <td>1</td>\n",
       "      <td>0.986567</td>\n",
       "      <td>0.692284</td>\n",
       "      <td>-0.528565</td>\n",
       "      <td>-0.975676</td>\n",
       "      <td>0.699979</td>\n",
       "      <td>0</td>\n",
       "      <td>0</td>\n",
       "      <td>0</td>\n",
       "      <td>0</td>\n",
       "      <td>0</td>\n",
       "    </tr>\n",
       "    <tr>\n",
       "      <th>136428</th>\n",
       "      <td>1</td>\n",
       "      <td>-1.590974</td>\n",
       "      <td>-1.329132</td>\n",
       "      <td>0.264307</td>\n",
       "      <td>1.947807</td>\n",
       "      <td>-0.123338</td>\n",
       "      <td>0</td>\n",
       "      <td>0</td>\n",
       "      <td>0</td>\n",
       "      <td>0</td>\n",
       "      <td>0</td>\n",
       "    </tr>\n",
       "  </tbody>\n",
       "</table>\n",
       "<p>136429 rows × 11 columns</p>\n",
       "</div>"
      ],
      "text/plain": [
       "        Type  Air temperature [K]  Process temperature [K]  \\\n",
       "0          1             0.395880                -0.246230   \n",
       "1          2             1.469856                 1.558605   \n",
       "2          1            -0.302204                -1.040358   \n",
       "3          1             0.610675                 0.692284   \n",
       "4          2            -1.000288                -0.679391   \n",
       "...      ...                  ...                      ...   \n",
       "136424     2             0.127386                 1.053251   \n",
       "136425     0            -1.268781                -1.040358   \n",
       "136426     1             0.342182                 1.342025   \n",
       "136427     1             0.986567                 0.692284   \n",
       "136428     1            -1.590974                -1.329132   \n",
       "\n",
       "        Rotational speed [rpm]  Tool wear [min]  Torque [Nm]  HDF  OSF  PWF  \\\n",
       "0                     0.545416         0.556417    -0.499711    0    0    0   \n",
       "1                     1.720308         1.494433    -1.323028    0    0    0   \n",
       "2                     2.051873        -1.241447    -1.628831    0    0    0   \n",
       "3                     0.026445         1.447532     0.464745    0    0    0   \n",
       "4                     0.869773        -1.100744    -0.582043    0    0    0   \n",
       "...                        ...              ...          ...  ...  ...  ...   \n",
       "136424                0.069693         1.650769    -0.335048    0    0    0   \n",
       "136425               -0.528565        -1.601020     1.029305    0    0    0   \n",
       "136426                0.026445         1.713303    -0.217431    0    0    0   \n",
       "136427               -0.528565        -0.975676     0.699979    0    0    0   \n",
       "136428                0.264307         1.947807    -0.123338    0    0    0   \n",
       "\n",
       "        RNF  TWF  \n",
       "0         0    0  \n",
       "1         0    0  \n",
       "2         0    0  \n",
       "3         0    0  \n",
       "4         0    0  \n",
       "...     ...  ...  \n",
       "136424    0    0  \n",
       "136425    0    0  \n",
       "136426    0    0  \n",
       "136427    0    0  \n",
       "136428    0    0  \n",
       "\n",
       "[136429 rows x 11 columns]"
      ]
     },
     "execution_count": 11,
     "metadata": {},
     "output_type": "execute_result"
    }
   ],
   "source": [
    "x_data = df.copy()\n",
    "x_data = x_data.drop(labels=['id', 'Product ID'], axis=1)\n",
    "x_data, _ = dfp.fit_transform_multiple_transformer(x_data, [le, stds], [[\"Type\"], continuos_cols])\n",
    "x_data = pd.concat([x_data, df[discrete_cols.difference(['Type'])]], axis=1)\n",
    "\n",
    "x_data[discrete_cols] = x_data[discrete_cols].astype(\"int8\")\n",
    "x_data"
   ]
  },
  {
   "cell_type": "code",
   "execution_count": 12,
   "id": "06efcba7",
   "metadata": {},
   "outputs": [
    {
     "name": "stdout",
     "output_type": "stream",
     "text": [
      "<class 'pandas.core.frame.DataFrame'>\n",
      "RangeIndex: 136429 entries, 0 to 136428\n",
      "Data columns (total 11 columns):\n",
      " #   Column                   Non-Null Count   Dtype  \n",
      "---  ------                   --------------   -----  \n",
      " 0   Type                     136429 non-null  int8   \n",
      " 1   Air temperature [K]      136429 non-null  float64\n",
      " 2   Process temperature [K]  136429 non-null  float64\n",
      " 3   Rotational speed [rpm]   136429 non-null  float64\n",
      " 4   Tool wear [min]          136429 non-null  float64\n",
      " 5   Torque [Nm]              136429 non-null  float64\n",
      " 6   HDF                      136429 non-null  int8   \n",
      " 7   OSF                      136429 non-null  int8   \n",
      " 8   PWF                      136429 non-null  int8   \n",
      " 9   RNF                      136429 non-null  int8   \n",
      " 10  TWF                      136429 non-null  int8   \n",
      "dtypes: float64(5), int8(6)\n",
      "memory usage: 6.0 MB\n"
     ]
    }
   ],
   "source": [
    "x_data.info()"
   ]
  },
  {
   "cell_type": "code",
   "execution_count": 13,
   "id": "ca171e9a",
   "metadata": {},
   "outputs": [
    {
     "data": {
      "text/plain": [
       "0         0\n",
       "1         0\n",
       "2         0\n",
       "3         0\n",
       "4         0\n",
       "         ..\n",
       "136424    0\n",
       "136425    0\n",
       "136426    0\n",
       "136427    0\n",
       "136428    0\n",
       "Name: Machine failure, Length: 136429, dtype: int8"
      ]
     },
     "execution_count": 13,
     "metadata": {},
     "output_type": "execute_result"
    }
   ],
   "source": [
    "y_data = df.copy().pop('Machine failure')\n",
    "y_data = y_data.astype(\"int8\")\n",
    "y_data"
   ]
  },
  {
   "cell_type": "markdown",
   "id": "4d2777db",
   "metadata": {},
   "source": [
    "### 3.1.2 Test set"
   ]
  },
  {
   "cell_type": "code",
   "execution_count": 14,
   "id": "b5abcad4",
   "metadata": {},
   "outputs": [
    {
     "data": {
      "text/html": [
       "<div>\n",
       "<style scoped>\n",
       "    .dataframe tbody tr th:only-of-type {\n",
       "        vertical-align: middle;\n",
       "    }\n",
       "\n",
       "    .dataframe tbody tr th {\n",
       "        vertical-align: top;\n",
       "    }\n",
       "\n",
       "    .dataframe thead th {\n",
       "        text-align: right;\n",
       "    }\n",
       "</style>\n",
       "<table border=\"1\" class=\"dataframe\">\n",
       "  <thead>\n",
       "    <tr style=\"text-align: right;\">\n",
       "      <th></th>\n",
       "      <th>Type</th>\n",
       "      <th>Air temperature [K]</th>\n",
       "      <th>Process temperature [K]</th>\n",
       "      <th>Rotational speed [rpm]</th>\n",
       "      <th>Tool wear [min]</th>\n",
       "      <th>Torque [Nm]</th>\n",
       "      <th>HDF</th>\n",
       "      <th>OSF</th>\n",
       "      <th>PWF</th>\n",
       "      <th>RNF</th>\n",
       "      <th>TWF</th>\n",
       "    </tr>\n",
       "  </thead>\n",
       "  <tbody>\n",
       "    <tr>\n",
       "      <th>0</th>\n",
       "      <td>1</td>\n",
       "      <td>1.313830</td>\n",
       "      <td>1.126570</td>\n",
       "      <td>-0.153806</td>\n",
       "      <td>-0.693494</td>\n",
       "      <td>-0.274579</td>\n",
       "      <td>0</td>\n",
       "      <td>0</td>\n",
       "      <td>0</td>\n",
       "      <td>0</td>\n",
       "      <td>0</td>\n",
       "    </tr>\n",
       "    <tr>\n",
       "      <th>1</th>\n",
       "      <td>1</td>\n",
       "      <td>0.990824</td>\n",
       "      <td>0.765635</td>\n",
       "      <td>1.375097</td>\n",
       "      <td>-1.366729</td>\n",
       "      <td>-1.356341</td>\n",
       "      <td>0</td>\n",
       "      <td>0</td>\n",
       "      <td>0</td>\n",
       "      <td>0</td>\n",
       "      <td>0</td>\n",
       "    </tr>\n",
       "    <tr>\n",
       "      <th>2</th>\n",
       "      <td>1</td>\n",
       "      <td>0.775487</td>\n",
       "      <td>0.332512</td>\n",
       "      <td>0.031949</td>\n",
       "      <td>-0.129855</td>\n",
       "      <td>-0.309854</td>\n",
       "      <td>0</td>\n",
       "      <td>0</td>\n",
       "      <td>0</td>\n",
       "      <td>0</td>\n",
       "      <td>0</td>\n",
       "    </tr>\n",
       "    <tr>\n",
       "      <th>3</th>\n",
       "      <td>2</td>\n",
       "      <td>0.129475</td>\n",
       "      <td>-0.244985</td>\n",
       "      <td>-0.296694</td>\n",
       "      <td>-1.554608</td>\n",
       "      <td>0.854217</td>\n",
       "      <td>0</td>\n",
       "      <td>0</td>\n",
       "      <td>0</td>\n",
       "      <td>0</td>\n",
       "      <td>0</td>\n",
       "    </tr>\n",
       "    <tr>\n",
       "      <th>4</th>\n",
       "      <td>2</td>\n",
       "      <td>1.906008</td>\n",
       "      <td>1.704068</td>\n",
       "      <td>-0.039496</td>\n",
       "      <td>0.151964</td>\n",
       "      <td>0.113445</td>\n",
       "      <td>0</td>\n",
       "      <td>0</td>\n",
       "      <td>0</td>\n",
       "      <td>0</td>\n",
       "      <td>0</td>\n",
       "    </tr>\n",
       "    <tr>\n",
       "      <th>...</th>\n",
       "      <td>...</td>\n",
       "      <td>...</td>\n",
       "      <td>...</td>\n",
       "      <td>...</td>\n",
       "      <td>...</td>\n",
       "      <td>...</td>\n",
       "      <td>...</td>\n",
       "      <td>...</td>\n",
       "      <td>...</td>\n",
       "      <td>...</td>\n",
       "      <td>...</td>\n",
       "    </tr>\n",
       "    <tr>\n",
       "      <th>90949</th>\n",
       "      <td>1</td>\n",
       "      <td>1.313830</td>\n",
       "      <td>1.054383</td>\n",
       "      <td>-0.260972</td>\n",
       "      <td>-1.398042</td>\n",
       "      <td>0.007620</td>\n",
       "      <td>0</td>\n",
       "      <td>0</td>\n",
       "      <td>0</td>\n",
       "      <td>0</td>\n",
       "      <td>0</td>\n",
       "    </tr>\n",
       "    <tr>\n",
       "      <th>90950</th>\n",
       "      <td>1</td>\n",
       "      <td>-1.054879</td>\n",
       "      <td>-0.100611</td>\n",
       "      <td>0.153403</td>\n",
       "      <td>-1.147536</td>\n",
       "      <td>-0.768427</td>\n",
       "      <td>0</td>\n",
       "      <td>0</td>\n",
       "      <td>0</td>\n",
       "      <td>0</td>\n",
       "      <td>0</td>\n",
       "    </tr>\n",
       "    <tr>\n",
       "      <th>90951</th>\n",
       "      <td>1</td>\n",
       "      <td>-2.293068</td>\n",
       "      <td>-2.699348</td>\n",
       "      <td>-0.139517</td>\n",
       "      <td>1.294897</td>\n",
       "      <td>0.125203</td>\n",
       "      <td>0</td>\n",
       "      <td>0</td>\n",
       "      <td>0</td>\n",
       "      <td>0</td>\n",
       "      <td>0</td>\n",
       "    </tr>\n",
       "    <tr>\n",
       "      <th>90952</th>\n",
       "      <td>1</td>\n",
       "      <td>-0.947211</td>\n",
       "      <td>-1.544354</td>\n",
       "      <td>0.096248</td>\n",
       "      <td>-0.552584</td>\n",
       "      <td>-0.004138</td>\n",
       "      <td>0</td>\n",
       "      <td>0</td>\n",
       "      <td>0</td>\n",
       "      <td>0</td>\n",
       "      <td>0</td>\n",
       "    </tr>\n",
       "    <tr>\n",
       "      <th>90953</th>\n",
       "      <td>1</td>\n",
       "      <td>1.959842</td>\n",
       "      <td>2.065003</td>\n",
       "      <td>0.096248</td>\n",
       "      <td>-0.192482</td>\n",
       "      <td>-0.497986</td>\n",
       "      <td>0</td>\n",
       "      <td>0</td>\n",
       "      <td>0</td>\n",
       "      <td>0</td>\n",
       "      <td>0</td>\n",
       "    </tr>\n",
       "  </tbody>\n",
       "</table>\n",
       "<p>90954 rows × 11 columns</p>\n",
       "</div>"
      ],
      "text/plain": [
       "       Type  Air temperature [K]  Process temperature [K]  \\\n",
       "0         1             1.313830                 1.126570   \n",
       "1         1             0.990824                 0.765635   \n",
       "2         1             0.775487                 0.332512   \n",
       "3         2             0.129475                -0.244985   \n",
       "4         2             1.906008                 1.704068   \n",
       "...     ...                  ...                      ...   \n",
       "90949     1             1.313830                 1.054383   \n",
       "90950     1            -1.054879                -0.100611   \n",
       "90951     1            -2.293068                -2.699348   \n",
       "90952     1            -0.947211                -1.544354   \n",
       "90953     1             1.959842                 2.065003   \n",
       "\n",
       "       Rotational speed [rpm]  Tool wear [min]  Torque [Nm]  HDF  OSF  PWF  \\\n",
       "0                   -0.153806        -0.693494    -0.274579    0    0    0   \n",
       "1                    1.375097        -1.366729    -1.356341    0    0    0   \n",
       "2                    0.031949        -0.129855    -0.309854    0    0    0   \n",
       "3                   -0.296694        -1.554608     0.854217    0    0    0   \n",
       "4                   -0.039496         0.151964     0.113445    0    0    0   \n",
       "...                       ...              ...          ...  ...  ...  ...   \n",
       "90949               -0.260972        -1.398042     0.007620    0    0    0   \n",
       "90950                0.153403        -1.147536    -0.768427    0    0    0   \n",
       "90951               -0.139517         1.294897     0.125203    0    0    0   \n",
       "90952                0.096248        -0.552584    -0.004138    0    0    0   \n",
       "90953                0.096248        -0.192482    -0.497986    0    0    0   \n",
       "\n",
       "       RNF  TWF  \n",
       "0        0    0  \n",
       "1        0    0  \n",
       "2        0    0  \n",
       "3        0    0  \n",
       "4        0    0  \n",
       "...    ...  ...  \n",
       "90949    0    0  \n",
       "90950    0    0  \n",
       "90951    0    0  \n",
       "90952    0    0  \n",
       "90953    0    0  \n",
       "\n",
       "[90954 rows x 11 columns]"
      ]
     },
     "execution_count": 14,
     "metadata": {},
     "output_type": "execute_result"
    }
   ],
   "source": [
    "x_test = test_df.copy()\n",
    "x_test = x_test.drop(labels=['id', 'Product ID'], axis=1)\n",
    "x_test, _ = dfp.fit_transform_multiple_transformer(x_test, [le, stds], [[\"Type\"], continuos_cols])\n",
    "x_test = pd.concat([x_test, test_df[discrete_cols.difference(['Type'])]], axis=1)\n",
    "\n",
    "x_test[discrete_cols] = x_test[discrete_cols].astype(\"int8\")\n",
    "x_test"
   ]
  },
  {
   "cell_type": "code",
   "execution_count": 15,
   "id": "0952e3db",
   "metadata": {},
   "outputs": [
    {
     "name": "stdout",
     "output_type": "stream",
     "text": [
      "<class 'pandas.core.frame.DataFrame'>\n",
      "RangeIndex: 90954 entries, 0 to 90953\n",
      "Data columns (total 11 columns):\n",
      " #   Column                   Non-Null Count  Dtype  \n",
      "---  ------                   --------------  -----  \n",
      " 0   Type                     90954 non-null  int8   \n",
      " 1   Air temperature [K]      90954 non-null  float64\n",
      " 2   Process temperature [K]  90954 non-null  float64\n",
      " 3   Rotational speed [rpm]   90954 non-null  float64\n",
      " 4   Tool wear [min]          90954 non-null  float64\n",
      " 5   Torque [Nm]              90954 non-null  float64\n",
      " 6   HDF                      90954 non-null  int8   \n",
      " 7   OSF                      90954 non-null  int8   \n",
      " 8   PWF                      90954 non-null  int8   \n",
      " 9   RNF                      90954 non-null  int8   \n",
      " 10  TWF                      90954 non-null  int8   \n",
      "dtypes: float64(5), int8(6)\n",
      "memory usage: 4.0 MB\n"
     ]
    }
   ],
   "source": [
    "x_test.info()"
   ]
  },
  {
   "cell_type": "markdown",
   "id": "e74d52d5",
   "metadata": {},
   "source": [
    "## 3.2 Feature selecting"
   ]
  },
  {
   "cell_type": "markdown",
   "id": "4b3883bb",
   "metadata": {},
   "source": [
    "### 3.2.1 VIF analysis"
   ]
  },
  {
   "cell_type": "code",
   "execution_count": 16,
   "id": "1d7b384d",
   "metadata": {},
   "outputs": [],
   "source": [
    "fs = feature_engineering.FeatureSelector()"
   ]
  },
  {
   "cell_type": "code",
   "execution_count": 17,
   "id": "0c57bb86",
   "metadata": {},
   "outputs": [
    {
     "data": {
      "text/plain": [
       "0         Q('Air temperature [K]')\n",
       "1                         Q('HDF')\n",
       "2                         Q('OSF')\n",
       "3                         Q('PWF')\n",
       "4     Q('Process temperature [K]')\n",
       "5                         Q('RNF')\n",
       "6      Q('Rotational speed [rpm]')\n",
       "7                         Q('TWF')\n",
       "8             Q('Tool wear [min]')\n",
       "9                 Q('Torque [Nm]')\n",
       "10                       Q('Type')\n",
       "dtype: object"
      ]
     },
     "execution_count": 17,
     "metadata": {},
     "output_type": "execute_result"
    }
   ],
   "source": [
    "formula_cols = pd.Series(feature_cols).apply(lambda col: f\"Q('{col}')\")\n",
    "formula_cols"
   ]
  },
  {
   "cell_type": "code",
   "execution_count": 18,
   "id": "efc91fd9",
   "metadata": {},
   "outputs": [
    {
     "data": {
      "text/plain": [
       "\"Q('Machine failure')~Q('Air temperature [K]')+Q('HDF')+Q('OSF')+Q('PWF')+Q('Process temperature [K]')+Q('RNF')+Q('Rotational speed [rpm]')+Q('TWF')+Q('Tool wear [min]')+Q('Torque [Nm]')+Q('Type')-1\""
      ]
     },
     "execution_count": 18,
     "metadata": {},
     "output_type": "execute_result"
    }
   ],
   "source": [
    "formula = \"Q('Machine failure')~\" + \"+\".join(formula_cols)\n",
    "formula+=\"-1\"\n",
    "formula"
   ]
  },
  {
   "cell_type": "code",
   "execution_count": 19,
   "id": "14983c1b",
   "metadata": {},
   "outputs": [],
   "source": [
    "data = pd.concat([x_data, y_data], axis=1)"
   ]
  },
  {
   "cell_type": "code",
   "execution_count": 20,
   "id": "9dc3576d",
   "metadata": {
    "scrolled": true
   },
   "outputs": [
    {
     "data": {
      "text/html": [
       "<div>\n",
       "<style scoped>\n",
       "    .dataframe tbody tr th:only-of-type {\n",
       "        vertical-align: middle;\n",
       "    }\n",
       "\n",
       "    .dataframe tbody tr th {\n",
       "        vertical-align: top;\n",
       "    }\n",
       "\n",
       "    .dataframe thead th {\n",
       "        text-align: right;\n",
       "    }\n",
       "</style>\n",
       "<table border=\"1\" class=\"dataframe\">\n",
       "  <thead>\n",
       "    <tr style=\"text-align: right;\">\n",
       "      <th></th>\n",
       "      <th>features</th>\n",
       "      <th>VIF Factor</th>\n",
       "    </tr>\n",
       "  </thead>\n",
       "  <tbody>\n",
       "    <tr>\n",
       "      <th>0</th>\n",
       "      <td>Q('Air temperature [K]')</td>\n",
       "      <td>3.806145</td>\n",
       "    </tr>\n",
       "    <tr>\n",
       "      <th>4</th>\n",
       "      <td>Q('Process temperature [K]')</td>\n",
       "      <td>3.772470</td>\n",
       "    </tr>\n",
       "    <tr>\n",
       "      <th>9</th>\n",
       "      <td>Q('Torque [Nm]')</td>\n",
       "      <td>2.629339</td>\n",
       "    </tr>\n",
       "    <tr>\n",
       "      <th>6</th>\n",
       "      <td>Q('Rotational speed [rpm]')</td>\n",
       "      <td>2.608535</td>\n",
       "    </tr>\n",
       "    <tr>\n",
       "      <th>1</th>\n",
       "      <td>Q('HDF')</td>\n",
       "      <td>1.038264</td>\n",
       "    </tr>\n",
       "    <tr>\n",
       "      <th>3</th>\n",
       "      <td>Q('PWF')</td>\n",
       "      <td>1.037175</td>\n",
       "    </tr>\n",
       "    <tr>\n",
       "      <th>2</th>\n",
       "      <td>Q('OSF')</td>\n",
       "      <td>1.030903</td>\n",
       "    </tr>\n",
       "    <tr>\n",
       "      <th>10</th>\n",
       "      <td>Q('Type')</td>\n",
       "      <td>1.011599</td>\n",
       "    </tr>\n",
       "    <tr>\n",
       "      <th>8</th>\n",
       "      <td>Q('Tool wear [min]')</td>\n",
       "      <td>1.006448</td>\n",
       "    </tr>\n",
       "    <tr>\n",
       "      <th>7</th>\n",
       "      <td>Q('TWF')</td>\n",
       "      <td>1.006107</td>\n",
       "    </tr>\n",
       "    <tr>\n",
       "      <th>5</th>\n",
       "      <td>Q('RNF')</td>\n",
       "      <td>1.002083</td>\n",
       "    </tr>\n",
       "  </tbody>\n",
       "</table>\n",
       "</div>"
      ],
      "text/plain": [
       "                        features  VIF Factor\n",
       "0       Q('Air temperature [K]')    3.806145\n",
       "4   Q('Process temperature [K]')    3.772470\n",
       "9               Q('Torque [Nm]')    2.629339\n",
       "6    Q('Rotational speed [rpm]')    2.608535\n",
       "1                       Q('HDF')    1.038264\n",
       "3                       Q('PWF')    1.037175\n",
       "2                       Q('OSF')    1.030903\n",
       "10                     Q('Type')    1.011599\n",
       "8           Q('Tool wear [min]')    1.006448\n",
       "7                       Q('TWF')    1.006107\n",
       "5                       Q('RNF')    1.002083"
      ]
     },
     "execution_count": 20,
     "metadata": {},
     "output_type": "execute_result"
    }
   ],
   "source": [
    "fs.get_vif_dataframe(formula, data)"
   ]
  },
  {
   "cell_type": "markdown",
   "id": "7921abf7",
   "metadata": {},
   "source": [
    "### 3.2.2 Get permutation importance"
   ]
  },
  {
   "cell_type": "code",
   "execution_count": 21,
   "id": "e2155613",
   "metadata": {},
   "outputs": [],
   "source": [
    "x_train, x_valid, y_train, y_valid = train_test_split(x_data, y_data, test_size=0.25, stratify=y_data)"
   ]
  },
  {
   "cell_type": "code",
   "execution_count": 22,
   "id": "1d1e68ed",
   "metadata": {},
   "outputs": [
    {
     "data": {
      "text/plain": [
       "DecisionTreeClassifier(ccp_alpha=0.0, class_weight=None, criterion='gini',\n",
       "                       max_depth=None, max_features=None, max_leaf_nodes=None,\n",
       "                       min_impurity_decrease=0.0, min_impurity_split=None,\n",
       "                       min_samples_leaf=1, min_samples_split=2,\n",
       "                       min_weight_fraction_leaf=0.0, presort='deprecated',\n",
       "                       random_state=None, splitter='best')"
      ]
     },
     "execution_count": 22,
     "metadata": {},
     "output_type": "execute_result"
    }
   ],
   "source": [
    "dtc = DecisionTreeClassifier()\n",
    "dtc.fit(x_train.values, y_train.values)"
   ]
  },
  {
   "cell_type": "code",
   "execution_count": 23,
   "id": "943a4f10",
   "metadata": {
    "scrolled": true
   },
   "outputs": [
    {
     "data": {
      "text/html": [
       "<div>\n",
       "<style scoped>\n",
       "    .dataframe tbody tr th:only-of-type {\n",
       "        vertical-align: middle;\n",
       "    }\n",
       "\n",
       "    .dataframe tbody tr th {\n",
       "        vertical-align: top;\n",
       "    }\n",
       "\n",
       "    .dataframe thead th {\n",
       "        text-align: right;\n",
       "    }\n",
       "</style>\n",
       "<table border=\"1\" class=\"dataframe\">\n",
       "  <thead>\n",
       "    <tr style=\"text-align: right;\">\n",
       "      <th></th>\n",
       "      <th>feature</th>\n",
       "      <th>perm_importance</th>\n",
       "    </tr>\n",
       "  </thead>\n",
       "  <tbody>\n",
       "    <tr>\n",
       "      <th>0</th>\n",
       "      <td>Type</td>\n",
       "      <td>-0.000160</td>\n",
       "    </tr>\n",
       "    <tr>\n",
       "      <th>1</th>\n",
       "      <td>Air temperature [K]</td>\n",
       "      <td>0.006906</td>\n",
       "    </tr>\n",
       "    <tr>\n",
       "      <th>2</th>\n",
       "      <td>Process temperature [K]</td>\n",
       "      <td>0.006052</td>\n",
       "    </tr>\n",
       "    <tr>\n",
       "      <th>3</th>\n",
       "      <td>Rotational speed [rpm]</td>\n",
       "      <td>0.003421</td>\n",
       "    </tr>\n",
       "    <tr>\n",
       "      <th>4</th>\n",
       "      <td>Tool wear [min]</td>\n",
       "      <td>0.000474</td>\n",
       "    </tr>\n",
       "    <tr>\n",
       "      <th>5</th>\n",
       "      <td>Torque [Nm]</td>\n",
       "      <td>0.003876</td>\n",
       "    </tr>\n",
       "    <tr>\n",
       "      <th>6</th>\n",
       "      <td>HDF</td>\n",
       "      <td>0.008112</td>\n",
       "    </tr>\n",
       "    <tr>\n",
       "      <th>7</th>\n",
       "      <td>OSF</td>\n",
       "      <td>0.006551</td>\n",
       "    </tr>\n",
       "    <tr>\n",
       "      <th>8</th>\n",
       "      <td>PWF</td>\n",
       "      <td>0.003839</td>\n",
       "    </tr>\n",
       "    <tr>\n",
       "      <th>9</th>\n",
       "      <td>RNF</td>\n",
       "      <td>0.000017</td>\n",
       "    </tr>\n",
       "    <tr>\n",
       "      <th>10</th>\n",
       "      <td>TWF</td>\n",
       "      <td>0.003383</td>\n",
       "    </tr>\n",
       "  </tbody>\n",
       "</table>\n",
       "</div>"
      ],
      "text/plain": [
       "                    feature  perm_importance\n",
       "0                      Type        -0.000160\n",
       "1       Air temperature [K]         0.006906\n",
       "2   Process temperature [K]         0.006052\n",
       "3    Rotational speed [rpm]         0.003421\n",
       "4           Tool wear [min]         0.000474\n",
       "5               Torque [Nm]         0.003876\n",
       "6                       HDF         0.008112\n",
       "7                       OSF         0.006551\n",
       "8                       PWF         0.003839\n",
       "9                       RNF         0.000017\n",
       "10                      TWF         0.003383"
      ]
     },
     "execution_count": 23,
     "metadata": {},
     "output_type": "execute_result"
    }
   ],
   "source": [
    "fs.get_permutation_importance(dtc, x_valid, y_valid)"
   ]
  },
  {
   "cell_type": "markdown",
   "id": "d36decf0",
   "metadata": {},
   "source": [
    "* 위 결과를 바탕으로 우선 RNF값을 제거하고 성능을 평가합니다.\n",
    "* 그 후 Type에 대해서도 제거를 수행해봅니다."
   ]
  },
  {
   "cell_type": "markdown",
   "id": "e256c837",
   "metadata": {},
   "source": [
    "* 모든 데이터 사용시"
   ]
  },
  {
   "cell_type": "code",
   "execution_count": 24,
   "id": "495ed2c1",
   "metadata": {},
   "outputs": [],
   "source": [
    "# Accuracy: 0.9960052774316499, f1_score: 0.8593548387096774, Roc-Auc: 0.8878698655479385\n",
    "# Accuracy: 0.9960052774316499, f1_score: 0.858257477243173, Roc-Auc: 0.8835533699108423\n",
    "# Accuracy: 0.9965916587260867, f1_score: 0.8824273072060682, Roc-Auc: 0.9055905397260844\n",
    "# Accuracy: 0.9957120867844316, f1_score: 0.845442536327609, Roc-Auc: 0.8719626985611462\n",
    "# Accuracy: 0.9958218801539307, f1_score: 0.8523316062176166, Roc-Auc: 0.8831892340605477\n",
    "# array([0.99602724, 0.85956275, 0.88643314])"
   ]
  },
  {
   "cell_type": "code",
   "execution_count": 25,
   "id": "8272e144",
   "metadata": {},
   "outputs": [],
   "source": [
    "x_data.drop('RNF', axis=1, inplace=True)\n",
    "x_test.drop('RNF', axis=1, inplace=True)"
   ]
  },
  {
   "cell_type": "markdown",
   "id": "53df9d8b",
   "metadata": {},
   "source": [
    "* RNF 제거 시 스코어"
   ]
  },
  {
   "cell_type": "code",
   "execution_count": 26,
   "id": "c9e11232",
   "metadata": {},
   "outputs": [],
   "source": [
    "# Accuracy: 0.9960052774316499, f1_score: 0.8597168597168596, Roc-Auc: 0.8890167495931356\n",
    "# Accuracy: 0.9960419262625523, f1_score: 0.859375, Roc-Auc: 0.8835719877243662\n",
    "# Accuracy: 0.9966649563878912, f1_score: 0.883780332056194, Roc-Auc: 0.9021952567006809\n",
    "# Accuracy: 0.9956021402917247, f1_score: 0.841688654353562, Roc-Auc: 0.8707626722364238\n",
    "# Accuracy: 0.9958218801539307, f1_score: 0.8523316062176166, Roc-Auc: 0.8831892340605477\n",
    "# array([0.99602724, 0.85937849, 0.88574718])"
   ]
  },
  {
   "cell_type": "code",
   "execution_count": 27,
   "id": "3f203c39",
   "metadata": {},
   "outputs": [],
   "source": [
    "x_data.drop('Type', axis=1, inplace=True)\n",
    "x_test.drop('Type', axis=1, inplace=True)"
   ]
  },
  {
   "cell_type": "markdown",
   "id": "3545cca9",
   "metadata": {},
   "source": [
    "* 추가로 Type 제거 시 스코어"
   ]
  },
  {
   "cell_type": "code",
   "execution_count": 28,
   "id": "a50e5c80",
   "metadata": {},
   "outputs": [],
   "source": [
    "# Accuracy: 0.9960419262625523, f1_score: 0.8608247422680411, Roc-Auc: 0.8890353667134395\n",
    "# Accuracy: 0.9960785750934545, f1_score: 0.8601307189542484, Roc-Auc: 0.8824464326537399\n",
    "# Accuracy: 0.9966649563878912, f1_score: 0.8834827144686299, Roc-Auc: 0.9010510838165307\n",
    "# Accuracy: 0.9955288426299201, f1_score: 0.8390501319261213, Roc-Auc: 0.8695812637252253\n",
    "# Accuracy: 0.995968480850284, f1_score: 0.8567708333333334, Roc-Auc: 0.8832637053146436\n",
    "# array([0.99605656, 0.86005183, 0.88507557])"
   ]
  },
  {
   "cell_type": "markdown",
   "id": "c420c241",
   "metadata": {},
   "source": [
    "# 4. Modeling"
   ]
  },
  {
   "cell_type": "markdown",
   "id": "a7a900e3",
   "metadata": {},
   "source": [
    "## 4.1 LogisticRegression"
   ]
  },
  {
   "cell_type": "code",
   "execution_count": 29,
   "id": "c26a48d1",
   "metadata": {},
   "outputs": [],
   "source": [
    "x_train, x_valid, y_train, y_valid = train_test_split(x_data, y_data, test_size=0.25, stratify=y_data)"
   ]
  },
  {
   "cell_type": "code",
   "execution_count": 30,
   "id": "4ce9246f",
   "metadata": {},
   "outputs": [
    {
     "data": {
      "text/plain": [
       "LogisticRegression(C=1.0, class_weight=None, dual=False, fit_intercept=True,\n",
       "                   intercept_scaling=1, l1_ratio=None, max_iter=100,\n",
       "                   multi_class='auto', n_jobs=None, penalty='l2',\n",
       "                   random_state=None, solver='lbfgs', tol=0.0001, verbose=0,\n",
       "                   warm_start=False)"
      ]
     },
     "execution_count": 30,
     "metadata": {},
     "output_type": "execute_result"
    }
   ],
   "source": [
    "lr = LogisticRegression()\n",
    "lr.fit(x_train.values, y_train.values)"
   ]
  },
  {
   "cell_type": "code",
   "execution_count": 31,
   "id": "c1ae6377",
   "metadata": {},
   "outputs": [
    {
     "data": {
      "text/plain": [
       "0.9962177852053831"
      ]
     },
     "execution_count": 31,
     "metadata": {},
     "output_type": "execute_result"
    }
   ],
   "source": [
    "acc_score = lr.score(x_train.values, y_train)\n",
    "acc_score"
   ]
  },
  {
   "cell_type": "code",
   "execution_count": 32,
   "id": "e33b5e74",
   "metadata": {},
   "outputs": [
    {
     "data": {
      "text/plain": [
       "0.8644483362521891"
      ]
     },
     "execution_count": 32,
     "metadata": {},
     "output_type": "execute_result"
    }
   ],
   "source": [
    "f1score = f1_score(y_train, lr.predict(x_train.values))\n",
    "f1score"
   ]
  },
  {
   "cell_type": "code",
   "execution_count": 33,
   "id": "07222011",
   "metadata": {},
   "outputs": [
    {
     "data": {
      "text/plain": [
       "0.9959247097455143"
      ]
     },
     "execution_count": 33,
     "metadata": {},
     "output_type": "execute_result"
    }
   ],
   "source": [
    "acc_score = lr.score(x_valid.values, y_valid)\n",
    "acc_score"
   ]
  },
  {
   "cell_type": "code",
   "execution_count": 34,
   "id": "4811a620",
   "metadata": {},
   "outputs": [
    {
     "data": {
      "text/plain": [
       "0.8522848034006377"
      ]
     },
     "execution_count": 34,
     "metadata": {},
     "output_type": "execute_result"
    }
   ],
   "source": [
    "f1score = f1_score(y_valid, lr.predict(x_valid.values))\n",
    "f1score"
   ]
  },
  {
   "cell_type": "markdown",
   "id": "ab58f104",
   "metadata": {},
   "source": [
    "## 4.2 XGBoost"
   ]
  },
  {
   "cell_type": "code",
   "execution_count": 36,
   "id": "aad5e765",
   "metadata": {},
   "outputs": [],
   "source": [
    "# Define the objective function for Optuna\n",
    "def objective(trial):\n",
    "    params = {\n",
    "        'objective': 'binary:logistic',\n",
    "        'eval_metric': 'logloss',\n",
    "        'n_estimators': trial.suggest_int('n_estimators', 100, 1000),\n",
    "        'max_depth': trial.suggest_int('max_depth', 3, 20),\n",
    "        'learning_rate': trial.suggest_loguniform('learning_rate', 0.001, 0.1),\n",
    "        'subsample': trial.suggest_float('subsample', 0.5, 1.0),\n",
    "        'colsample_bytree': trial.suggest_float('colsample_bytree', 0.5, 1.0),\n",
    "        'tree_method': 'gpu_hist',  # GPU 가속 사용\n",
    "        'gpu_id': 0,  # 사용할 GPU 장치 ID 설정 (0 또는 다른 GPU ID)\n",
    "    }\n",
    "\n",
    "    skf = StratifiedKFold(n_splits=5, shuffle=True, random_state=42)\n",
    "    valid_score = []\n",
    "\n",
    "    for train_index, test_index in skf.split(x_data, y_data):\n",
    "        x_train, x_valid = x_data.iloc[train_index], x_data.iloc[test_index]\n",
    "        y_train, y_valid = y_data.iloc[train_index], y_data.iloc[test_index]\n",
    "\n",
    "        xgb = XGBClassifier(**params)\n",
    "        # Early stopping 설정\n",
    "        xgb.fit(x_train.values, y_train.values, verbose=0, eval_set=[(x_valid.values, y_valid.values)],\n",
    "                early_stopping_rounds=10)\n",
    "\n",
    "        acc_score = xgb.score(x_valid, y_valid)\n",
    "        predict_val = xgb.predict(x_valid)\n",
    "        f1score = f1_score(y_valid, predict_val)\n",
    "        roc_auc = roc_auc_score(y_valid, predict_val)\n",
    "        valid_score.append((acc_score, f1score, roc_auc))\n",
    "\n",
    "    # Calculate and report the mean F1-score for this trial\n",
    "    mean_f1_score = sum([score[1] for score in valid_score]) / len(valid_score)\n",
    "    trial.report(mean_f1_score, step=trial.number)\n",
    "\n",
    "    return mean_f1_score"
   ]
  },
  {
   "cell_type": "code",
   "execution_count": 37,
   "id": "4ffc40ee",
   "metadata": {},
   "outputs": [
    {
     "name": "stderr",
     "output_type": "stream",
     "text": [
      "[I 2023-09-22 15:05:49,308] A new study created in memory with name: no-name-0e8c3106-c795-4755-bbc4-2634c8ba16c7\n",
      "[I 2023-09-22 15:06:01,414] Trial 0 finished with value: 0.8606431963526007 and parameters: {'n_estimators': 492, 'max_depth': 17, 'learning_rate': 0.06632124274739234, 'subsample': 0.5726541539816163, 'colsample_bytree': 0.7363022189820154}. Best is trial 0 with value: 0.8606431963526007.\n",
      "[I 2023-09-22 15:06:26,536] Trial 1 finished with value: 0.8624585670942526 and parameters: {'n_estimators': 761, 'max_depth': 8, 'learning_rate': 0.01710992525291977, 'subsample': 0.8545136758613967, 'colsample_bytree': 0.8646143849192524}. Best is trial 1 with value: 0.8624585670942526.\n",
      "[I 2023-09-22 15:06:45,232] Trial 2 finished with value: 0.8600123549731066 and parameters: {'n_estimators': 399, 'max_depth': 20, 'learning_rate': 0.0361502483262547, 'subsample': 0.8922688607022589, 'colsample_bytree': 0.913892955135641}. Best is trial 1 with value: 0.8624585670942526.\n",
      "[I 2023-09-22 15:07:37,430] Trial 3 finished with value: 0.8608556922960015 and parameters: {'n_estimators': 642, 'max_depth': 14, 'learning_rate': 0.01058262341397457, 'subsample': 0.9399692074492607, 'colsample_bytree': 0.9829191245514763}. Best is trial 1 with value: 0.8624585670942526.\n",
      "[I 2023-09-22 15:08:10,567] Trial 4 finished with value: 0.8624226627335645 and parameters: {'n_estimators': 382, 'max_depth': 15, 'learning_rate': 0.004014186856952969, 'subsample': 0.6840979069466975, 'colsample_bytree': 0.9811522709392095}. Best is trial 1 with value: 0.8624585670942526.\n",
      "[I 2023-09-22 15:08:21,191] Trial 5 finished with value: 0.0 and parameters: {'n_estimators': 163, 'max_depth': 9, 'learning_rate': 0.0016806538562625078, 'subsample': 0.9453655373282007, 'colsample_bytree': 0.8531066994777939}. Best is trial 1 with value: 0.8624585670942526.\n",
      "[I 2023-09-22 15:08:47,774] Trial 6 finished with value: 0.8619859654850341 and parameters: {'n_estimators': 616, 'max_depth': 4, 'learning_rate': 0.0029147553168427593, 'subsample': 0.994671547701498, 'colsample_bytree': 0.9306226867425735}. Best is trial 1 with value: 0.8624585670942526.\n",
      "[I 2023-09-22 15:09:35,645] Trial 7 finished with value: 0.8127504539253974 and parameters: {'n_estimators': 520, 'max_depth': 17, 'learning_rate': 0.00231063897003024, 'subsample': 0.6515203799915168, 'colsample_bytree': 0.7627348732248791}. Best is trial 1 with value: 0.8624585670942526.\n",
      "[I 2023-09-22 15:10:50,783] Trial 8 finished with value: 0.8616770212925677 and parameters: {'n_estimators': 759, 'max_depth': 15, 'learning_rate': 0.00911384922697793, 'subsample': 0.944665589902414, 'colsample_bytree': 0.5808055519256122}. Best is trial 1 with value: 0.8624585670942526.\n",
      "[I 2023-09-22 15:11:32,735] Trial 9 finished with value: 0.8613093404371984 and parameters: {'n_estimators': 939, 'max_depth': 4, 'learning_rate': 0.001190045107131482, 'subsample': 0.8249286594775576, 'colsample_bytree': 0.8723358400548993}. Best is trial 1 with value: 0.8624585670942526.\n",
      "[I 2023-09-22 15:11:54,640] Trial 10 finished with value: 0.8630436304641831 and parameters: {'n_estimators': 988, 'max_depth': 9, 'learning_rate': 0.021746182242880132, 'subsample': 0.7788724729574976, 'colsample_bytree': 0.7822599132555701}. Best is trial 10 with value: 0.8630436304641831.\n",
      "[I 2023-09-22 15:12:15,852] Trial 11 finished with value: 0.8620127869045303 and parameters: {'n_estimators': 964, 'max_depth': 8, 'learning_rate': 0.022523766484986676, 'subsample': 0.7859748871577324, 'colsample_bytree': 0.8019350021874896}. Best is trial 10 with value: 0.8630436304641831.\n",
      "[I 2023-09-22 15:12:41,726] Trial 12 finished with value: 0.8627451319413064 and parameters: {'n_estimators': 812, 'max_depth': 9, 'learning_rate': 0.01918863282643723, 'subsample': 0.8107868129405897, 'colsample_bytree': 0.7018839949951723}. Best is trial 10 with value: 0.8630436304641831.\n",
      "[I 2023-09-22 15:12:49,182] Trial 13 finished with value: 0.860484769212815 and parameters: {'n_estimators': 838, 'max_depth': 11, 'learning_rate': 0.0986959530560803, 'subsample': 0.7510159219220932, 'colsample_bytree': 0.6646899891925115}. Best is trial 10 with value: 0.8630436304641831.\n",
      "[I 2023-09-22 15:13:03,220] Trial 14 finished with value: 0.8624817393006922 and parameters: {'n_estimators': 987, 'max_depth': 6, 'learning_rate': 0.03953330298257979, 'subsample': 0.802711332012845, 'colsample_bytree': 0.6818051613390206}. Best is trial 10 with value: 0.8630436304641831.\n",
      "[I 2023-09-22 15:14:04,981] Trial 15 finished with value: 0.8629114937161282 and parameters: {'n_estimators': 832, 'max_depth': 11, 'learning_rate': 0.007649051684851731, 'subsample': 0.7276643346767303, 'colsample_bytree': 0.5494110560812142}. Best is trial 10 with value: 0.8630436304641831.\n",
      "[I 2023-09-22 15:15:10,226] Trial 16 finished with value: 0.862303800004986 and parameters: {'n_estimators': 841, 'max_depth': 12, 'learning_rate': 0.006960449091383304, 'subsample': 0.7227402438694865, 'colsample_bytree': 0.5291936425557943}. Best is trial 10 with value: 0.8630436304641831.\n",
      "[I 2023-09-22 15:16:01,251] Trial 17 finished with value: 0.8621728861361836 and parameters: {'n_estimators': 684, 'max_depth': 12, 'learning_rate': 0.00521514698720134, 'subsample': 0.6402887143849731, 'colsample_bytree': 0.6273906019790579}. Best is trial 10 with value: 0.8630436304641831.\n",
      "[I 2023-09-22 15:16:43,159] Trial 18 finished with value: 0.8625441878603123 and parameters: {'n_estimators': 895, 'max_depth': 6, 'learning_rate': 0.011908004644243951, 'subsample': 0.7144141812508471, 'colsample_bytree': 0.5040138396988024}. Best is trial 10 with value: 0.8630436304641831.\n",
      "[I 2023-09-22 15:16:53,759] Trial 19 finished with value: 0.33494996604142335 and parameters: {'n_estimators': 154, 'max_depth': 11, 'learning_rate': 0.0059784924855524725, 'subsample': 0.5171103350051278, 'colsample_bytree': 0.5958088472367314}. Best is trial 10 with value: 0.8630436304641831.\n",
      "[I 2023-09-22 15:17:26,775] Trial 20 finished with value: 0.8620295967594235 and parameters: {'n_estimators': 999, 'max_depth': 6, 'learning_rate': 0.013463116332109398, 'subsample': 0.7747454657856565, 'colsample_bytree': 0.7873306176962086}. Best is trial 10 with value: 0.8630436304641831.\n",
      "[I 2023-09-22 15:17:47,283] Trial 21 finished with value: 0.8622908122770407 and parameters: {'n_estimators': 793, 'max_depth': 9, 'learning_rate': 0.021765839524336496, 'subsample': 0.7641682569848317, 'colsample_bytree': 0.7103940737573802}. Best is trial 10 with value: 0.8630436304641831.\n",
      "[I 2023-09-22 15:18:36,991] Trial 22 finished with value: 0.8621406667646155 and parameters: {'n_estimators': 869, 'max_depth': 10, 'learning_rate': 0.009173088392729479, 'subsample': 0.8227438888955975, 'colsample_bytree': 0.7232462983307982}. Best is trial 10 with value: 0.8630436304641831.\n",
      "[I 2023-09-22 15:19:07,080] Trial 23 finished with value: 0.8623527177555737 and parameters: {'n_estimators': 716, 'max_depth': 13, 'learning_rate': 0.02059940084498196, 'subsample': 0.7387849697131399, 'colsample_bytree': 0.6631912867732369}. Best is trial 10 with value: 0.8630436304641831.\n",
      "[I 2023-09-22 15:19:40,185] Trial 24 finished with value: 0.8622370619792605 and parameters: {'n_estimators': 917, 'max_depth': 7, 'learning_rate': 0.01475771649729441, 'subsample': 0.858764038620413, 'colsample_bytree': 0.5573756728006655}. Best is trial 10 with value: 0.8630436304641831.\n",
      "[I 2023-09-22 15:19:58,427] Trial 25 finished with value: 0.8617643798888958 and parameters: {'n_estimators': 813, 'max_depth': 10, 'learning_rate': 0.028911528408664112, 'subsample': 0.7845279699829762, 'colsample_bytree': 0.6159319803414394}. Best is trial 10 with value: 0.8630436304641831.\n",
      "[I 2023-09-22 15:20:34,871] Trial 26 finished with value: 0.8624610349306051 and parameters: {'n_estimators': 606, 'max_depth': 10, 'learning_rate': 0.008326573264365245, 'subsample': 0.6942070061036835, 'colsample_bytree': 0.6363540929769463}. Best is trial 10 with value: 0.8630436304641831.\n",
      "[I 2023-09-22 15:21:06,904] Trial 27 finished with value: 0.862770544775411 and parameters: {'n_estimators': 874, 'max_depth': 3, 'learning_rate': 0.014943110299642915, 'subsample': 0.7478952697324912, 'colsample_bytree': 0.5516800843028119}. Best is trial 10 with value: 0.8630436304641831.\n"
     ]
    },
    {
     "name": "stderr",
     "output_type": "stream",
     "text": [
      "[I 2023-09-22 15:21:40,580] Trial 28 finished with value: 0.862770544775411 and parameters: {'n_estimators': 900, 'max_depth': 3, 'learning_rate': 0.01484599338033089, 'subsample': 0.7459229095123954, 'colsample_bytree': 0.5505681952657433}. Best is trial 10 with value: 0.8630436304641831.\n",
      "[I 2023-09-22 15:22:22,311] Trial 29 finished with value: 0.8580339041980176 and parameters: {'n_estimators': 473, 'max_depth': 17, 'learning_rate': 0.004984577321497195, 'subsample': 0.6142242997530368, 'colsample_bytree': 0.579363706350672}. Best is trial 10 with value: 0.8630436304641831.\n",
      "[I 2023-09-22 15:22:40,813] Trial 30 finished with value: 0.8617611869143487 and parameters: {'n_estimators': 696, 'max_depth': 20, 'learning_rate': 0.05239872116221006, 'subsample': 0.6909048265283438, 'colsample_bytree': 0.5002411323032582}. Best is trial 10 with value: 0.8630436304641831.\n",
      "[I 2023-09-22 15:23:15,589] Trial 31 finished with value: 0.862770544775411 and parameters: {'n_estimators': 910, 'max_depth': 3, 'learning_rate': 0.011567656064511721, 'subsample': 0.7387992852776821, 'colsample_bytree': 0.5468636723660613}. Best is trial 10 with value: 0.8630436304641831.\n",
      "[I 2023-09-22 15:23:47,993] Trial 32 finished with value: 0.862770544775411 and parameters: {'n_estimators': 881, 'max_depth': 3, 'learning_rate': 0.013978027887723617, 'subsample': 0.7481350841773043, 'colsample_bytree': 0.5328445688711438}. Best is trial 10 with value: 0.8630436304641831.\n",
      "[I 2023-09-22 15:24:15,632] Trial 33 finished with value: 0.8620294140381599 and parameters: {'n_estimators': 746, 'max_depth': 5, 'learning_rate': 0.017498805251386373, 'subsample': 0.7165620802213889, 'colsample_bytree': 0.5648364085216856}. Best is trial 10 with value: 0.8630436304641831.\n",
      "[I 2023-09-22 15:24:53,218] Trial 34 finished with value: 0.8624823959809893 and parameters: {'n_estimators': 948, 'max_depth': 4, 'learning_rate': 0.007521943234047981, 'subsample': 0.7684578525459067, 'colsample_bytree': 0.6010435038923865}. Best is trial 10 with value: 0.8630436304641831.\n",
      "[I 2023-09-22 15:25:10,386] Trial 35 finished with value: 0.8624619211036645 and parameters: {'n_estimators': 999, 'max_depth': 7, 'learning_rate': 0.03067050081982792, 'subsample': 0.8431237682139536, 'colsample_bytree': 0.639348295110899}. Best is trial 10 with value: 0.8630436304641831.\n",
      "[I 2023-09-22 15:25:24,263] Trial 36 finished with value: 0.851747853973855 and parameters: {'n_estimators': 303, 'max_depth': 5, 'learning_rate': 0.010887588399934412, 'subsample': 0.6701904474925923, 'colsample_bytree': 0.5379680200105627}. Best is trial 10 with value: 0.8630436304641831.\n",
      "[I 2023-09-22 15:25:49,806] Trial 37 finished with value: 0.8630325444656286 and parameters: {'n_estimators': 875, 'max_depth': 14, 'learning_rate': 0.02639601736857744, 'subsample': 0.7093894659814582, 'colsample_bytree': 0.5916688441496735}. Best is trial 10 with value: 0.8630436304641831.\n",
      "[I 2023-09-22 15:26:13,355] Trial 38 finished with value: 0.8622048073208953 and parameters: {'n_estimators': 656, 'max_depth': 14, 'learning_rate': 0.0253205451460389, 'subsample': 0.6872874394300521, 'colsample_bytree': 0.7456980403613518}. Best is trial 10 with value: 0.8630436304641831.\n",
      "[I 2023-09-22 15:26:33,020] Trial 39 finished with value: 0.8626532353182048 and parameters: {'n_estimators': 856, 'max_depth': 16, 'learning_rate': 0.03603736239817665, 'subsample': 0.7157173660816315, 'colsample_bytree': 0.585091559978536}. Best is trial 10 with value: 0.8630436304641831.\n",
      "[I 2023-09-22 15:26:58,178] Trial 40 finished with value: 0.8615141859197489 and parameters: {'n_estimators': 777, 'max_depth': 13, 'learning_rate': 0.026056567816678148, 'subsample': 0.8734467815709683, 'colsample_bytree': 0.6064887573139381}. Best is trial 10 with value: 0.8630436304641831.\n",
      "[I 2023-09-22 15:27:44,433] Trial 41 finished with value: 0.8625229979258539 and parameters: {'n_estimators': 936, 'max_depth': 19, 'learning_rate': 0.016406930181621933, 'subsample': 0.792171366458635, 'colsample_bytree': 0.562003532956885}. Best is trial 10 with value: 0.8630436304641831.\n",
      "[I 2023-09-22 15:28:26,814] Trial 42 finished with value: 0.8626023224973871 and parameters: {'n_estimators': 889, 'max_depth': 14, 'learning_rate': 0.01751007741125233, 'subsample': 0.7707307593004834, 'colsample_bytree': 0.5171463579310023}. Best is trial 10 with value: 0.8630436304641831.\n",
      "[I 2023-09-22 15:28:55,603] Trial 43 finished with value: 0.862770544775411 and parameters: {'n_estimators': 746, 'max_depth': 3, 'learning_rate': 0.01452997531754383, 'subsample': 0.7372214247986209, 'colsample_bytree': 0.5462334040974366}. Best is trial 10 with value: 0.8630436304641831.\n",
      "[I 2023-09-22 15:29:16,972] Trial 44 finished with value: 0.7847826495506706 and parameters: {'n_estimators': 242, 'max_depth': 15, 'learning_rate': 0.009413042989989798, 'subsample': 0.8024395906106131, 'colsample_bytree': 0.5200999597369418}. Best is trial 10 with value: 0.8630436304641831.\n",
      "[I 2023-09-22 15:30:13,797] Trial 45 finished with value: 0.862742680722878 and parameters: {'n_estimators': 955, 'max_depth': 13, 'learning_rate': 0.011170530015209793, 'subsample': 0.6629329642811425, 'colsample_bytree': 0.569341823930838}. Best is trial 10 with value: 0.8630436304641831.\n",
      "[I 2023-09-22 15:30:39,662] Trial 46 finished with value: 0.8621398027025486 and parameters: {'n_estimators': 827, 'max_depth': 8, 'learning_rate': 0.020692107861392677, 'subsample': 0.6978302960272319, 'colsample_bytree': 0.5925713501767443}. Best is trial 10 with value: 0.8630436304641831.\n",
      "[I 2023-09-22 15:31:04,871] Trial 47 finished with value: 0.8627735034902114 and parameters: {'n_estimators': 577, 'max_depth': 5, 'learning_rate': 0.01750651593681641, 'subsample': 0.750245318664337, 'colsample_bytree': 0.5474106441770514}. Best is trial 10 with value: 0.8630436304641831.\n",
      "[I 2023-09-22 15:31:19,233] Trial 48 finished with value: 0.8618057363863576 and parameters: {'n_estimators': 435, 'max_depth': 11, 'learning_rate': 0.04361226084325587, 'subsample': 0.7618171494082255, 'colsample_bytree': 0.6215682864838137}. Best is trial 10 with value: 0.8630436304641831.\n",
      "[I 2023-09-22 15:31:39,427] Trial 49 finished with value: 0.8620915287436451 and parameters: {'n_estimators': 564, 'max_depth': 5, 'learning_rate': 0.03087994388480591, 'subsample': 0.8311189331622759, 'colsample_bytree': 0.5292628707632178}. Best is trial 10 with value: 0.8630436304641831.\n"
     ]
    },
    {
     "name": "stdout",
     "output_type": "stream",
     "text": [
      "Best Parameters: {'n_estimators': 988, 'max_depth': 9, 'learning_rate': 0.021746182242880132, 'subsample': 0.7788724729574976, 'colsample_bytree': 0.7822599132555701}\n",
      "Best F1-Score: 0.8630436304641831\n"
     ]
    }
   ],
   "source": [
    "# Create an Optuna study and optimize\n",
    "study = optuna.create_study(direction='maximize')  # Maximize the F1-score\n",
    "study.optimize(objective, n_trials=50)  # Number of trials can be adjusted\n",
    "\n",
    "# Get the best parameters\n",
    "best_params = study.best_params\n",
    "print(f\"Best Parameters: {best_params}\")\n",
    "\n",
    "# Get the best F1-score achieved during the optimization\n",
    "best_f1_score = study.best_value\n",
    "print(f\"Best F1-Score: {best_f1_score}\")"
   ]
  },
  {
   "cell_type": "markdown",
   "id": "b29ba9ae",
   "metadata": {},
   "source": [
    "### 4.2.1 Create submission.csv"
   ]
  },
  {
   "cell_type": "code",
   "execution_count": 70,
   "id": "89a75c6d",
   "metadata": {},
   "outputs": [],
   "source": [
    "x_train, x_valid, y_train, y_valid = train_test_split(x_data, y_data, test_size=0.25, stratify=y_data)"
   ]
  },
  {
   "cell_type": "code",
   "execution_count": 71,
   "id": "3b624b39",
   "metadata": {},
   "outputs": [
    {
     "name": "stdout",
     "output_type": "stream",
     "text": [
      "[17:44:33] WARNING: C:/Users/administrator/workspace/xgboost-win64_release_1.6.0/src/learner.cc:627: \n",
      "Parameters: { \"num_hidden_layers\", \"num_units\" } might not be used.\n",
      "\n",
      "  This could be a false alarm, with some parameters getting used by language bindings but\n",
      "  then being mistakenly passed down to XGBoost core, or some parameter actually being used\n",
      "  but getting flagged wrongly here. Please open an issue if you find any such cases.\n",
      "\n",
      "\n"
     ]
    },
    {
     "data": {
      "text/plain": [
       "XGBClassifier(base_score=0.5, booster='gbtree', callbacks=None,\n",
       "              colsample_bylevel=1, colsample_bynode=1, colsample_bytree=1,\n",
       "              early_stopping_rounds=None, enable_categorical=False,\n",
       "              eval_metric=None, gamma=0, gpu_id=-1, grow_policy='depthwise',\n",
       "              importance_type=None, interaction_constraints='',\n",
       "              learning_rate=0.016976047514993316, max_bin=256,\n",
       "              max_cat_to_onehot=4, max_delta_step=0, max_depth=6, max_leaves=0,\n",
       "              min_child_weight=1, missing=nan, monotone_constraints='()',\n",
       "              n_estimators=100, n_jobs=0, num_hidden_layers=3,\n",
       "              num_parallel_tree=1, num_units=240, objective='binary:logistic',\n",
       "              predictor='auto', ...)"
      ]
     },
     "execution_count": 71,
     "metadata": {},
     "output_type": "execute_result"
    }
   ],
   "source": [
    "xgb = XGBClassifier(**study.best_params)\n",
    "xgb.fit(x_train.values, y_train.values, verbose=2)"
   ]
  },
  {
   "cell_type": "code",
   "execution_count": 72,
   "id": "9a0c3b53",
   "metadata": {},
   "outputs": [
    {
     "data": {
      "text/plain": [
       "90954"
      ]
     },
     "execution_count": 72,
     "metadata": {},
     "output_type": "execute_result"
    }
   ],
   "source": [
    "prediction = xgb.predict_proba(x_test)[:,1]\n",
    "len(prediction)"
   ]
  },
  {
   "cell_type": "code",
   "execution_count": 73,
   "id": "0e7e54ca",
   "metadata": {},
   "outputs": [
    {
     "data": {
      "text/html": [
       "<div>\n",
       "<style scoped>\n",
       "    .dataframe tbody tr th:only-of-type {\n",
       "        vertical-align: middle;\n",
       "    }\n",
       "\n",
       "    .dataframe tbody tr th {\n",
       "        vertical-align: top;\n",
       "    }\n",
       "\n",
       "    .dataframe thead th {\n",
       "        text-align: right;\n",
       "    }\n",
       "</style>\n",
       "<table border=\"1\" class=\"dataframe\">\n",
       "  <thead>\n",
       "    <tr style=\"text-align: right;\">\n",
       "      <th></th>\n",
       "      <th>id</th>\n",
       "      <th>Machine failure</th>\n",
       "    </tr>\n",
       "  </thead>\n",
       "  <tbody>\n",
       "    <tr>\n",
       "      <th>0</th>\n",
       "      <td>136429</td>\n",
       "      <td>0.093477</td>\n",
       "    </tr>\n",
       "    <tr>\n",
       "      <th>1</th>\n",
       "      <td>136430</td>\n",
       "      <td>0.093477</td>\n",
       "    </tr>\n",
       "    <tr>\n",
       "      <th>2</th>\n",
       "      <td>136431</td>\n",
       "      <td>0.093477</td>\n",
       "    </tr>\n",
       "    <tr>\n",
       "      <th>3</th>\n",
       "      <td>136432</td>\n",
       "      <td>0.093477</td>\n",
       "    </tr>\n",
       "    <tr>\n",
       "      <th>4</th>\n",
       "      <td>136433</td>\n",
       "      <td>0.093477</td>\n",
       "    </tr>\n",
       "    <tr>\n",
       "      <th>...</th>\n",
       "      <td>...</td>\n",
       "      <td>...</td>\n",
       "    </tr>\n",
       "    <tr>\n",
       "      <th>90949</th>\n",
       "      <td>227378</td>\n",
       "      <td>0.093477</td>\n",
       "    </tr>\n",
       "    <tr>\n",
       "      <th>90950</th>\n",
       "      <td>227379</td>\n",
       "      <td>0.093477</td>\n",
       "    </tr>\n",
       "    <tr>\n",
       "      <th>90951</th>\n",
       "      <td>227380</td>\n",
       "      <td>0.093477</td>\n",
       "    </tr>\n",
       "    <tr>\n",
       "      <th>90952</th>\n",
       "      <td>227381</td>\n",
       "      <td>0.093477</td>\n",
       "    </tr>\n",
       "    <tr>\n",
       "      <th>90953</th>\n",
       "      <td>227382</td>\n",
       "      <td>0.093477</td>\n",
       "    </tr>\n",
       "  </tbody>\n",
       "</table>\n",
       "<p>90954 rows × 2 columns</p>\n",
       "</div>"
      ],
      "text/plain": [
       "           id  Machine failure\n",
       "0      136429         0.093477\n",
       "1      136430         0.093477\n",
       "2      136431         0.093477\n",
       "3      136432         0.093477\n",
       "4      136433         0.093477\n",
       "...       ...              ...\n",
       "90949  227378         0.093477\n",
       "90950  227379         0.093477\n",
       "90951  227380         0.093477\n",
       "90952  227381         0.093477\n",
       "90953  227382         0.093477\n",
       "\n",
       "[90954 rows x 2 columns]"
      ]
     },
     "execution_count": 73,
     "metadata": {},
     "output_type": "execute_result"
    }
   ],
   "source": [
    "result = test_df.copy()\n",
    "result = result.drop(result.columns.difference(['id']), axis=1)\n",
    "result['Machine failure'] = prediction\n",
    "result"
   ]
  },
  {
   "cell_type": "code",
   "execution_count": 74,
   "id": "9fcd450c",
   "metadata": {},
   "outputs": [],
   "source": [
    "result.to_csv('../data/submission.csv', index = False)"
   ]
  },
  {
   "cell_type": "markdown",
   "id": "4d0669dc",
   "metadata": {},
   "source": [
    "## 4.3 TensorFlow"
   ]
  },
  {
   "cell_type": "code",
   "execution_count": 64,
   "id": "d5e7c928",
   "metadata": {},
   "outputs": [],
   "source": [
    "# 특정 epoch 마다 출력할 Callback 정의\n",
    "class VerboseEpochs(Callback):\n",
    "    def __init__(self, verbose_epoch_interval):\n",
    "        super(VerboseEpochs, self).__init__()\n",
    "        self.verbose_epoch_interval = verbose_epoch_interval\n",
    "\n",
    "    def on_epoch_end(self, epoch, logs=None):\n",
    "        if epoch % self.verbose_epoch_interval == 0:\n",
    "#             print(f\"Epoch {epoch + 1}/{self.params['epochs']} - loss: {logs['loss']} - acc: {logs['binary_accuracy']}\")\n",
    "            print(f\"Epoch {epoch + 1}/{self.params['epochs']} - val_loss: {logs['val_loss']} - val_acc: {logs['val_binary_accuracy']}\")\n",
    "\n",
    "# Callback 객체 생성\n",
    "verbose_callback = VerboseEpochs(verbose_epoch_interval=10)  # 예를 들어, 매 5 epoch 마다 출력"
   ]
  },
  {
   "cell_type": "code",
   "execution_count": 65,
   "id": "4f9e7a90",
   "metadata": {},
   "outputs": [],
   "source": [
    "# EarlyStopping 콜백 정의\n",
    "early_stopping = EarlyStopping(monitor='val_loss', patience=10, min_delta=0.0005, restore_best_weights=True)"
   ]
  },
  {
   "cell_type": "code",
   "execution_count": 66,
   "id": "ba98b5dc",
   "metadata": {},
   "outputs": [],
   "source": [
    "x_train, x_valid, y_train, y_valid = train_test_split(x_data, y_data, test_size=0.25, stratify=y_data)"
   ]
  },
  {
   "cell_type": "code",
   "execution_count": 67,
   "id": "1ca66c52",
   "metadata": {},
   "outputs": [],
   "source": [
    "# 로그 설정\n",
    "logging.basicConfig(filename='optuna_trials.log', level=logging.INFO)\n",
    "    \n",
    "def objective(trial):\n",
    "    # 하이퍼파라미터 추천\n",
    "    num_hidden_layers = trial.suggest_int('num_hidden_layers', 1, 3)\n",
    "    num_units = trial.suggest_int('num_units', 32, 512, log=True)\n",
    "    learning_rate = trial.suggest_float('learning_rate', 1e-5, 1e-1, log=True)\n",
    "    # 뉴런 수 감소 비율 튜닝 (예: 1.0에서 0.3 사이)\n",
    "    neuron_reduction_rate = trial.suggest_float('neuron_reduction_rate', 0.3, 1)\n",
    "    # 드롭아웃 비율 튜닝 (예: 0.0에서 0.5 사이)\n",
    "    dropout_rate = trial.suggest_float('dropout_rate', 0.0, 0.5)\n",
    "    \n",
    "    f1_scores = []  # 각 폴드의 F1 스코어를 저장할 리스트\n",
    "\n",
    "    # 모델 구성\n",
    "    model = Sequential()\n",
    "    model.add(Dense(num_units, activation='relu', input_shape=(x_data.shape[1],)))\n",
    "\n",
    "    for i in range(1, num_hidden_layers):\n",
    "        num_units = int(num_units * neuron_reduction_rate)  # 뉴런 수 감소\n",
    "        model.add(Dense(num_units, activation='relu'))\n",
    "\n",
    "        model.add(Dropout(dropout_rate))  # 드롭아웃 레이어 추가 및 드롭아웃 비율 조정\n",
    "\n",
    "        model.add(BatchNormalization())  # 배치 정규화 레이어 추가\n",
    "    model.add(Dense(1, activation='sigmoid'))\n",
    "\n",
    "    # 모델 컴파일\n",
    "    model.compile(loss='binary_crossentropy', optimizer=Adam(learning_rate=learning_rate), metrics=['binary_accuracy'])\n",
    "\n",
    "    # 모델 훈련 및 평가\n",
    "    history = model.fit(x_train, y_train, epochs=200, validation_data=(x_valid, y_valid),\n",
    "                        callbacks=[early_stopping, verbose_callback], batch_size=128, verbose=0)\n",
    "\n",
    "    # 검증 데이터에 대한 예측을 생성\n",
    "    y_pred = model.predict(x_valid)\n",
    "    y_pred = (y_pred > 0.5).astype(int)\n",
    "\n",
    "    # F1 스코어 계산 및 저장\n",
    "    val_f1_score = f1_score(y_valid, y_pred)\n",
    "    f1_scores.append(val_f1_score)\n",
    "\n",
    "    # 각 폴드의 F1 스코어 평균을 반환\n",
    "    mean_f1_score = sum(f1_scores) / len(f1_scores)\n",
    "    # 트라이얼 리포트\n",
    "    trial.report(mean_f1_score, step=trial.number)\n",
    "    logging.info(f\"Trial {trial.number}: F1 Score = {mean_f1_score}\")\n",
    "    \n",
    "    return mean_f1_score"
   ]
  },
  {
   "cell_type": "code",
   "execution_count": 68,
   "id": "f63878c2",
   "metadata": {
    "scrolled": false
   },
   "outputs": [
    {
     "name": "stderr",
     "output_type": "stream",
     "text": [
      "[I 2023-09-22 20:14:07,814] A new study created in memory with name: no-name-23e0e816-4f52-441e-a405-51a0cec241aa\n"
     ]
    },
    {
     "name": "stdout",
     "output_type": "stream",
     "text": [
      "Epoch 1/200 - loss: 0.4922139048576355 - acc: 0.7870720624923706\n",
      "Epoch 1/200 - val_loss: 0.12899523973464966 - val_acc: 0.9934326410293579\n",
      "Epoch 11/200 - loss: 0.02534899301826954 - acc: 0.9956998229026794\n",
      "Epoch 11/200 - val_loss: 0.02302493341267109 - val_acc: 0.9963644742965698\n",
      "Epoch 21/200 - loss: 0.023372692987322807 - acc: 0.9958072900772095\n",
      "Epoch 21/200 - val_loss: 0.021759988740086555 - val_acc: 0.9963937997817993\n",
      "Epoch 31/200 - loss: 0.022776516154408455 - acc: 0.9959050416946411\n",
      "Epoch 31/200 - val_loss: 0.021260298788547516 - val_acc: 0.9963351488113403\n"
     ]
    },
    {
     "name": "stderr",
     "output_type": "stream",
     "text": [
      "[I 2023-09-22 20:17:08,224] Trial 0 finished with value: 0.868559411146162 and parameters: {'num_hidden_layers': 3, 'num_units': 126, 'learning_rate': 0.00020378443930675307, 'neuron_reduction_rate': 0.6879792003596248, 'dropout_rate': 0.428504206225102}. Best is trial 0 with value: 0.868559411146162.\n"
     ]
    },
    {
     "name": "stdout",
     "output_type": "stream",
     "text": [
      "Epoch 1/200 - loss: 0.22744819521903992 - acc: 0.93666011095047\n",
      "Epoch 1/200 - val_loss: 0.03651801496744156 - val_acc: 0.9960126876831055\n",
      "Epoch 11/200 - loss: 0.022769341245293617 - acc: 0.9959148168563843\n",
      "Epoch 11/200 - val_loss: 0.021128417924046516 - val_acc: 0.9964231252670288\n"
     ]
    },
    {
     "name": "stderr",
     "output_type": "stream",
     "text": [
      "[I 2023-09-22 20:18:04,220] Trial 1 finished with value: 0.8714733542319749 and parameters: {'num_hidden_layers': 2, 'num_units': 114, 'learning_rate': 0.00046592605998961063, 'neuron_reduction_rate': 0.37970693447989695, 'dropout_rate': 0.2627109233425965}. Best is trial 1 with value: 0.8714733542319749.\n"
     ]
    },
    {
     "name": "stdout",
     "output_type": "stream",
     "text": [
      "Epoch 1/200 - loss: 0.6499377489089966 - acc: 0.6407579779624939\n",
      "Epoch 1/200 - val_loss: 0.506094217300415 - val_acc: 0.9467280507087708\n",
      "Epoch 11/200 - loss: 0.026384754106402397 - acc: 0.9953968524932861\n",
      "Epoch 11/200 - val_loss: 0.02287791296839714 - val_acc: 0.995983362197876\n",
      "Epoch 21/200 - loss: 0.023270104080438614 - acc: 0.9957193732261658\n",
      "Epoch 21/200 - val_loss: 0.02125782147049904 - val_acc: 0.9962472319602966\n"
     ]
    },
    {
     "name": "stderr",
     "output_type": "stream",
     "text": [
      "[I 2023-09-22 20:19:44,668] Trial 2 finished with value: 0.8652631578947368 and parameters: {'num_hidden_layers': 2, 'num_units': 46, 'learning_rate': 6.852341407880932e-05, 'neuron_reduction_rate': 0.8444462422912313, 'dropout_rate': 0.1640136090416332}. Best is trial 1 with value: 0.8714733542319749.\n"
     ]
    },
    {
     "name": "stdout",
     "output_type": "stream",
     "text": [
      "Epoch 1/200 - loss: 0.24241779744625092 - acc: 0.9649631977081299\n",
      "Epoch 1/200 - val_loss: 0.09972663223743439 - val_acc: 0.9842559099197388\n",
      "Epoch 11/200 - loss: 0.02264627255499363 - acc: 0.9960418939590454\n",
      "Epoch 11/200 - val_loss: 0.021768508478999138 - val_acc: 0.9963058233261108\n",
      "Epoch 21/200 - loss: 0.021794259548187256 - acc: 0.9961102604866028\n",
      "Epoch 21/200 - val_loss: 0.020963363349437714 - val_acc: 0.9964231252670288\n"
     ]
    },
    {
     "name": "stderr",
     "output_type": "stream",
     "text": [
      "[I 2023-09-22 20:20:40,156] Trial 3 finished with value: 0.8709338929695698 and parameters: {'num_hidden_layers': 1, 'num_units': 115, 'learning_rate': 0.00022205991675946826, 'neuron_reduction_rate': 0.4174467029328694, 'dropout_rate': 0.009763111552803572}. Best is trial 1 with value: 0.8714733542319749.\n"
     ]
    },
    {
     "name": "stdout",
     "output_type": "stream",
     "text": [
      "Epoch 1/200 - loss: 0.5736791491508484 - acc: 0.7300260663032532\n",
      "Epoch 1/200 - val_loss: 0.3350019156932831 - val_acc: 0.9931980967521667\n",
      "Epoch 11/200 - loss: 0.022509634494781494 - acc: 0.9959539175033569\n",
      "Epoch 11/200 - val_loss: 0.02137845754623413 - val_acc: 0.9964524507522583\n",
      "Epoch 21/200 - loss: 0.021501120179891586 - acc: 0.9960516691207886\n",
      "Epoch 21/200 - val_loss: 0.02118692360818386 - val_acc: 0.9963644742965698\n"
     ]
    },
    {
     "name": "stderr",
     "output_type": "stream",
     "text": [
      "[I 2023-09-22 20:21:54,334] Trial 4 finished with value: 0.8732984293193717 and parameters: {'num_hidden_layers': 2, 'num_units': 71, 'learning_rate': 9.959937802862932e-05, 'neuron_reduction_rate': 0.9624360355344637, 'dropout_rate': 0.26850153604216426}. Best is trial 4 with value: 0.8732984293193717.\n"
     ]
    },
    {
     "name": "stdout",
     "output_type": "stream",
     "text": [
      "Epoch 1/200 - loss: 0.0754222646355629 - acc: 0.982007622718811\n",
      "Epoch 1/200 - val_loss: 0.024473873898386955 - val_acc: 0.996042013168335\n",
      "Epoch 11/200 - loss: 0.021477684378623962 - acc: 0.9960516691207886\n",
      "Epoch 11/200 - val_loss: 0.0202731192111969 - val_acc: 0.9964231252670288\n",
      "Epoch 21/200 - loss: 0.021261010318994522 - acc: 0.9961004853248596\n",
      "Epoch 21/200 - val_loss: 0.02037883922457695 - val_acc: 0.9963937997817993\n"
     ]
    },
    {
     "name": "stderr",
     "output_type": "stream",
     "text": [
      "[I 2023-09-22 20:22:39,582] Trial 5 finished with value: 0.8723849372384939 and parameters: {'num_hidden_layers': 1, 'num_units': 43, 'learning_rate': 0.0026945763629541686, 'neuron_reduction_rate': 0.3121706653209524, 'dropout_rate': 0.19977637051099512}. Best is trial 4 with value: 0.8732984293193717.\n"
     ]
    },
    {
     "name": "stdout",
     "output_type": "stream",
     "text": [
      "Epoch 1/200 - loss: 0.18771840631961823 - acc: 0.9658036828041077\n",
      "Epoch 1/200 - val_loss: 0.03217579051852226 - val_acc: 0.9963058233261108\n",
      "Epoch 11/200 - loss: 0.021123550832271576 - acc: 0.9960907101631165\n",
      "Epoch 11/200 - val_loss: 0.02093181014060974 - val_acc: 0.9963351488113403\n"
     ]
    },
    {
     "name": "stderr",
     "output_type": "stream",
     "text": [
      "[I 2023-09-22 20:23:39,532] Trial 6 finished with value: 0.8712041884816754 and parameters: {'num_hidden_layers': 2, 'num_units': 63, 'learning_rate': 0.00045293049400985417, 'neuron_reduction_rate': 0.9996374308098788, 'dropout_rate': 0.010941427306759288}. Best is trial 4 with value: 0.8732984293193717.\n"
     ]
    },
    {
     "name": "stdout",
     "output_type": "stream",
     "text": [
      "Epoch 1/200 - loss: 0.03910556808114052 - acc: 0.9925040006637573\n",
      "Epoch 1/200 - val_loss: 0.022256847470998764 - val_acc: 0.9963351488113403\n",
      "Epoch 11/200 - loss: 0.026056692004203796 - acc: 0.995836615562439\n",
      "Epoch 11/200 - val_loss: 0.023370353505015373 - val_acc: 0.9963937997817993\n"
     ]
    },
    {
     "name": "stderr",
     "output_type": "stream",
     "text": [
      "[I 2023-09-22 20:24:43,885] Trial 7 finished with value: 0.8709338929695698 and parameters: {'num_hidden_layers': 2, 'num_units': 376, 'learning_rate': 0.0783825555257179, 'neuron_reduction_rate': 0.5157584181346995, 'dropout_rate': 0.07509553138952874}. Best is trial 4 with value: 0.8732984293193717.\n"
     ]
    },
    {
     "name": "stdout",
     "output_type": "stream",
     "text": [
      "Epoch 1/200 - loss: 0.7248954176902771 - acc: 0.6341513395309448\n",
      "Epoch 1/200 - val_loss: 0.5324705243110657 - val_acc: 0.9280520677566528\n",
      "Epoch 11/200 - loss: 0.05333961918950081 - acc: 0.9907546043395996\n",
      "Epoch 11/200 - val_loss: 0.03288492187857628 - val_acc: 0.9956315159797668\n",
      "Epoch 21/200 - loss: 0.03309156745672226 - acc: 0.9935497045516968\n",
      "Epoch 21/200 - val_loss: 0.023974096402525902 - val_acc: 0.9960712790489197\n",
      "Epoch 31/200 - loss: 0.031221458688378334 - acc: 0.9941849708557129\n",
      "Epoch 31/200 - val_loss: 0.023376893252134323 - val_acc: 0.9962472319602966\n"
     ]
    },
    {
     "name": "stderr",
     "output_type": "stream",
     "text": [
      "[I 2023-09-22 20:27:45,755] Trial 8 finished with value: 0.8637803590285111 and parameters: {'num_hidden_layers': 3, 'num_units': 47, 'learning_rate': 9.92991828019802e-05, 'neuron_reduction_rate': 0.3395909246798966, 'dropout_rate': 0.28052599756199725}. Best is trial 4 with value: 0.8732984293193717.\n"
     ]
    },
    {
     "name": "stdout",
     "output_type": "stream",
     "text": [
      "Epoch 1/200 - loss: 0.4812498092651367 - acc: 0.8294191956520081\n",
      "Epoch 1/200 - val_loss: 0.18506059050559998 - val_acc: 0.996042013168335\n",
      "Epoch 11/200 - loss: 0.022635914385318756 - acc: 0.9959930181503296\n",
      "Epoch 11/200 - val_loss: 0.021046437323093414 - val_acc: 0.9963644742965698\n",
      "Epoch 21/200 - loss: 0.021284373477101326 - acc: 0.9960223436355591\n",
      "Epoch 21/200 - val_loss: 0.02081439271569252 - val_acc: 0.9963937997817993\n"
     ]
    },
    {
     "name": "stderr",
     "output_type": "stream",
     "text": [
      "[I 2023-09-22 20:29:53,013] Trial 9 finished with value: 0.8712041884816754 and parameters: {'num_hidden_layers': 3, 'num_units': 154, 'learning_rate': 0.0001706256499936202, 'neuron_reduction_rate': 0.5037096057359185, 'dropout_rate': 0.09088897910779614}. Best is trial 4 with value: 0.8732984293193717.\n"
     ]
    },
    {
     "name": "stdout",
     "output_type": "stream",
     "text": [
      "Epoch 1/200 - loss: 0.8041738271713257 - acc: 0.37985360622406006\n",
      "Epoch 1/200 - val_loss: 0.7643875479698181 - val_acc: 0.42857980728149414\n",
      "Epoch 11/200 - loss: 0.3093031048774719 - acc: 0.9841381311416626\n",
      "Epoch 11/200 - val_loss: 0.2958242893218994 - val_acc: 0.9841972589492798\n",
      "Epoch 21/200 - loss: 0.1463279128074646 - acc: 0.9842554330825806\n",
      "Epoch 21/200 - val_loss: 0.14210738241672516 - val_acc: 0.9842559099197388\n",
      "Epoch 31/200 - loss: 0.09610266238451004 - acc: 0.9842554330825806\n",
      "Epoch 31/200 - val_loss: 0.09368553757667542 - val_acc: 0.9842559099197388\n",
      "Epoch 41/200 - loss: 0.0756780207157135 - acc: 0.9842847585678101\n",
      "Epoch 41/200 - val_loss: 0.07333575189113617 - val_acc: 0.9842852354049683\n",
      "Epoch 51/200 - loss: 0.0636603832244873 - acc: 0.9846659302711487\n",
      "Epoch 51/200 - val_loss: 0.06140218302607536 - val_acc: 0.9848422408103943\n",
      "Epoch 61/200 - loss: 0.054902203381061554 - acc: 0.9861319065093994\n",
      "Epoch 61/200 - val_loss: 0.0528365783393383 - val_acc: 0.9862202405929565\n",
      "Epoch 71/200 - loss: 0.0478496253490448 - acc: 0.9881451725959778\n",
      "Epoch 71/200 - val_loss: 0.0460364855825901 - val_acc: 0.9885657429695129\n",
      "Epoch 81/200 - loss: 0.04194807633757591 - acc: 0.989923894405365\n",
      "Epoch 81/200 - val_loss: 0.04039812088012695 - val_acc: 0.9904128313064575\n",
      "Epoch 91/200 - loss: 0.03714917227625847 - acc: 0.9913898706436157\n",
      "Epoch 91/200 - val_loss: 0.03584689274430275 - val_acc: 0.9921132922172546\n",
      "Epoch 101/200 - loss: 0.03345022350549698 - acc: 0.9926016926765442\n",
      "Epoch 101/200 - val_loss: 0.03233516961336136 - val_acc: 0.9929928183555603\n",
      "Epoch 111/200 - loss: 0.03071374073624611 - acc: 0.9935399293899536\n",
      "Epoch 111/200 - val_loss: 0.02970914915204048 - val_acc: 0.9938430786132812\n",
      "Epoch 121/200 - loss: 0.028713876381516457 - acc: 0.9942240715026855\n",
      "Epoch 121/200 - val_loss: 0.02777630276978016 - val_acc: 0.9943708181381226\n",
      "Epoch 131/200 - loss: 0.027244245633482933 - acc: 0.9946540594100952\n",
      "Epoch 131/200 - val_loss: 0.026350073516368866 - val_acc: 0.9951037764549255\n",
      "Epoch 141/200 - loss: 0.026151100173592567 - acc: 0.9950059056282043\n",
      "Epoch 141/200 - val_loss: 0.025290051475167274 - val_acc: 0.9953969717025757\n",
      "Epoch 151/200 - loss: 0.025333331897854805 - acc: 0.9952208995819092\n",
      "Epoch 151/200 - val_loss: 0.024494145065546036 - val_acc: 0.9956315159797668\n",
      "Epoch 161/200 - loss: 0.024709481745958328 - acc: 0.9954750537872314\n",
      "Epoch 161/200 - val_loss: 0.02388847805559635 - val_acc: 0.9958367347717285\n",
      "Epoch 171/200 - loss: 0.02422713115811348 - acc: 0.9956509470939636\n",
      "Epoch 171/200 - val_loss: 0.023424148559570312 - val_acc: 0.9959540367126465\n"
     ]
    },
    {
     "name": "stderr",
     "output_type": "stream",
     "text": [
      "[I 2023-09-22 20:36:04,068] Trial 10 finished with value: 0.8528784648187633 and parameters: {'num_hidden_layers': 1, 'num_units': 34, 'learning_rate': 1.0099034293344024e-05, 'neuron_reduction_rate': 0.9822607789593484, 'dropout_rate': 0.3633626003252164}. Best is trial 4 with value: 0.8732984293193717.\n"
     ]
    },
    {
     "name": "stdout",
     "output_type": "stream",
     "text": [
      "Epoch 1/200 - loss: 0.05192290246486664 - acc: 0.9897674918174744\n",
      "Epoch 1/200 - val_loss: 0.023220887407660484 - val_acc: 0.9961592555046082\n",
      "Epoch 11/200 - loss: 0.02172304131090641 - acc: 0.9960907101631165\n",
      "Epoch 11/200 - val_loss: 0.020951883867383003 - val_acc: 0.9963937997817993\n"
     ]
    },
    {
     "name": "stderr",
     "output_type": "stream",
     "text": [
      "[I 2023-09-22 20:36:40,828] Trial 11 finished with value: 0.8721174004192872 and parameters: {'num_hidden_layers': 1, 'num_units': 70, 'learning_rate': 0.0032561348281966588, 'neuron_reduction_rate': 0.7208649094069719, 'dropout_rate': 0.1784943414995116}. Best is trial 4 with value: 0.8732984293193717.\n"
     ]
    },
    {
     "name": "stdout",
     "output_type": "stream",
     "text": [
      "Epoch 1/200 - loss: 0.08005096018314362 - acc: 0.9836397171020508\n",
      "Epoch 1/200 - val_loss: 0.025685695931315422 - val_acc: 0.9960126876831055\n",
      "Epoch 11/200 - loss: 0.021599411964416504 - acc: 0.9960711598396301\n",
      "Epoch 11/200 - val_loss: 0.020505815744400024 - val_acc: 0.9963937997817993\n",
      "Epoch 21/200 - loss: 0.021316291764378548 - acc: 0.9960614442825317\n",
      "Epoch 21/200 - val_loss: 0.020225446671247482 - val_acc: 0.9964231252670288\n"
     ]
    },
    {
     "name": "stderr",
     "output_type": "stream",
     "text": [
      "[I 2023-09-22 20:37:36,593] Trial 12 finished with value: 0.8721174004192872 and parameters: {'num_hidden_layers': 1, 'num_units': 34, 'learning_rate': 0.002275888590590358, 'neuron_reduction_rate': 0.5869292362532155, 'dropout_rate': 0.3074695942532509}. Best is trial 4 with value: 0.8732984293193717.\n"
     ]
    },
    {
     "name": "stdout",
     "output_type": "stream",
     "text": [
      "Epoch 1/200 - loss: 0.03427550941705704 - acc: 0.9941458702087402\n",
      "Epoch 1/200 - val_loss: 0.022245856001973152 - val_acc: 0.9963058233261108\n",
      "Epoch 11/200 - loss: 0.021868277341127396 - acc: 0.9960321187973022\n",
      "Epoch 11/200 - val_loss: 0.020465610548853874 - val_acc: 0.9964231252670288\n"
     ]
    },
    {
     "name": "stderr",
     "output_type": "stream",
     "text": [
      "[I 2023-09-22 20:38:07,335] Trial 13 finished with value: 0.8712041884816754 and parameters: {'num_hidden_layers': 1, 'num_units': 73, 'learning_rate': 0.009572155759374097, 'neuron_reduction_rate': 0.3020919215870353, 'dropout_rate': 0.20431773018490754}. Best is trial 4 with value: 0.8732984293193717.\n"
     ]
    },
    {
     "name": "stdout",
     "output_type": "stream",
     "text": [
      "Epoch 1/200 - loss: 0.1390710324048996 - acc: 0.9568514823913574\n",
      "Epoch 1/200 - val_loss: 0.023248804733157158 - val_acc: 0.995866060256958\n",
      "Epoch 11/200 - loss: 0.023600563406944275 - acc: 0.9957682490348816\n",
      "Epoch 11/200 - val_loss: 0.020737990736961365 - val_acc: 0.9964231252670288\n",
      "Epoch 21/200 - loss: 0.02254161611199379 - acc: 0.9959343671798706\n",
      "Epoch 21/200 - val_loss: 0.02074815146625042 - val_acc: 0.9963937997817993\n"
     ]
    },
    {
     "name": "stderr",
     "output_type": "stream",
     "text": [
      "[I 2023-09-22 20:39:22,763] Trial 14 finished with value: 0.8721174004192872 and parameters: {'num_hidden_layers': 2, 'num_units': 32, 'learning_rate': 0.0014069718895392133, 'neuron_reduction_rate': 0.7437206317043562, 'dropout_rate': 0.3487294650812679}. Best is trial 4 with value: 0.8732984293193717.\n"
     ]
    },
    {
     "name": "stdout",
     "output_type": "stream",
     "text": [
      "Epoch 1/200 - loss: 0.03828810900449753 - acc: 0.9937940239906311\n",
      "Epoch 1/200 - val_loss: 0.022426726296544075 - val_acc: 0.9963937997817993\n",
      "Epoch 11/200 - loss: 0.02187528647482395 - acc: 0.9960809350013733\n",
      "Epoch 11/200 - val_loss: 0.02110113389790058 - val_acc: 0.9963937997817993\n",
      "Epoch 21/200 - loss: 0.021418338641524315 - acc: 0.9961298108100891\n",
      "Epoch 21/200 - val_loss: 0.020793575793504715 - val_acc: 0.9963937997817993\n"
     ]
    },
    {
     "name": "stderr",
     "output_type": "stream",
     "text": [
      "[I 2023-09-22 20:40:10,934] Trial 15 finished with value: 0.8714733542319749 and parameters: {'num_hidden_layers': 1, 'num_units': 84, 'learning_rate': 0.005646673068966562, 'neuron_reduction_rate': 0.8360355920115887, 'dropout_rate': 0.2206725516180058}. Best is trial 4 with value: 0.8732984293193717.\n"
     ]
    },
    {
     "name": "stdout",
     "output_type": "stream",
     "text": [
      "Epoch 1/200 - loss: 0.8653790950775146 - acc: 0.5306828618049622\n",
      "Epoch 1/200 - val_loss: 0.6522114872932434 - val_acc: 0.6302919983863831\n",
      "Epoch 11/200 - loss: 0.1714499592781067 - acc: 0.9701234102249146\n",
      "Epoch 11/200 - val_loss: 0.1090654581785202 - val_acc: 0.9902955293655396\n",
      "Epoch 21/200 - loss: 0.06288941204547882 - acc: 0.9875490069389343\n",
      "Epoch 21/200 - val_loss: 0.03885182738304138 - val_acc: 0.9929928183555603\n",
      "Epoch 31/200 - loss: 0.04686097800731659 - acc: 0.9904711842536926\n",
      "Epoch 31/200 - val_loss: 0.029404794797301292 - val_acc: 0.9947226643562317\n",
      "Epoch 41/200 - loss: 0.03998969867825508 - acc: 0.9917612075805664\n",
      "Epoch 41/200 - val_loss: 0.024406015872955322 - val_acc: 0.995924711227417\n",
      "Epoch 51/200 - loss: 0.03519671782851219 - acc: 0.9928362965583801\n",
      "Epoch 51/200 - val_loss: 0.02301141247153282 - val_acc: 0.9962765574455261\n"
     ]
    },
    {
     "name": "stderr",
     "output_type": "stream",
     "text": [
      "[I 2023-09-22 20:45:00,904] Trial 16 finished with value: 0.8649789029535865 and parameters: {'num_hidden_layers': 3, 'num_units': 48, 'learning_rate': 3.673610248366566e-05, 'neuron_reduction_rate': 0.5963632208134932, 'dropout_rate': 0.4650839759615994}. Best is trial 4 with value: 0.8732984293193717.\n"
     ]
    },
    {
     "name": "stdout",
     "output_type": "stream",
     "text": [
      "Epoch 1/200 - loss: 0.16757774353027344 - acc: 0.9533820152282715\n",
      "Epoch 1/200 - val_loss: 0.02654234506189823 - val_acc: 0.9961299300193787\n",
      "Epoch 11/200 - loss: 0.022516818717122078 - acc: 0.9959734678268433\n",
      "Epoch 11/200 - val_loss: 0.020486783236265182 - val_acc: 0.9963937997817993\n",
      "Epoch 21/200 - loss: 0.021572167053818703 - acc: 0.9960321187973022\n",
      "Epoch 21/200 - val_loss: 0.020056936889886856 - val_acc: 0.9964231252670288\n"
     ]
    },
    {
     "name": "stderr",
     "output_type": "stream",
     "text": [
      "[I 2023-09-22 20:46:22,502] Trial 17 finished with value: 0.8721174004192872 and parameters: {'num_hidden_layers': 2, 'num_units': 53, 'learning_rate': 0.0009373564184558418, 'neuron_reduction_rate': 0.4584468490279679, 'dropout_rate': 0.1425392894254559}. Best is trial 4 with value: 0.8732984293193717.\n"
     ]
    },
    {
     "name": "stdout",
     "output_type": "stream",
     "text": [
      "Epoch 1/200 - loss: 0.03866079822182655 - acc: 0.991165041923523\n",
      "Epoch 1/200 - val_loss: 0.024304302409291267 - val_acc: 0.9957781434059143\n",
      "Epoch 11/200 - loss: 0.023045241832733154 - acc: 0.9959539175033569\n",
      "Epoch 11/200 - val_loss: 0.02078831009566784 - val_acc: 0.9964524507522583\n",
      "Epoch 21/200 - loss: 0.022769415751099586 - acc: 0.9958757162094116\n",
      "Epoch 21/200 - val_loss: 0.02055291272699833 - val_acc: 0.9963937997817993\n"
     ]
    },
    {
     "name": "stderr",
     "output_type": "stream",
     "text": [
      "[I 2023-09-22 20:47:49,869] Trial 18 finished with value: 0.8709338929695698 and parameters: {'num_hidden_layers': 2, 'num_units': 88, 'learning_rate': 0.013160692023104633, 'neuron_reduction_rate': 0.3811973562572246, 'dropout_rate': 0.2400785972463998}. Best is trial 4 with value: 0.8732984293193717.\n"
     ]
    },
    {
     "name": "stdout",
     "output_type": "stream",
     "text": [
      "Epoch 1/200 - loss: 0.1078658178448677 - acc: 0.9830337762832642\n",
      "Epoch 1/200 - val_loss: 0.034834012389183044 - val_acc: 0.9934912919998169\n",
      "Epoch 11/200 - loss: 0.021648185327649117 - acc: 0.9960907101631165\n",
      "Epoch 11/200 - val_loss: 0.020664704963564873 - val_acc: 0.9964231252670288\n",
      "Epoch 21/200 - loss: 0.021161749958992004 - acc: 0.9961102604866028\n",
      "Epoch 21/200 - val_loss: 0.020349685102701187 - val_acc: 0.9963644742965698\n"
     ]
    },
    {
     "name": "stderr",
     "output_type": "stream",
     "text": [
      "[I 2023-09-22 20:48:34,038] Trial 19 finished with value: 0.8721174004192872 and parameters: {'num_hidden_layers': 1, 'num_units': 180, 'learning_rate': 0.0006309174096361536, 'neuron_reduction_rate': 0.6038165405521281, 'dropout_rate': 0.30398908268350794}. Best is trial 4 with value: 0.8732984293193717.\n"
     ]
    },
    {
     "name": "stdout",
     "output_type": "stream",
     "text": [
      "Epoch 1/200 - loss: 0.7435964345932007 - acc: 0.5276922583580017\n",
      "Epoch 1/200 - val_loss: 0.6623241305351257 - val_acc: 0.6406415104866028\n",
      "Epoch 11/200 - loss: 0.2753952443599701 - acc: 0.9716969132423401\n",
      "Epoch 11/200 - val_loss: 0.22676385939121246 - val_acc: 0.9954262971878052\n",
      "Epoch 21/200 - loss: 0.06409338116645813 - acc: 0.9937353730201721\n",
      "Epoch 21/200 - val_loss: 0.04868646711111069 - val_acc: 0.995866060256958\n",
      "Epoch 31/200 - loss: 0.03106454573571682 - acc: 0.9943804144859314\n",
      "Epoch 31/200 - val_loss: 0.02429133467376232 - val_acc: 0.9959540367126465\n",
      "Epoch 41/200 - loss: 0.02661077491939068 - acc: 0.9949374794960022\n",
      "Epoch 41/200 - val_loss: 0.02220027707517147 - val_acc: 0.9961885809898376\n",
      "Epoch 51/200 - loss: 0.025156931951642036 - acc: 0.9954164028167725\n",
      "Epoch 51/200 - val_loss: 0.02168933115899563 - val_acc: 0.9961885809898376\n",
      "Epoch 61/200 - loss: 0.02423766627907753 - acc: 0.995494544506073\n",
      "Epoch 61/200 - val_loss: 0.021279949694871902 - val_acc: 0.9963058233261108\n"
     ]
    },
    {
     "name": "stderr",
     "output_type": "stream",
     "text": [
      "[I 2023-09-22 20:52:04,590] Trial 20 finished with value: 0.8625792811839323 and parameters: {'num_hidden_layers': 2, 'num_units': 60, 'learning_rate': 2.1889548318455415e-05, 'neuron_reduction_rate': 0.3031808013269857, 'dropout_rate': 0.246184043662383}. Best is trial 4 with value: 0.8732984293193717.\n"
     ]
    },
    {
     "name": "stdout",
     "output_type": "stream",
     "text": [
      "Epoch 1/200 - loss: 0.05776125192642212 - acc: 0.9893863201141357\n",
      "Epoch 1/200 - val_loss: 0.02288278564810753 - val_acc: 0.9962765574455261\n",
      "Epoch 11/200 - loss: 0.021596089005470276 - acc: 0.9960907101631165\n",
      "Epoch 11/200 - val_loss: 0.020432494580745697 - val_acc: 0.9963937997817993\n"
     ]
    },
    {
     "name": "stderr",
     "output_type": "stream",
     "text": [
      "[I 2023-09-22 20:52:36,548] Trial 21 finished with value: 0.8721174004192872 and parameters: {'num_hidden_layers': 1, 'num_units': 76, 'learning_rate': 0.0027428129572533502, 'neuron_reduction_rate': 0.6989069083516368, 'dropout_rate': 0.18134234377219507}. Best is trial 4 with value: 0.8732984293193717.\n"
     ]
    },
    {
     "name": "stdout",
     "output_type": "stream",
     "text": [
      "Epoch 1/200 - loss: 0.05637336149811745 - acc: 0.990090012550354\n",
      "Epoch 1/200 - val_loss: 0.022485464811325073 - val_acc: 0.9961592555046082\n",
      "Epoch 11/200 - loss: 0.021855251863598824 - acc: 0.9960516691207886\n",
      "Epoch 11/200 - val_loss: 0.02035183273255825 - val_acc: 0.9963937997817993\n",
      "Epoch 21/200 - loss: 0.021484028548002243 - acc: 0.9960614442825317\n",
      "Epoch 21/200 - val_loss: 0.021114809438586235 - val_acc: 0.9962472319602966\n"
     ]
    },
    {
     "name": "stderr",
     "output_type": "stream",
     "text": [
      "[I 2023-09-22 20:53:21,489] Trial 22 finished with value: 0.8712041884816754 and parameters: {'num_hidden_layers': 1, 'num_units': 44, 'learning_rate': 0.0034432691510229373, 'neuron_reduction_rate': 0.7805129973208565, 'dropout_rate': 0.19819696751798246}. Best is trial 4 with value: 0.8732984293193717.\n"
     ]
    },
    {
     "name": "stdout",
     "output_type": "stream",
     "text": [
      "Epoch 1/200 - loss: 0.12799550592899323 - acc: 0.9660773277282715\n",
      "Epoch 1/200 - val_loss: 0.03781106695532799 - val_acc: 0.9923771619796753\n",
      "Epoch 11/200 - loss: 0.021705549210309982 - acc: 0.9960711598396301\n",
      "Epoch 11/200 - val_loss: 0.020815009251236916 - val_acc: 0.9964231252670288\n",
      "Epoch 21/200 - loss: 0.021258195862174034 - acc: 0.9960809350013733\n",
      "Epoch 21/200 - val_loss: 0.020622918382287025 - val_acc: 0.9963937997817993\n"
     ]
    },
    {
     "name": "stderr",
     "output_type": "stream",
     "text": [
      "[I 2023-09-22 20:54:08,467] Trial 23 finished with value: 0.8721174004192872 and parameters: {'num_hidden_layers': 1, 'num_units': 63, 'learning_rate': 0.0010404741699960973, 'neuron_reduction_rate': 0.9206701670358962, 'dropout_rate': 0.12834600035017174}. Best is trial 4 with value: 0.8732984293193717.\n"
     ]
    },
    {
     "name": "stdout",
     "output_type": "stream",
     "text": [
      "Epoch 1/200 - loss: 0.060486871749162674 - acc: 0.990373432636261\n",
      "Epoch 1/200 - val_loss: 0.024747222661972046 - val_acc: 0.995983362197876\n",
      "Epoch 11/200 - loss: 0.021606480702757835 - acc: 0.9961004853248596\n",
      "Epoch 11/200 - val_loss: 0.020442109555006027 - val_acc: 0.9964231252670288\n"
     ]
    },
    {
     "name": "stderr",
     "output_type": "stream",
     "text": [
      "[I 2023-09-22 20:54:43,120] Trial 24 finished with value: 0.8721174004192872 and parameters: {'num_hidden_layers': 1, 'num_units': 95, 'learning_rate': 0.0018647069084739803, 'neuron_reduction_rate': 0.6453059015406809, 'dropout_rate': 0.22173202768418734}. Best is trial 4 with value: 0.8732984293193717.\n"
     ]
    },
    {
     "name": "stdout",
     "output_type": "stream",
     "text": [
      "Epoch 1/200 - loss: 0.043494440615177155 - acc: 0.9921032786369324\n",
      "Epoch 1/200 - val_loss: 0.022038815543055534 - val_acc: 0.9962765574455261\n",
      "Epoch 11/200 - loss: 0.021983645856380463 - acc: 0.9961004853248596\n",
      "Epoch 11/200 - val_loss: 0.020503487437963486 - val_acc: 0.9963644742965698\n"
     ]
    },
    {
     "name": "stderr",
     "output_type": "stream",
     "text": [
      "[I 2023-09-22 20:55:13,728] Trial 25 finished with value: 0.8721174004192872 and parameters: {'num_hidden_layers': 1, 'num_units': 64, 'learning_rate': 0.005019095542539284, 'neuron_reduction_rate': 0.8968744244841829, 'dropout_rate': 0.17450420203887015}. Best is trial 4 with value: 0.8732984293193717.\n"
     ]
    },
    {
     "name": "stdout",
     "output_type": "stream",
     "text": [
      "Epoch 1/200 - loss: 0.3267882168292999 - acc: 0.8807967305183411\n",
      "Epoch 1/200 - val_loss: 0.06378573924303055 - val_acc: 0.9940482974052429\n",
      "Epoch 11/200 - loss: 0.023440910503268242 - acc: 0.9957975149154663\n",
      "Epoch 11/200 - val_loss: 0.0216844342648983 - val_acc: 0.9960126876831055\n",
      "Epoch 21/200 - loss: 0.02209421806037426 - acc: 0.9958072900772095\n",
      "Epoch 21/200 - val_loss: 0.02056259475648403 - val_acc: 0.9963644742965698\n"
     ]
    },
    {
     "name": "stderr",
     "output_type": "stream",
     "text": [
      "[I 2023-09-22 20:56:35,444] Trial 26 finished with value: 0.8673684210526315 and parameters: {'num_hidden_layers': 2, 'num_units': 42, 'learning_rate': 0.0003984398009844986, 'neuron_reduction_rate': 0.7747399232797101, 'dropout_rate': 0.26877681369786316}. Best is trial 4 with value: 0.8732984293193717.\n"
     ]
    },
    {
     "name": "stdout",
     "output_type": "stream",
     "text": [
      "Epoch 1/200 - loss: 0.11496862769126892 - acc: 0.9743356704711914\n",
      "Epoch 1/200 - val_loss: 0.03430099040269852 - val_acc: 0.9934619665145874\n",
      "Epoch 11/200 - loss: 0.021620972082018852 - acc: 0.9961004853248596\n",
      "Epoch 11/200 - val_loss: 0.02056724578142166 - val_acc: 0.9964231252670288\n",
      "Epoch 21/200 - loss: 0.021218689158558846 - acc: 0.9961102604866028\n",
      "Epoch 21/200 - val_loss: 0.02015070803463459 - val_acc: 0.9963937997817993\n"
     ]
    },
    {
     "name": "stderr",
     "output_type": "stream",
     "text": [
      "[I 2023-09-22 20:57:26,208] Trial 27 finished with value: 0.8721174004192872 and parameters: {'num_hidden_layers': 1, 'num_units': 57, 'learning_rate': 0.0011915347126656363, 'neuron_reduction_rate': 0.5517560379168421, 'dropout_rate': 0.22440983713600582}. Best is trial 4 with value: 0.8732984293193717.\n"
     ]
    },
    {
     "name": "stdout",
     "output_type": "stream",
     "text": [
      "Epoch 1/200 - loss: 0.0361621230840683 - acc: 0.991976261138916\n",
      "Epoch 1/200 - val_loss: 0.026250185444951057 - val_acc: 0.9946346879005432\n",
      "Epoch 11/200 - loss: 0.023250441998243332 - acc: 0.9959734678268433\n",
      "Epoch 11/200 - val_loss: 0.021399950608611107 - val_acc: 0.9964231252670288\n"
     ]
    },
    {
     "name": "stderr",
     "output_type": "stream",
     "text": [
      "[I 2023-09-22 20:58:21,071] Trial 28 finished with value: 0.8712041884816754 and parameters: {'num_hidden_layers': 2, 'num_units': 38, 'learning_rate': 0.01814605982512419, 'neuron_reduction_rate': 0.6549822560550007, 'dropout_rate': 0.14617046555242327}. Best is trial 4 with value: 0.8732984293193717.\n"
     ]
    },
    {
     "name": "stdout",
     "output_type": "stream",
     "text": [
      "Epoch 1/200 - loss: 0.4752635955810547 - acc: 0.8172515630722046\n",
      "Epoch 1/200 - val_loss: 0.16569530963897705 - val_acc: 0.9914975762367249\n",
      "Epoch 11/200 - loss: 0.027589816600084305 - acc: 0.9950645565986633\n",
      "Epoch 11/200 - val_loss: 0.02234099805355072 - val_acc: 0.9963937997817993\n",
      "Epoch 21/200 - loss: 0.024819420650601387 - acc: 0.9955238699913025\n",
      "Epoch 21/200 - val_loss: 0.021517442539334297 - val_acc: 0.9963937997817993\n"
     ]
    },
    {
     "name": "stderr",
     "output_type": "stream",
     "text": [
      "[I 2023-09-22 21:00:27,062] Trial 29 finished with value: 0.8709338929695698 and parameters: {'num_hidden_layers': 3, 'num_units': 40, 'learning_rate': 0.00032370203399192005, 'neuron_reduction_rate': 0.7139262135326825, 'dropout_rate': 0.35200863460039605}. Best is trial 4 with value: 0.8732984293193717.\n"
     ]
    },
    {
     "name": "stdout",
     "output_type": "stream",
     "text": [
      "Epoch 1/200 - loss: 0.12658557295799255 - acc: 0.9831804037094116\n",
      "Epoch 1/200 - val_loss: 0.05125679075717926 - val_acc: 0.9875689148902893\n",
      "Epoch 11/200 - loss: 0.021937550976872444 - acc: 0.9961004853248596\n",
      "Epoch 11/200 - val_loss: 0.020946364849805832 - val_acc: 0.9964231252670288\n",
      "Epoch 21/200 - loss: 0.02137814275920391 - acc: 0.996120035648346\n",
      "Epoch 21/200 - val_loss: 0.020402556285262108 - val_acc: 0.9964231252670288\n"
     ]
    },
    {
     "name": "stderr",
     "output_type": "stream",
     "text": [
      "[I 2023-09-22 21:01:37,248] Trial 30 finished with value: 0.8723849372384939 and parameters: {'num_hidden_layers': 1, 'num_units': 51, 'learning_rate': 0.0008200864709738348, 'neuron_reduction_rate': 0.6447939010511747, 'dropout_rate': 0.19080678262851358}. Best is trial 4 with value: 0.8732984293193717.\n"
     ]
    },
    {
     "name": "stdout",
     "output_type": "stream",
     "text": [
      "Epoch 1/200 - loss: 0.17051716148853302 - acc: 0.9542713761329651\n",
      "Epoch 1/200 - val_loss: 0.05280723050236702 - val_acc: 0.9871290922164917\n",
      "Epoch 11/200 - loss: 0.021881218999624252 - acc: 0.9960907101631165\n",
      "Epoch 11/200 - val_loss: 0.020913569256663322 - val_acc: 0.9964231252670288\n",
      "Epoch 21/200 - loss: 0.021312158554792404 - acc: 0.9961004853248596\n",
      "Epoch 21/200 - val_loss: 0.020388340577483177 - val_acc: 0.9964231252670288\n"
     ]
    },
    {
     "name": "stderr",
     "output_type": "stream",
     "text": [
      "[I 2023-09-22 21:02:39,156] Trial 31 finished with value: 0.8721174004192872 and parameters: {'num_hidden_layers': 1, 'num_units': 53, 'learning_rate': 0.000801336977497399, 'neuron_reduction_rate': 0.6753695498256043, 'dropout_rate': 0.1894260897262743}. Best is trial 4 with value: 0.8732984293193717.\n"
     ]
    },
    {
     "name": "stdout",
     "output_type": "stream",
     "text": [
      "Epoch 1/200 - loss: 0.07278785854578018 - acc: 0.9873828291893005\n",
      "Epoch 1/200 - val_loss: 0.02433069795370102 - val_acc: 0.9961006045341492\n"
     ]
    },
    {
     "name": "stderr",
     "output_type": "stream",
     "text": [
      "[W 2023-09-22 21:02:55,031] Trial 32 failed with parameters: {'num_hidden_layers': 1, 'num_units': 74, 'learning_rate': 0.0016878954588670848, 'neuron_reduction_rate': 0.4687466429639684, 'dropout_rate': 0.25495130503882535} because of the following error: KeyboardInterrupt().\n",
      "Traceback (most recent call last):\n",
      "  File \"C:\\ProgramData\\miniconda3\\envs\\tfgpu\\lib\\site-packages\\optuna\\study\\_optimize.py\", line 200, in _run_trial\n",
      "    value_or_values = func(trial)\n",
      "  File \"C:\\Users\\medici\\AppData\\Local\\Temp\\ipykernel_2856\\2882808499.py\", line 34, in objective\n",
      "    callbacks=[early_stopping, verbose_callback], batch_size=128, verbose=0)\n",
      "  File \"C:\\ProgramData\\miniconda3\\envs\\tfgpu\\lib\\site-packages\\tensorflow\\python\\keras\\engine\\training.py\", line 1193, in fit\n",
      "    tmp_logs = self.train_function(iterator)\n",
      "  File \"C:\\ProgramData\\miniconda3\\envs\\tfgpu\\lib\\site-packages\\tensorflow\\python\\eager\\def_function.py\", line 885, in __call__\n",
      "    result = self._call(*args, **kwds)\n",
      "  File \"C:\\ProgramData\\miniconda3\\envs\\tfgpu\\lib\\site-packages\\tensorflow\\python\\eager\\def_function.py\", line 917, in _call\n",
      "    return self._stateless_fn(*args, **kwds)  # pylint: disable=not-callable\n",
      "  File \"C:\\ProgramData\\miniconda3\\envs\\tfgpu\\lib\\site-packages\\tensorflow\\python\\eager\\function.py\", line 3040, in __call__\n",
      "    filtered_flat_args, captured_inputs=graph_function.captured_inputs)  # pylint: disable=protected-access\n",
      "  File \"C:\\ProgramData\\miniconda3\\envs\\tfgpu\\lib\\site-packages\\tensorflow\\python\\eager\\function.py\", line 1964, in _call_flat\n",
      "    ctx, args, cancellation_manager=cancellation_manager))\n",
      "  File \"C:\\ProgramData\\miniconda3\\envs\\tfgpu\\lib\\site-packages\\tensorflow\\python\\eager\\function.py\", line 596, in call\n",
      "    ctx=ctx)\n",
      "  File \"C:\\ProgramData\\miniconda3\\envs\\tfgpu\\lib\\site-packages\\tensorflow\\python\\eager\\execute.py\", line 60, in quick_execute\n",
      "    inputs, attrs, num_outputs)\n",
      "KeyboardInterrupt\n",
      "[W 2023-09-22 21:02:55,033] Trial 32 failed with value None.\n"
     ]
    },
    {
     "ename": "KeyboardInterrupt",
     "evalue": "",
     "output_type": "error",
     "traceback": [
      "\u001b[1;31m---------------------------------------------------------------------------\u001b[0m",
      "\u001b[1;31mKeyboardInterrupt\u001b[0m                         Traceback (most recent call last)",
      "\u001b[1;32m~\\AppData\\Local\\Temp\\ipykernel_2856\\2505818280.py\u001b[0m in \u001b[0;36m<module>\u001b[1;34m\u001b[0m\n\u001b[0;32m      1\u001b[0m \u001b[0mstudy\u001b[0m \u001b[1;33m=\u001b[0m \u001b[0moptuna\u001b[0m\u001b[1;33m.\u001b[0m\u001b[0mcreate_study\u001b[0m\u001b[1;33m(\u001b[0m\u001b[0mdirection\u001b[0m\u001b[1;33m=\u001b[0m\u001b[1;34m'maximize'\u001b[0m\u001b[1;33m)\u001b[0m  \u001b[1;31m# 최대화 문제로 설정\u001b[0m\u001b[1;33m\u001b[0m\u001b[1;33m\u001b[0m\u001b[0m\n\u001b[1;32m----> 2\u001b[1;33m \u001b[0mstudy\u001b[0m\u001b[1;33m.\u001b[0m\u001b[0moptimize\u001b[0m\u001b[1;33m(\u001b[0m\u001b[0mobjective\u001b[0m\u001b[1;33m,\u001b[0m \u001b[0mn_trials\u001b[0m\u001b[1;33m=\u001b[0m\u001b[1;36m50\u001b[0m\u001b[1;33m)\u001b[0m  \u001b[1;31m# n_trials은 시도할 하이퍼파라미터 조합의 수\u001b[0m\u001b[1;33m\u001b[0m\u001b[1;33m\u001b[0m\u001b[0m\n\u001b[0m\u001b[0;32m      3\u001b[0m \u001b[1;33m\u001b[0m\u001b[0m\n\u001b[0;32m      4\u001b[0m \u001b[0mbest_params\u001b[0m \u001b[1;33m=\u001b[0m \u001b[0mstudy\u001b[0m\u001b[1;33m.\u001b[0m\u001b[0mbest_params\u001b[0m\u001b[1;33m\u001b[0m\u001b[1;33m\u001b[0m\u001b[0m\n\u001b[0;32m      5\u001b[0m \u001b[0mbest_accuracy\u001b[0m \u001b[1;33m=\u001b[0m \u001b[0mstudy\u001b[0m\u001b[1;33m.\u001b[0m\u001b[0mbest_value\u001b[0m\u001b[1;33m\u001b[0m\u001b[1;33m\u001b[0m\u001b[0m\n",
      "\u001b[1;32mC:\\ProgramData\\miniconda3\\envs\\tfgpu\\lib\\site-packages\\optuna\\study\\study.py\u001b[0m in \u001b[0;36moptimize\u001b[1;34m(self, func, n_trials, timeout, n_jobs, catch, callbacks, gc_after_trial, show_progress_bar)\u001b[0m\n\u001b[0;32m    449\u001b[0m             \u001b[0mcallbacks\u001b[0m\u001b[1;33m=\u001b[0m\u001b[0mcallbacks\u001b[0m\u001b[1;33m,\u001b[0m\u001b[1;33m\u001b[0m\u001b[1;33m\u001b[0m\u001b[0m\n\u001b[0;32m    450\u001b[0m             \u001b[0mgc_after_trial\u001b[0m\u001b[1;33m=\u001b[0m\u001b[0mgc_after_trial\u001b[0m\u001b[1;33m,\u001b[0m\u001b[1;33m\u001b[0m\u001b[1;33m\u001b[0m\u001b[0m\n\u001b[1;32m--> 451\u001b[1;33m             \u001b[0mshow_progress_bar\u001b[0m\u001b[1;33m=\u001b[0m\u001b[0mshow_progress_bar\u001b[0m\u001b[1;33m,\u001b[0m\u001b[1;33m\u001b[0m\u001b[1;33m\u001b[0m\u001b[0m\n\u001b[0m\u001b[0;32m    452\u001b[0m         )\n\u001b[0;32m    453\u001b[0m \u001b[1;33m\u001b[0m\u001b[0m\n",
      "\u001b[1;32mC:\\ProgramData\\miniconda3\\envs\\tfgpu\\lib\\site-packages\\optuna\\study\\_optimize.py\u001b[0m in \u001b[0;36m_optimize\u001b[1;34m(study, func, n_trials, timeout, n_jobs, catch, callbacks, gc_after_trial, show_progress_bar)\u001b[0m\n\u001b[0;32m     74\u001b[0m                 \u001b[0mreseed_sampler_rng\u001b[0m\u001b[1;33m=\u001b[0m\u001b[1;32mFalse\u001b[0m\u001b[1;33m,\u001b[0m\u001b[1;33m\u001b[0m\u001b[1;33m\u001b[0m\u001b[0m\n\u001b[0;32m     75\u001b[0m                 \u001b[0mtime_start\u001b[0m\u001b[1;33m=\u001b[0m\u001b[1;32mNone\u001b[0m\u001b[1;33m,\u001b[0m\u001b[1;33m\u001b[0m\u001b[1;33m\u001b[0m\u001b[0m\n\u001b[1;32m---> 76\u001b[1;33m                 \u001b[0mprogress_bar\u001b[0m\u001b[1;33m=\u001b[0m\u001b[0mprogress_bar\u001b[0m\u001b[1;33m,\u001b[0m\u001b[1;33m\u001b[0m\u001b[1;33m\u001b[0m\u001b[0m\n\u001b[0m\u001b[0;32m     77\u001b[0m             )\n\u001b[0;32m     78\u001b[0m         \u001b[1;32melse\u001b[0m\u001b[1;33m:\u001b[0m\u001b[1;33m\u001b[0m\u001b[1;33m\u001b[0m\u001b[0m\n",
      "\u001b[1;32mC:\\ProgramData\\miniconda3\\envs\\tfgpu\\lib\\site-packages\\optuna\\study\\_optimize.py\u001b[0m in \u001b[0;36m_optimize_sequential\u001b[1;34m(study, func, n_trials, timeout, catch, callbacks, gc_after_trial, reseed_sampler_rng, time_start, progress_bar)\u001b[0m\n\u001b[0;32m    161\u001b[0m \u001b[1;33m\u001b[0m\u001b[0m\n\u001b[0;32m    162\u001b[0m         \u001b[1;32mtry\u001b[0m\u001b[1;33m:\u001b[0m\u001b[1;33m\u001b[0m\u001b[1;33m\u001b[0m\u001b[0m\n\u001b[1;32m--> 163\u001b[1;33m             \u001b[0mfrozen_trial\u001b[0m \u001b[1;33m=\u001b[0m \u001b[0m_run_trial\u001b[0m\u001b[1;33m(\u001b[0m\u001b[0mstudy\u001b[0m\u001b[1;33m,\u001b[0m \u001b[0mfunc\u001b[0m\u001b[1;33m,\u001b[0m \u001b[0mcatch\u001b[0m\u001b[1;33m)\u001b[0m\u001b[1;33m\u001b[0m\u001b[1;33m\u001b[0m\u001b[0m\n\u001b[0m\u001b[0;32m    164\u001b[0m         \u001b[1;32mfinally\u001b[0m\u001b[1;33m:\u001b[0m\u001b[1;33m\u001b[0m\u001b[1;33m\u001b[0m\u001b[0m\n\u001b[0;32m    165\u001b[0m             \u001b[1;31m# The following line mitigates memory problems that can be occurred in some\u001b[0m\u001b[1;33m\u001b[0m\u001b[1;33m\u001b[0m\u001b[1;33m\u001b[0m\u001b[0m\n",
      "\u001b[1;32mC:\\ProgramData\\miniconda3\\envs\\tfgpu\\lib\\site-packages\\optuna\\study\\_optimize.py\u001b[0m in \u001b[0;36m_run_trial\u001b[1;34m(study, func, catch)\u001b[0m\n\u001b[0;32m    249\u001b[0m         \u001b[1;32mand\u001b[0m \u001b[1;32mnot\u001b[0m \u001b[0misinstance\u001b[0m\u001b[1;33m(\u001b[0m\u001b[0mfunc_err\u001b[0m\u001b[1;33m,\u001b[0m \u001b[0mcatch\u001b[0m\u001b[1;33m)\u001b[0m\u001b[1;33m\u001b[0m\u001b[1;33m\u001b[0m\u001b[0m\n\u001b[0;32m    250\u001b[0m     ):\n\u001b[1;32m--> 251\u001b[1;33m         \u001b[1;32mraise\u001b[0m \u001b[0mfunc_err\u001b[0m\u001b[1;33m\u001b[0m\u001b[1;33m\u001b[0m\u001b[0m\n\u001b[0m\u001b[0;32m    252\u001b[0m     \u001b[1;32mreturn\u001b[0m \u001b[0mfrozen_trial\u001b[0m\u001b[1;33m\u001b[0m\u001b[1;33m\u001b[0m\u001b[0m\n\u001b[0;32m    253\u001b[0m \u001b[1;33m\u001b[0m\u001b[0m\n",
      "\u001b[1;32mC:\\ProgramData\\miniconda3\\envs\\tfgpu\\lib\\site-packages\\optuna\\study\\_optimize.py\u001b[0m in \u001b[0;36m_run_trial\u001b[1;34m(study, func, catch)\u001b[0m\n\u001b[0;32m    198\u001b[0m     \u001b[1;32mwith\u001b[0m \u001b[0mget_heartbeat_thread\u001b[0m\u001b[1;33m(\u001b[0m\u001b[0mtrial\u001b[0m\u001b[1;33m.\u001b[0m\u001b[0m_trial_id\u001b[0m\u001b[1;33m,\u001b[0m \u001b[0mstudy\u001b[0m\u001b[1;33m.\u001b[0m\u001b[0m_storage\u001b[0m\u001b[1;33m)\u001b[0m\u001b[1;33m:\u001b[0m\u001b[1;33m\u001b[0m\u001b[1;33m\u001b[0m\u001b[0m\n\u001b[0;32m    199\u001b[0m         \u001b[1;32mtry\u001b[0m\u001b[1;33m:\u001b[0m\u001b[1;33m\u001b[0m\u001b[1;33m\u001b[0m\u001b[0m\n\u001b[1;32m--> 200\u001b[1;33m             \u001b[0mvalue_or_values\u001b[0m \u001b[1;33m=\u001b[0m \u001b[0mfunc\u001b[0m\u001b[1;33m(\u001b[0m\u001b[0mtrial\u001b[0m\u001b[1;33m)\u001b[0m\u001b[1;33m\u001b[0m\u001b[1;33m\u001b[0m\u001b[0m\n\u001b[0m\u001b[0;32m    201\u001b[0m         \u001b[1;32mexcept\u001b[0m \u001b[0mexceptions\u001b[0m\u001b[1;33m.\u001b[0m\u001b[0mTrialPruned\u001b[0m \u001b[1;32mas\u001b[0m \u001b[0me\u001b[0m\u001b[1;33m:\u001b[0m\u001b[1;33m\u001b[0m\u001b[1;33m\u001b[0m\u001b[0m\n\u001b[0;32m    202\u001b[0m             \u001b[1;31m# TODO(mamu): Handle multi-objective cases.\u001b[0m\u001b[1;33m\u001b[0m\u001b[1;33m\u001b[0m\u001b[1;33m\u001b[0m\u001b[0m\n",
      "\u001b[1;32m~\\AppData\\Local\\Temp\\ipykernel_2856\\2882808499.py\u001b[0m in \u001b[0;36mobjective\u001b[1;34m(trial)\u001b[0m\n\u001b[0;32m     32\u001b[0m     \u001b[1;31m# 모델 훈련 및 평가\u001b[0m\u001b[1;33m\u001b[0m\u001b[1;33m\u001b[0m\u001b[1;33m\u001b[0m\u001b[0m\n\u001b[0;32m     33\u001b[0m     history = model.fit(x_train, y_train, epochs=200, validation_data=(x_valid, y_valid),\n\u001b[1;32m---> 34\u001b[1;33m                         callbacks=[early_stopping, verbose_callback], batch_size=128, verbose=0)\n\u001b[0m\u001b[0;32m     35\u001b[0m \u001b[1;33m\u001b[0m\u001b[0m\n\u001b[0;32m     36\u001b[0m     \u001b[1;31m# 검증 데이터에 대한 예측을 생성\u001b[0m\u001b[1;33m\u001b[0m\u001b[1;33m\u001b[0m\u001b[1;33m\u001b[0m\u001b[0m\n",
      "\u001b[1;32mC:\\ProgramData\\miniconda3\\envs\\tfgpu\\lib\\site-packages\\tensorflow\\python\\keras\\engine\\training.py\u001b[0m in \u001b[0;36mfit\u001b[1;34m(self, x, y, batch_size, epochs, verbose, callbacks, validation_split, validation_data, shuffle, class_weight, sample_weight, initial_epoch, steps_per_epoch, validation_steps, validation_batch_size, validation_freq, max_queue_size, workers, use_multiprocessing)\u001b[0m\n\u001b[0;32m   1191\u001b[0m                 _r=1):\n\u001b[0;32m   1192\u001b[0m               \u001b[0mcallbacks\u001b[0m\u001b[1;33m.\u001b[0m\u001b[0mon_train_batch_begin\u001b[0m\u001b[1;33m(\u001b[0m\u001b[0mstep\u001b[0m\u001b[1;33m)\u001b[0m\u001b[1;33m\u001b[0m\u001b[1;33m\u001b[0m\u001b[0m\n\u001b[1;32m-> 1193\u001b[1;33m               \u001b[0mtmp_logs\u001b[0m \u001b[1;33m=\u001b[0m \u001b[0mself\u001b[0m\u001b[1;33m.\u001b[0m\u001b[0mtrain_function\u001b[0m\u001b[1;33m(\u001b[0m\u001b[0miterator\u001b[0m\u001b[1;33m)\u001b[0m\u001b[1;33m\u001b[0m\u001b[1;33m\u001b[0m\u001b[0m\n\u001b[0m\u001b[0;32m   1194\u001b[0m               \u001b[1;32mif\u001b[0m \u001b[0mdata_handler\u001b[0m\u001b[1;33m.\u001b[0m\u001b[0mshould_sync\u001b[0m\u001b[1;33m:\u001b[0m\u001b[1;33m\u001b[0m\u001b[1;33m\u001b[0m\u001b[0m\n\u001b[0;32m   1195\u001b[0m                 \u001b[0mcontext\u001b[0m\u001b[1;33m.\u001b[0m\u001b[0masync_wait\u001b[0m\u001b[1;33m(\u001b[0m\u001b[1;33m)\u001b[0m\u001b[1;33m\u001b[0m\u001b[1;33m\u001b[0m\u001b[0m\n",
      "\u001b[1;32mC:\\ProgramData\\miniconda3\\envs\\tfgpu\\lib\\site-packages\\tensorflow\\python\\eager\\def_function.py\u001b[0m in \u001b[0;36m__call__\u001b[1;34m(self, *args, **kwds)\u001b[0m\n\u001b[0;32m    883\u001b[0m \u001b[1;33m\u001b[0m\u001b[0m\n\u001b[0;32m    884\u001b[0m       \u001b[1;32mwith\u001b[0m \u001b[0mOptionalXlaContext\u001b[0m\u001b[1;33m(\u001b[0m\u001b[0mself\u001b[0m\u001b[1;33m.\u001b[0m\u001b[0m_jit_compile\u001b[0m\u001b[1;33m)\u001b[0m\u001b[1;33m:\u001b[0m\u001b[1;33m\u001b[0m\u001b[1;33m\u001b[0m\u001b[0m\n\u001b[1;32m--> 885\u001b[1;33m         \u001b[0mresult\u001b[0m \u001b[1;33m=\u001b[0m \u001b[0mself\u001b[0m\u001b[1;33m.\u001b[0m\u001b[0m_call\u001b[0m\u001b[1;33m(\u001b[0m\u001b[1;33m*\u001b[0m\u001b[0margs\u001b[0m\u001b[1;33m,\u001b[0m \u001b[1;33m**\u001b[0m\u001b[0mkwds\u001b[0m\u001b[1;33m)\u001b[0m\u001b[1;33m\u001b[0m\u001b[1;33m\u001b[0m\u001b[0m\n\u001b[0m\u001b[0;32m    886\u001b[0m \u001b[1;33m\u001b[0m\u001b[0m\n\u001b[0;32m    887\u001b[0m       \u001b[0mnew_tracing_count\u001b[0m \u001b[1;33m=\u001b[0m \u001b[0mself\u001b[0m\u001b[1;33m.\u001b[0m\u001b[0mexperimental_get_tracing_count\u001b[0m\u001b[1;33m(\u001b[0m\u001b[1;33m)\u001b[0m\u001b[1;33m\u001b[0m\u001b[1;33m\u001b[0m\u001b[0m\n",
      "\u001b[1;32mC:\\ProgramData\\miniconda3\\envs\\tfgpu\\lib\\site-packages\\tensorflow\\python\\eager\\def_function.py\u001b[0m in \u001b[0;36m_call\u001b[1;34m(self, *args, **kwds)\u001b[0m\n\u001b[0;32m    915\u001b[0m       \u001b[1;31m# In this case we have created variables on the first call, so we run the\u001b[0m\u001b[1;33m\u001b[0m\u001b[1;33m\u001b[0m\u001b[1;33m\u001b[0m\u001b[0m\n\u001b[0;32m    916\u001b[0m       \u001b[1;31m# defunned version which is guaranteed to never create variables.\u001b[0m\u001b[1;33m\u001b[0m\u001b[1;33m\u001b[0m\u001b[1;33m\u001b[0m\u001b[0m\n\u001b[1;32m--> 917\u001b[1;33m       \u001b[1;32mreturn\u001b[0m \u001b[0mself\u001b[0m\u001b[1;33m.\u001b[0m\u001b[0m_stateless_fn\u001b[0m\u001b[1;33m(\u001b[0m\u001b[1;33m*\u001b[0m\u001b[0margs\u001b[0m\u001b[1;33m,\u001b[0m \u001b[1;33m**\u001b[0m\u001b[0mkwds\u001b[0m\u001b[1;33m)\u001b[0m  \u001b[1;31m# pylint: disable=not-callable\u001b[0m\u001b[1;33m\u001b[0m\u001b[1;33m\u001b[0m\u001b[0m\n\u001b[0m\u001b[0;32m    918\u001b[0m     \u001b[1;32melif\u001b[0m \u001b[0mself\u001b[0m\u001b[1;33m.\u001b[0m\u001b[0m_stateful_fn\u001b[0m \u001b[1;32mis\u001b[0m \u001b[1;32mnot\u001b[0m \u001b[1;32mNone\u001b[0m\u001b[1;33m:\u001b[0m\u001b[1;33m\u001b[0m\u001b[1;33m\u001b[0m\u001b[0m\n\u001b[0;32m    919\u001b[0m       \u001b[1;31m# Release the lock early so that multiple threads can perform the call\u001b[0m\u001b[1;33m\u001b[0m\u001b[1;33m\u001b[0m\u001b[1;33m\u001b[0m\u001b[0m\n",
      "\u001b[1;32mC:\\ProgramData\\miniconda3\\envs\\tfgpu\\lib\\site-packages\\tensorflow\\python\\eager\\function.py\u001b[0m in \u001b[0;36m__call__\u001b[1;34m(self, *args, **kwargs)\u001b[0m\n\u001b[0;32m   3038\u001b[0m        filtered_flat_args) = self._maybe_define_function(args, kwargs)\n\u001b[0;32m   3039\u001b[0m     return graph_function._call_flat(\n\u001b[1;32m-> 3040\u001b[1;33m         filtered_flat_args, captured_inputs=graph_function.captured_inputs)  # pylint: disable=protected-access\n\u001b[0m\u001b[0;32m   3041\u001b[0m \u001b[1;33m\u001b[0m\u001b[0m\n\u001b[0;32m   3042\u001b[0m   \u001b[1;33m@\u001b[0m\u001b[0mproperty\u001b[0m\u001b[1;33m\u001b[0m\u001b[1;33m\u001b[0m\u001b[0m\n",
      "\u001b[1;32mC:\\ProgramData\\miniconda3\\envs\\tfgpu\\lib\\site-packages\\tensorflow\\python\\eager\\function.py\u001b[0m in \u001b[0;36m_call_flat\u001b[1;34m(self, args, captured_inputs, cancellation_manager)\u001b[0m\n\u001b[0;32m   1962\u001b[0m       \u001b[1;31m# No tape is watching; skip to running the function.\u001b[0m\u001b[1;33m\u001b[0m\u001b[1;33m\u001b[0m\u001b[1;33m\u001b[0m\u001b[0m\n\u001b[0;32m   1963\u001b[0m       return self._build_call_outputs(self._inference_function.call(\n\u001b[1;32m-> 1964\u001b[1;33m           ctx, args, cancellation_manager=cancellation_manager))\n\u001b[0m\u001b[0;32m   1965\u001b[0m     forward_backward = self._select_forward_and_backward_functions(\n\u001b[0;32m   1966\u001b[0m         \u001b[0margs\u001b[0m\u001b[1;33m,\u001b[0m\u001b[1;33m\u001b[0m\u001b[1;33m\u001b[0m\u001b[0m\n",
      "\u001b[1;32mC:\\ProgramData\\miniconda3\\envs\\tfgpu\\lib\\site-packages\\tensorflow\\python\\eager\\function.py\u001b[0m in \u001b[0;36mcall\u001b[1;34m(self, ctx, args, cancellation_manager)\u001b[0m\n\u001b[0;32m    594\u001b[0m               \u001b[0minputs\u001b[0m\u001b[1;33m=\u001b[0m\u001b[0margs\u001b[0m\u001b[1;33m,\u001b[0m\u001b[1;33m\u001b[0m\u001b[1;33m\u001b[0m\u001b[0m\n\u001b[0;32m    595\u001b[0m               \u001b[0mattrs\u001b[0m\u001b[1;33m=\u001b[0m\u001b[0mattrs\u001b[0m\u001b[1;33m,\u001b[0m\u001b[1;33m\u001b[0m\u001b[1;33m\u001b[0m\u001b[0m\n\u001b[1;32m--> 596\u001b[1;33m               ctx=ctx)\n\u001b[0m\u001b[0;32m    597\u001b[0m         \u001b[1;32melse\u001b[0m\u001b[1;33m:\u001b[0m\u001b[1;33m\u001b[0m\u001b[1;33m\u001b[0m\u001b[0m\n\u001b[0;32m    598\u001b[0m           outputs = execute.execute_with_cancellation(\n",
      "\u001b[1;32mC:\\ProgramData\\miniconda3\\envs\\tfgpu\\lib\\site-packages\\tensorflow\\python\\eager\\execute.py\u001b[0m in \u001b[0;36mquick_execute\u001b[1;34m(op_name, num_outputs, inputs, attrs, ctx, name)\u001b[0m\n\u001b[0;32m     58\u001b[0m     \u001b[0mctx\u001b[0m\u001b[1;33m.\u001b[0m\u001b[0mensure_initialized\u001b[0m\u001b[1;33m(\u001b[0m\u001b[1;33m)\u001b[0m\u001b[1;33m\u001b[0m\u001b[1;33m\u001b[0m\u001b[0m\n\u001b[0;32m     59\u001b[0m     tensors = pywrap_tfe.TFE_Py_Execute(ctx._handle, device_name, op_name,\n\u001b[1;32m---> 60\u001b[1;33m                                         inputs, attrs, num_outputs)\n\u001b[0m\u001b[0;32m     61\u001b[0m   \u001b[1;32mexcept\u001b[0m \u001b[0mcore\u001b[0m\u001b[1;33m.\u001b[0m\u001b[0m_NotOkStatusException\u001b[0m \u001b[1;32mas\u001b[0m \u001b[0me\u001b[0m\u001b[1;33m:\u001b[0m\u001b[1;33m\u001b[0m\u001b[1;33m\u001b[0m\u001b[0m\n\u001b[0;32m     62\u001b[0m     \u001b[1;32mif\u001b[0m \u001b[0mname\u001b[0m \u001b[1;32mis\u001b[0m \u001b[1;32mnot\u001b[0m \u001b[1;32mNone\u001b[0m\u001b[1;33m:\u001b[0m\u001b[1;33m\u001b[0m\u001b[1;33m\u001b[0m\u001b[0m\n",
      "\u001b[1;31mKeyboardInterrupt\u001b[0m: "
     ]
    }
   ],
   "source": [
    "study = optuna.create_study(direction='maximize')  # 최대화 문제로 설정\n",
    "study.optimize(objective, n_trials=50)  # n_trials은 시도할 하이퍼파라미터 조합의 수\n",
    "\n",
    "best_params = study.best_params\n",
    "best_accuracy = study.best_value\n",
    "\n",
    "print(\"Best Hyperparameters:\", best_params)\n",
    "print(\"Best Validation Accuracy:\", best_accuracy)"
   ]
  },
  {
   "cell_type": "markdown",
   "id": "b0440b2b",
   "metadata": {},
   "source": [
    "### 4.3.1 Create submission.csv"
   ]
  },
  {
   "cell_type": "code",
   "execution_count": 72,
   "id": "b269c251",
   "metadata": {},
   "outputs": [],
   "source": [
    "# EarlyStopping 콜백 정의\n",
    "early_stopping = EarlyStopping(monitor='val_loss', patience=10, min_delta=0.0001, restore_best_weights=True)"
   ]
  },
  {
   "cell_type": "code",
   "execution_count": 73,
   "id": "66cef3b4",
   "metadata": {},
   "outputs": [
    {
     "data": {
      "text/plain": [
       "{'num_hidden_layers': 2,\n",
       " 'num_units': 71,\n",
       " 'learning_rate': 9.959937802862932e-05,\n",
       " 'neuron_reduction_rate': 0.9624360355344637,\n",
       " 'dropout_rate': 0.26850153604216426}"
      ]
     },
     "execution_count": 73,
     "metadata": {},
     "output_type": "execute_result"
    }
   ],
   "source": [
    "study.best_params"
   ]
  },
  {
   "cell_type": "code",
   "execution_count": 74,
   "id": "991fcc73",
   "metadata": {},
   "outputs": [],
   "source": [
    "# Trial 4 finished with value: 0.8732984293193717 and parameters:\n",
    "# {'num_hidden_layers': 2, 'num_units': 71, 'learning_rate': 9.959937802862932e-05,\n",
    "# 'neuron_reduction_rate': 0.9624360355344637, 'dropout_rate': 0.26850153604216426}.\n",
    "# Best is trial 4 with value: 0.8732984293193717."
   ]
  },
  {
   "cell_type": "code",
   "execution_count": 75,
   "id": "316bfd9c",
   "metadata": {},
   "outputs": [],
   "source": [
    "num_hidden_layers = 2\n",
    "num_units = 71\n",
    "neuron_reduction_rate = 0.9624360355344637\n",
    "dropout_rate = 0.26850153604216426\n",
    "learning_rate = 9.959937802862932e-05\n",
    "\n",
    "# 모델 구조 정의하기\n",
    "model = Sequential()\n",
    "model.add(Dense(num_units, activation='relu', input_shape=(x_data.shape[1],)))\n",
    "for i in range(1, num_hidden_layers):\n",
    "    num_units = int(num_units * neuron_reduction_rate)  # 뉴런 수 감소\n",
    "    model.add(Dense(num_units, activation='relu'))\n",
    "    model.add(Dropout(dropout_rate))  # 드롭아웃 레이어 추가 및 드롭아웃 비율 조정\n",
    "model.add(Dense(1))\n",
    "model.add(Activation('sigmoid'))\n",
    "model.compile(loss='binary_crossentropy', optimizer=Adam(learning_rate=learning_rate), metrics=['binary_accuracy'])"
   ]
  },
  {
   "cell_type": "code",
   "execution_count": 77,
   "id": "0b1306c5",
   "metadata": {
    "scrolled": false
   },
   "outputs": [
    {
     "name": "stdout",
     "output_type": "stream",
     "text": [
      "Epoch 1/200\n",
      "800/800 [==============================] - 3s 4ms/step - loss: 0.0302 - binary_accuracy: 0.9941 - val_loss: 0.0260 - val_binary_accuracy: 0.9948\n",
      "Epoch 2/200\n",
      "800/800 [==============================] - 3s 4ms/step - loss: 0.0274 - binary_accuracy: 0.9949 - val_loss: 0.0239 - val_binary_accuracy: 0.9957\n",
      "Epoch 3/200\n",
      "800/800 [==============================] - 3s 4ms/step - loss: 0.0258 - binary_accuracy: 0.9955 - val_loss: 0.0229 - val_binary_accuracy: 0.9961\n",
      "Epoch 4/200\n",
      "800/800 [==============================] - 3s 4ms/step - loss: 0.0250 - binary_accuracy: 0.9957 - val_loss: 0.0222 - val_binary_accuracy: 0.9962\n",
      "Epoch 5/200\n",
      "800/800 [==============================] - 3s 4ms/step - loss: 0.0241 - binary_accuracy: 0.9959 - val_loss: 0.0219 - val_binary_accuracy: 0.9962\n",
      "Epoch 6/200\n",
      "800/800 [==============================] - 3s 4ms/step - loss: 0.0236 - binary_accuracy: 0.9959 - val_loss: 0.0216 - val_binary_accuracy: 0.9962\n",
      "Epoch 7/200\n",
      "800/800 [==============================] - 3s 4ms/step - loss: 0.0234 - binary_accuracy: 0.9960 - val_loss: 0.0215 - val_binary_accuracy: 0.9963\n",
      "Epoch 8/200\n",
      "800/800 [==============================] - 3s 4ms/step - loss: 0.0233 - binary_accuracy: 0.9960 - val_loss: 0.0214 - val_binary_accuracy: 0.9963\n",
      "Epoch 9/200\n",
      "800/800 [==============================] - 3s 4ms/step - loss: 0.0233 - binary_accuracy: 0.9960 - val_loss: 0.0213 - val_binary_accuracy: 0.9963\n",
      "Epoch 10/200\n",
      "800/800 [==============================] - 3s 4ms/step - loss: 0.0230 - binary_accuracy: 0.9960 - val_loss: 0.0211 - val_binary_accuracy: 0.9963\n",
      "Epoch 11/200\n",
      "800/800 [==============================] - 3s 4ms/step - loss: 0.0228 - binary_accuracy: 0.9960 - val_loss: 0.0211 - val_binary_accuracy: 0.9964\n",
      "Epoch 12/200\n",
      "800/800 [==============================] - 3s 4ms/step - loss: 0.0228 - binary_accuracy: 0.9960 - val_loss: 0.0210 - val_binary_accuracy: 0.9964\n",
      "Epoch 13/200\n",
      "800/800 [==============================] - 3s 4ms/step - loss: 0.0226 - binary_accuracy: 0.9961 - val_loss: 0.0209 - val_binary_accuracy: 0.9964\n",
      "Epoch 14/200\n",
      "800/800 [==============================] - 3s 4ms/step - loss: 0.0226 - binary_accuracy: 0.9961 - val_loss: 0.0208 - val_binary_accuracy: 0.9964\n",
      "Epoch 15/200\n",
      "800/800 [==============================] - 3s 4ms/step - loss: 0.0223 - binary_accuracy: 0.9961 - val_loss: 0.0208 - val_binary_accuracy: 0.9964\n",
      "Epoch 16/200\n",
      "800/800 [==============================] - 3s 4ms/step - loss: 0.0223 - binary_accuracy: 0.9961 - val_loss: 0.0208 - val_binary_accuracy: 0.9964\n",
      "Epoch 17/200\n",
      "800/800 [==============================] - 3s 4ms/step - loss: 0.0221 - binary_accuracy: 0.9961 - val_loss: 0.0206 - val_binary_accuracy: 0.9964\n",
      "Epoch 18/200\n",
      "800/800 [==============================] - 3s 4ms/step - loss: 0.0223 - binary_accuracy: 0.9961 - val_loss: 0.0207 - val_binary_accuracy: 0.9964\n",
      "Epoch 19/200\n",
      "800/800 [==============================] - 4s 4ms/step - loss: 0.0221 - binary_accuracy: 0.9961 - val_loss: 0.0207 - val_binary_accuracy: 0.9964\n",
      "Epoch 20/200\n",
      "800/800 [==============================] - 4s 4ms/step - loss: 0.0222 - binary_accuracy: 0.9961 - val_loss: 0.0206 - val_binary_accuracy: 0.9964\n",
      "Epoch 21/200\n",
      "800/800 [==============================] - 3s 4ms/step - loss: 0.0222 - binary_accuracy: 0.9961 - val_loss: 0.0206 - val_binary_accuracy: 0.9964\n",
      "Epoch 22/200\n",
      "800/800 [==============================] - 4s 4ms/step - loss: 0.0221 - binary_accuracy: 0.9961 - val_loss: 0.0206 - val_binary_accuracy: 0.9964\n",
      "Epoch 23/200\n",
      "800/800 [==============================] - 3s 4ms/step - loss: 0.0219 - binary_accuracy: 0.9961 - val_loss: 0.0205 - val_binary_accuracy: 0.9964\n",
      "Epoch 24/200\n",
      "800/800 [==============================] - 3s 4ms/step - loss: 0.0220 - binary_accuracy: 0.9961 - val_loss: 0.0205 - val_binary_accuracy: 0.9964\n",
      "Epoch 25/200\n",
      "800/800 [==============================] - 3s 4ms/step - loss: 0.0220 - binary_accuracy: 0.9961 - val_loss: 0.0205 - val_binary_accuracy: 0.9964\n",
      "Epoch 26/200\n",
      "800/800 [==============================] - 3s 4ms/step - loss: 0.0219 - binary_accuracy: 0.9961 - val_loss: 0.0205 - val_binary_accuracy: 0.9964\n",
      "Epoch 27/200\n",
      "800/800 [==============================] - 3s 4ms/step - loss: 0.0220 - binary_accuracy: 0.9961 - val_loss: 0.0205 - val_binary_accuracy: 0.9964\n",
      "Epoch 28/200\n",
      "800/800 [==============================] - 3s 4ms/step - loss: 0.0222 - binary_accuracy: 0.9961 - val_loss: 0.0204 - val_binary_accuracy: 0.9964\n",
      "Epoch 29/200\n",
      "800/800 [==============================] - 3s 4ms/step - loss: 0.0218 - binary_accuracy: 0.9961 - val_loss: 0.0204 - val_binary_accuracy: 0.9964\n",
      "Epoch 30/200\n",
      "800/800 [==============================] - 3s 4ms/step - loss: 0.0217 - binary_accuracy: 0.9961 - val_loss: 0.0204 - val_binary_accuracy: 0.9964\n",
      "Epoch 31/200\n",
      "800/800 [==============================] - 3s 4ms/step - loss: 0.0217 - binary_accuracy: 0.9961 - val_loss: 0.0204 - val_binary_accuracy: 0.9964\n",
      "Epoch 32/200\n",
      "800/800 [==============================] - 3s 4ms/step - loss: 0.0216 - binary_accuracy: 0.9961 - val_loss: 0.0204 - val_binary_accuracy: 0.9964\n",
      "Epoch 33/200\n",
      "800/800 [==============================] - 3s 4ms/step - loss: 0.0217 - binary_accuracy: 0.9961 - val_loss: 0.0203 - val_binary_accuracy: 0.9964\n",
      "Epoch 34/200\n",
      "800/800 [==============================] - 3s 4ms/step - loss: 0.0217 - binary_accuracy: 0.9961 - val_loss: 0.0205 - val_binary_accuracy: 0.9964\n",
      "Epoch 35/200\n",
      "800/800 [==============================] - 3s 4ms/step - loss: 0.0218 - binary_accuracy: 0.9961 - val_loss: 0.0203 - val_binary_accuracy: 0.9964\n",
      "Epoch 36/200\n",
      "800/800 [==============================] - 3s 4ms/step - loss: 0.0216 - binary_accuracy: 0.9961 - val_loss: 0.0203 - val_binary_accuracy: 0.9964\n",
      "Epoch 37/200\n",
      "800/800 [==============================] - 3s 4ms/step - loss: 0.0217 - binary_accuracy: 0.9961 - val_loss: 0.0203 - val_binary_accuracy: 0.9964\n",
      "Epoch 38/200\n",
      "800/800 [==============================] - 3s 4ms/step - loss: 0.0219 - binary_accuracy: 0.9961 - val_loss: 0.0202 - val_binary_accuracy: 0.9964\n",
      "Epoch 39/200\n",
      "800/800 [==============================] - 3s 4ms/step - loss: 0.0218 - binary_accuracy: 0.9961 - val_loss: 0.0202 - val_binary_accuracy: 0.9964\n",
      "Epoch 40/200\n",
      "800/800 [==============================] - 3s 4ms/step - loss: 0.0219 - binary_accuracy: 0.9961 - val_loss: 0.0203 - val_binary_accuracy: 0.9964\n",
      "Epoch 41/200\n",
      "800/800 [==============================] - 3s 4ms/step - loss: 0.0216 - binary_accuracy: 0.9961 - val_loss: 0.0202 - val_binary_accuracy: 0.9964\n",
      "Epoch 42/200\n",
      "800/800 [==============================] - 3s 4ms/step - loss: 0.0216 - binary_accuracy: 0.9961 - val_loss: 0.0204 - val_binary_accuracy: 0.9964\n",
      "Epoch 43/200\n",
      "800/800 [==============================] - 3s 4ms/step - loss: 0.0217 - binary_accuracy: 0.9961 - val_loss: 0.0204 - val_binary_accuracy: 0.9964\n",
      "Epoch 44/200\n",
      "800/800 [==============================] - 3s 4ms/step - loss: 0.0217 - binary_accuracy: 0.9961 - val_loss: 0.0201 - val_binary_accuracy: 0.9964\n",
      "Epoch 45/200\n",
      "800/800 [==============================] - 3s 4ms/step - loss: 0.0213 - binary_accuracy: 0.9961 - val_loss: 0.0202 - val_binary_accuracy: 0.9964\n",
      "Epoch 46/200\n",
      "800/800 [==============================] - 3s 4ms/step - loss: 0.0216 - binary_accuracy: 0.9961 - val_loss: 0.0202 - val_binary_accuracy: 0.9964\n",
      "Epoch 47/200\n",
      "800/800 [==============================] - 3s 4ms/step - loss: 0.0217 - binary_accuracy: 0.9961 - val_loss: 0.0202 - val_binary_accuracy: 0.9964\n",
      "Epoch 48/200\n",
      "800/800 [==============================] - 3s 4ms/step - loss: 0.0215 - binary_accuracy: 0.9961 - val_loss: 0.0201 - val_binary_accuracy: 0.9964\n",
      "Epoch 49/200\n",
      "800/800 [==============================] - 3s 4ms/step - loss: 0.0214 - binary_accuracy: 0.9961 - val_loss: 0.0203 - val_binary_accuracy: 0.9964\n",
      "Epoch 50/200\n",
      "800/800 [==============================] - 3s 4ms/step - loss: 0.0216 - binary_accuracy: 0.9961 - val_loss: 0.0201 - val_binary_accuracy: 0.9964\n",
      "Epoch 51/200\n",
      "800/800 [==============================] - 3s 4ms/step - loss: 0.0216 - binary_accuracy: 0.9961 - val_loss: 0.0202 - val_binary_accuracy: 0.9964\n",
      "Epoch 52/200\n",
      "800/800 [==============================] - 4s 4ms/step - loss: 0.0214 - binary_accuracy: 0.9961 - val_loss: 0.0201 - val_binary_accuracy: 0.9964\n"
     ]
    },
    {
     "name": "stdout",
     "output_type": "stream",
     "text": [
      "Epoch 53/200\n",
      "800/800 [==============================] - 3s 4ms/step - loss: 0.0213 - binary_accuracy: 0.9961 - val_loss: 0.0200 - val_binary_accuracy: 0.9964\n",
      "Epoch 54/200\n",
      "800/800 [==============================] - 3s 4ms/step - loss: 0.0216 - binary_accuracy: 0.9961 - val_loss: 0.0201 - val_binary_accuracy: 0.9964\n",
      "Epoch 55/200\n",
      "800/800 [==============================] - 3s 4ms/step - loss: 0.0212 - binary_accuracy: 0.9961 - val_loss: 0.0201 - val_binary_accuracy: 0.9964\n",
      "Epoch 56/200\n",
      "800/800 [==============================] - 3s 4ms/step - loss: 0.0213 - binary_accuracy: 0.9961 - val_loss: 0.0201 - val_binary_accuracy: 0.9964\n",
      "Epoch 57/200\n",
      "800/800 [==============================] - 3s 4ms/step - loss: 0.0212 - binary_accuracy: 0.9961 - val_loss: 0.0202 - val_binary_accuracy: 0.9964\n",
      "Epoch 58/200\n",
      "800/800 [==============================] - 3s 4ms/step - loss: 0.0211 - binary_accuracy: 0.9961 - val_loss: 0.0201 - val_binary_accuracy: 0.9964\n"
     ]
    },
    {
     "data": {
      "text/plain": [
       "<tensorflow.python.keras.callbacks.History at 0x24d80b62388>"
      ]
     },
     "execution_count": 77,
     "metadata": {},
     "output_type": "execute_result"
    }
   ],
   "source": [
    "model.fit(x_train, y_train, epochs=200, validation_data=(x_valid, y_valid), callbacks=[early_stopping], batch_size=128)"
   ]
  },
  {
   "cell_type": "code",
   "execution_count": 78,
   "id": "d0c0a27b",
   "metadata": {},
   "outputs": [
    {
     "data": {
      "text/plain": [
       "0.8709338929695698"
      ]
     },
     "execution_count": 78,
     "metadata": {},
     "output_type": "execute_result"
    }
   ],
   "source": [
    "predicted_probabilities = model.predict(x_valid)\n",
    "predicted_classes = (predicted_probabilities > 0.5).astype(int)\n",
    "f1score = f1_score(y_valid, predicted_classes)\n",
    "f1score"
   ]
  },
  {
   "cell_type": "code",
   "execution_count": 79,
   "id": "11be3650",
   "metadata": {},
   "outputs": [
    {
     "data": {
      "text/plain": [
       "90954"
      ]
     },
     "execution_count": 79,
     "metadata": {},
     "output_type": "execute_result"
    }
   ],
   "source": [
    "predicted_probabilities = model.predict(x_test)\n",
    "len(predicted_probabilities)"
   ]
  },
  {
   "cell_type": "code",
   "execution_count": 80,
   "id": "30fc6d1e",
   "metadata": {},
   "outputs": [
    {
     "data": {
      "text/html": [
       "<div>\n",
       "<style scoped>\n",
       "    .dataframe tbody tr th:only-of-type {\n",
       "        vertical-align: middle;\n",
       "    }\n",
       "\n",
       "    .dataframe tbody tr th {\n",
       "        vertical-align: top;\n",
       "    }\n",
       "\n",
       "    .dataframe thead th {\n",
       "        text-align: right;\n",
       "    }\n",
       "</style>\n",
       "<table border=\"1\" class=\"dataframe\">\n",
       "  <thead>\n",
       "    <tr style=\"text-align: right;\">\n",
       "      <th></th>\n",
       "      <th>id</th>\n",
       "      <th>Machine failure</th>\n",
       "    </tr>\n",
       "  </thead>\n",
       "  <tbody>\n",
       "    <tr>\n",
       "      <th>0</th>\n",
       "      <td>136429</td>\n",
       "      <td>0.001108</td>\n",
       "    </tr>\n",
       "    <tr>\n",
       "      <th>1</th>\n",
       "      <td>136430</td>\n",
       "      <td>0.000649</td>\n",
       "    </tr>\n",
       "    <tr>\n",
       "      <th>2</th>\n",
       "      <td>136431</td>\n",
       "      <td>0.000780</td>\n",
       "    </tr>\n",
       "    <tr>\n",
       "      <th>3</th>\n",
       "      <td>136432</td>\n",
       "      <td>0.001739</td>\n",
       "    </tr>\n",
       "    <tr>\n",
       "      <th>4</th>\n",
       "      <td>136433</td>\n",
       "      <td>0.001461</td>\n",
       "    </tr>\n",
       "    <tr>\n",
       "      <th>...</th>\n",
       "      <td>...</td>\n",
       "      <td>...</td>\n",
       "    </tr>\n",
       "    <tr>\n",
       "      <th>90949</th>\n",
       "      <td>227378</td>\n",
       "      <td>0.001418</td>\n",
       "    </tr>\n",
       "    <tr>\n",
       "      <th>90950</th>\n",
       "      <td>227379</td>\n",
       "      <td>0.000335</td>\n",
       "    </tr>\n",
       "    <tr>\n",
       "      <th>90951</th>\n",
       "      <td>227380</td>\n",
       "      <td>0.003562</td>\n",
       "    </tr>\n",
       "    <tr>\n",
       "      <th>90952</th>\n",
       "      <td>227381</td>\n",
       "      <td>0.000601</td>\n",
       "    </tr>\n",
       "    <tr>\n",
       "      <th>90953</th>\n",
       "      <td>227382</td>\n",
       "      <td>0.000692</td>\n",
       "    </tr>\n",
       "  </tbody>\n",
       "</table>\n",
       "<p>90954 rows × 2 columns</p>\n",
       "</div>"
      ],
      "text/plain": [
       "           id  Machine failure\n",
       "0      136429         0.001108\n",
       "1      136430         0.000649\n",
       "2      136431         0.000780\n",
       "3      136432         0.001739\n",
       "4      136433         0.001461\n",
       "...       ...              ...\n",
       "90949  227378         0.001418\n",
       "90950  227379         0.000335\n",
       "90951  227380         0.003562\n",
       "90952  227381         0.000601\n",
       "90953  227382         0.000692\n",
       "\n",
       "[90954 rows x 2 columns]"
      ]
     },
     "execution_count": 80,
     "metadata": {},
     "output_type": "execute_result"
    }
   ],
   "source": [
    "result = test_df.copy()\n",
    "result = result.drop(result.columns.difference(['id']), axis=1)\n",
    "result['Machine failure'] = predicted_probabilities\n",
    "result"
   ]
  },
  {
   "cell_type": "code",
   "execution_count": 81,
   "id": "49ea5189",
   "metadata": {},
   "outputs": [],
   "source": [
    "result.to_csv('../data/submission.csv', index = False)"
   ]
  }
 ],
 "metadata": {
  "kernelspec": {
   "display_name": "Python 3 (ipykernel)",
   "language": "python",
   "name": "python3"
  },
  "language_info": {
   "codemirror_mode": {
    "name": "ipython",
    "version": 3
   },
   "file_extension": ".py",
   "mimetype": "text/x-python",
   "name": "python",
   "nbconvert_exporter": "python",
   "pygments_lexer": "ipython3",
   "version": "3.7.16"
  }
 },
 "nbformat": 4,
 "nbformat_minor": 5
}
